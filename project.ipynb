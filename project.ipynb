{
 "cells": [
  {
   "cell_type": "markdown",
   "id": "3857df4f",
   "metadata": {},
   "source": [
    "# 1. Data Preparation"
   ]
  },
  {
   "cell_type": "markdown",
   "id": "f6a5ede6",
   "metadata": {},
   "source": [
    "## 1.1 Data Upload from the external File"
   ]
  },
  {
   "cell_type": "markdown",
   "id": "65c5611a",
   "metadata": {},
   "source": [
    "# 1.1.2 Download the library"
   ]
  },
  {
   "cell_type": "code",
   "execution_count": 1,
   "id": "066ef39f",
   "metadata": {},
   "outputs": [],
   "source": [
    "import pandas as pd\n",
    "import numpy as np\n",
    "import os\n",
    "\n",
    "import warnings\n",
    "warnings.filterwarnings('ignore')"
   ]
  },
  {
   "cell_type": "markdown",
   "id": "07372e23",
   "metadata": {},
   "source": [
    "### 1.1.3 Show the files Names into the Data Folder"
   ]
  },
  {
   "cell_type": "code",
   "execution_count": 2,
   "id": "c253efc4",
   "metadata": {},
   "outputs": [
    {
     "name": "stdout",
     "output_type": "stream",
     "text": [
      "dataset-master\\eclipse_labeled_neg.json\n",
      "dataset-master\\eclipse_labeled_pos.json\n",
      "dataset-master\\firefox_labeled_neg.json\n",
      "dataset-master\\firefox_labeled_pos.json\n",
      "dataset-master\\mozilla_labeled_neg.json\n",
      "dataset-master\\mozilla_labeled_pos.json\n"
     ]
    }
   ],
   "source": [
    "for dirname, _, filenames in os.walk('dataset-master'):\n",
    "    for filename in filenames :\n",
    "        print(os.path.join(dirname,filename))"
   ]
  },
  {
   "cell_type": "markdown",
   "id": "98058fd6",
   "metadata": {},
   "source": [
    "### 1.1.4 Read the Json files using pandas library "
   ]
  },
  {
   "cell_type": "code",
   "execution_count": 3,
   "id": "eeb89a6f",
   "metadata": {},
   "outputs": [
    {
     "name": "stdout",
     "output_type": "stream",
     "text": [
      "===============================Mozilla=============================\n",
      "The shape of Mozilla DataSet Non secure data  (5028, 5)\n",
      "The shape of Mozilla  DataSet secure data  (9336, 3)\n",
      "===============================Firefox=============================\n",
      "The shape of Firefox DataSet Non secure data  (5160, 5)\n",
      "The shape of Firefox  DataSet secure data  (6012, 3)\n",
      "===============================Eclipse=============================\n",
      "The shape of Eclipse DataSet Non secure data  (5101, 5)\n",
      "The shape of Eclipse  DataSet secure data  (7266, 3)\n"
     ]
    }
   ],
   "source": [
    "#Mozilla\n",
    "mozilla_labeled_pos=pd.read_json (r'dataset-master\\mozilla_labeled_pos.json')\n",
    "mozilla_labeled_neg=pd.read_json (r'dataset-master\\mozilla_labeled_neg.json')\n",
    "\n",
    "#Firefox\n",
    "firefox_labeled_pos=pd.read_json (r'dataset-master\\firefox_labeled_pos.json')\n",
    "firefox_labeled_neg=pd.read_json (r'dataset-master\\firefox_labeled_neg.json')\n",
    "\n",
    "#Eclipse\n",
    "eclipse_labeled_pos=pd.read_json (r'dataset-master\\eclipse_labeled_pos.json')\n",
    "eclipse_labeled_neg=pd.read_json (r'dataset-master\\eclipse_labeled_neg.json')\n",
    "\n",
    "\n",
    "print('===============================Mozilla=============================')\n",
    "print('The shape of Mozilla DataSet Non secure data ',mozilla_labeled_pos.shape)\n",
    "print('The shape of Mozilla  DataSet secure data ',mozilla_labeled_neg.shape)\n",
    "\n",
    "print('===============================Firefox=============================')\n",
    "print('The shape of Firefox DataSet Non secure data ',firefox_labeled_pos.shape)\n",
    "print('The shape of Firefox  DataSet secure data ',firefox_labeled_neg.shape)\n",
    "\n",
    "print('===============================Eclipse=============================')\n",
    "print('The shape of Eclipse DataSet Non secure data ',eclipse_labeled_pos.shape)\n",
    "print('The shape of Eclipse  DataSet secure data ',eclipse_labeled_neg.shape)"
   ]
  },
  {
   "cell_type": "markdown",
   "id": "1c26450c",
   "metadata": {},
   "source": [
    "**Visualize a Mozilla DataSet Non secure for example**"
   ]
  },
  {
   "cell_type": "code",
   "execution_count": 4,
   "id": "500fab9a",
   "metadata": {},
   "outputs": [
    {
     "data": {
      "text/html": [
       "<div>\n",
       "<style scoped>\n",
       "    .dataframe tbody tr th:only-of-type {\n",
       "        vertical-align: middle;\n",
       "    }\n",
       "\n",
       "    .dataframe tbody tr th {\n",
       "        vertical-align: top;\n",
       "    }\n",
       "\n",
       "    .dataframe thead th {\n",
       "        text-align: right;\n",
       "    }\n",
       "</style>\n",
       "<table border=\"1\" class=\"dataframe\">\n",
       "  <thead>\n",
       "    <tr style=\"text-align: right;\">\n",
       "      <th></th>\n",
       "      <th>id</th>\n",
       "      <th>title</th>\n",
       "      <th>cve</th>\n",
       "      <th>description</th>\n",
       "      <th>dataset</th>\n",
       "    </tr>\n",
       "  </thead>\n",
       "  <tbody>\n",
       "    <tr>\n",
       "      <th>0</th>\n",
       "      <td>1178972</td>\n",
       "      <td>rubygemnokogiri XML eXternal Entity XXE flaw ...</td>\n",
       "      <td>CVE-2012-6685</td>\n",
       "      <td>This is an automatically created tracking bug...</td>\n",
       "      <td>NaN</td>\n",
       "    </tr>\n",
       "    <tr>\n",
       "      <th>1</th>\n",
       "      <td>1332820</td>\n",
       "      <td>libxml2 outofbounds read</td>\n",
       "      <td>CVE-2016-4483</td>\n",
       "      <td>A vulnerability was found in libxml2 Parsing ...</td>\n",
       "      <td>NaN</td>\n",
       "    </tr>\n",
       "    <tr>\n",
       "      <th>2</th>\n",
       "      <td>1406718</td>\n",
       "      <td>mingwcurl curl printf floating point buffer o...</td>\n",
       "      <td>CVE-2016-9586</td>\n",
       "      <td>This is an automatically created tracking bug...</td>\n",
       "      <td>NaN</td>\n",
       "    </tr>\n",
       "    <tr>\n",
       "      <th>3</th>\n",
       "      <td>1162617</td>\n",
       "      <td>avrbinutils binutils stack overflow in objdum...</td>\n",
       "      <td>CVE-2014-8503</td>\n",
       "      <td>This is an automatically created tracking bug...</td>\n",
       "      <td>NaN</td>\n",
       "    </tr>\n",
       "    <tr>\n",
       "      <th>4</th>\n",
       "      <td>1635896</td>\n",
       "      <td>gnulib heapbased buffer overflow in convertto...</td>\n",
       "      <td>CVE-2018-17942</td>\n",
       "      <td>A flaw was found in Gnulib before 20180923 The...</td>\n",
       "      <td>NaN</td>\n",
       "    </tr>\n",
       "  </tbody>\n",
       "</table>\n",
       "</div>"
      ],
      "text/plain": [
       "        id                                              title             cve  \\\n",
       "0  1178972   rubygemnokogiri XML eXternal Entity XXE flaw ...   CVE-2012-6685   \n",
       "1  1332820                           libxml2 outofbounds read   CVE-2016-4483   \n",
       "2  1406718   mingwcurl curl printf floating point buffer o...   CVE-2016-9586   \n",
       "3  1162617   avrbinutils binutils stack overflow in objdum...   CVE-2014-8503   \n",
       "4  1635896   gnulib heapbased buffer overflow in convertto...  CVE-2018-17942   \n",
       "\n",
       "                                         description dataset  \n",
       "0   This is an automatically created tracking bug...     NaN  \n",
       "1   A vulnerability was found in libxml2 Parsing ...     NaN  \n",
       "2   This is an automatically created tracking bug...     NaN  \n",
       "3   This is an automatically created tracking bug...     NaN  \n",
       "4  A flaw was found in Gnulib before 20180923 The...     NaN  "
      ]
     },
     "execution_count": 4,
     "metadata": {},
     "output_type": "execute_result"
    }
   ],
   "source": [
    "mozilla_labeled_pos.head(5)"
   ]
  },
  {
   "cell_type": "markdown",
   "id": "873f02a2",
   "metadata": {},
   "source": [
    "###  1.1.4 Add column class in the dataSet to distinct between the Secure and no secure data  "
   ]
  },
  {
   "cell_type": "markdown",
   "id": "7355a382",
   "metadata": {},
   "source": [
    "**Start by Non serure dataset for (Mozilla, Firefox and eclipse)**"
   ]
  },
  {
   "cell_type": "code",
   "execution_count": 5,
   "id": "3b5d94bb",
   "metadata": {},
   "outputs": [
    {
     "data": {
      "text/html": [
       "<div>\n",
       "<style scoped>\n",
       "    .dataframe tbody tr th:only-of-type {\n",
       "        vertical-align: middle;\n",
       "    }\n",
       "\n",
       "    .dataframe tbody tr th {\n",
       "        vertical-align: top;\n",
       "    }\n",
       "\n",
       "    .dataframe thead th {\n",
       "        text-align: right;\n",
       "    }\n",
       "</style>\n",
       "<table border=\"1\" class=\"dataframe\">\n",
       "  <thead>\n",
       "    <tr style=\"text-align: right;\">\n",
       "      <th></th>\n",
       "      <th>id</th>\n",
       "      <th>title</th>\n",
       "      <th>cve</th>\n",
       "      <th>description</th>\n",
       "      <th>Classe</th>\n",
       "    </tr>\n",
       "  </thead>\n",
       "  <tbody>\n",
       "    <tr>\n",
       "      <th>0</th>\n",
       "      <td>1178972</td>\n",
       "      <td>rubygemnokogiri XML eXternal Entity XXE flaw ...</td>\n",
       "      <td>CVE-2012-6685</td>\n",
       "      <td>This is an automatically created tracking bug...</td>\n",
       "      <td>Non Secure</td>\n",
       "    </tr>\n",
       "    <tr>\n",
       "      <th>1</th>\n",
       "      <td>1332820</td>\n",
       "      <td>libxml2 outofbounds read</td>\n",
       "      <td>CVE-2016-4483</td>\n",
       "      <td>A vulnerability was found in libxml2 Parsing ...</td>\n",
       "      <td>Non Secure</td>\n",
       "    </tr>\n",
       "    <tr>\n",
       "      <th>2</th>\n",
       "      <td>1406718</td>\n",
       "      <td>mingwcurl curl printf floating point buffer o...</td>\n",
       "      <td>CVE-2016-9586</td>\n",
       "      <td>This is an automatically created tracking bug...</td>\n",
       "      <td>Non Secure</td>\n",
       "    </tr>\n",
       "    <tr>\n",
       "      <th>3</th>\n",
       "      <td>1162617</td>\n",
       "      <td>avrbinutils binutils stack overflow in objdum...</td>\n",
       "      <td>CVE-2014-8503</td>\n",
       "      <td>This is an automatically created tracking bug...</td>\n",
       "      <td>Non Secure</td>\n",
       "    </tr>\n",
       "    <tr>\n",
       "      <th>4</th>\n",
       "      <td>1635896</td>\n",
       "      <td>gnulib heapbased buffer overflow in convertto...</td>\n",
       "      <td>CVE-2018-17942</td>\n",
       "      <td>A flaw was found in Gnulib before 20180923 The...</td>\n",
       "      <td>Non Secure</td>\n",
       "    </tr>\n",
       "    <tr>\n",
       "      <th>5</th>\n",
       "      <td>1418719</td>\n",
       "      <td>jenkins Persisted crosssite scripting vulnera...</td>\n",
       "      <td>CVE-2017-2607</td>\n",
       "      <td>The following flaw was found in Jenkins Jenki...</td>\n",
       "      <td>Non Secure</td>\n",
       "    </tr>\n",
       "    <tr>\n",
       "      <th>6</th>\n",
       "      <td>1664811</td>\n",
       "      <td>ming NULL pointer dereference in pushdup in d...</td>\n",
       "      <td>CVE-2018-20425</td>\n",
       "      <td>This is an automatically created tracking bug...</td>\n",
       "      <td>Non Secure</td>\n",
       "    </tr>\n",
       "    <tr>\n",
       "      <th>7</th>\n",
       "      <td>1671880</td>\n",
       "      <td>nodejslodash lodash Prototype pollution in ut...</td>\n",
       "      <td>CVE-2018-16487</td>\n",
       "      <td>This is an automatically created tracking bug...</td>\n",
       "      <td>Non Secure</td>\n",
       "    </tr>\n",
       "    <tr>\n",
       "      <th>8</th>\n",
       "      <td>1303847</td>\n",
       "      <td>roundcube absolute path traversal vulnerability</td>\n",
       "      <td>CVE-2015-8794</td>\n",
       "      <td>Absolute path traversal vulnerability in prog...</td>\n",
       "      <td>Non Secure</td>\n",
       "    </tr>\n",
       "    <tr>\n",
       "      <th>9</th>\n",
       "      <td>1734410</td>\n",
       "      <td>Django the behavior of the underlying HTMLPar...</td>\n",
       "      <td>CVE-2019-14233</td>\n",
       "      <td>Due to the behavior of the underlying HTMLPars...</td>\n",
       "      <td>Non Secure</td>\n",
       "    </tr>\n",
       "  </tbody>\n",
       "</table>\n",
       "</div>"
      ],
      "text/plain": [
       "        id                                              title             cve  \\\n",
       "0  1178972   rubygemnokogiri XML eXternal Entity XXE flaw ...   CVE-2012-6685   \n",
       "1  1332820                           libxml2 outofbounds read   CVE-2016-4483   \n",
       "2  1406718   mingwcurl curl printf floating point buffer o...   CVE-2016-9586   \n",
       "3  1162617   avrbinutils binutils stack overflow in objdum...   CVE-2014-8503   \n",
       "4  1635896   gnulib heapbased buffer overflow in convertto...  CVE-2018-17942   \n",
       "5  1418719   jenkins Persisted crosssite scripting vulnera...   CVE-2017-2607   \n",
       "6  1664811   ming NULL pointer dereference in pushdup in d...  CVE-2018-20425   \n",
       "7  1671880   nodejslodash lodash Prototype pollution in ut...  CVE-2018-16487   \n",
       "8  1303847    roundcube absolute path traversal vulnerability   CVE-2015-8794   \n",
       "9  1734410   Django the behavior of the underlying HTMLPar...  CVE-2019-14233   \n",
       "\n",
       "                                         description      Classe  \n",
       "0   This is an automatically created tracking bug...  Non Secure  \n",
       "1   A vulnerability was found in libxml2 Parsing ...  Non Secure  \n",
       "2   This is an automatically created tracking bug...  Non Secure  \n",
       "3   This is an automatically created tracking bug...  Non Secure  \n",
       "4  A flaw was found in Gnulib before 20180923 The...  Non Secure  \n",
       "5   The following flaw was found in Jenkins Jenki...  Non Secure  \n",
       "6   This is an automatically created tracking bug...  Non Secure  \n",
       "7   This is an automatically created tracking bug...  Non Secure  \n",
       "8   Absolute path traversal vulnerability in prog...  Non Secure  \n",
       "9  Due to the behavior of the underlying HTMLPars...  Non Secure  "
      ]
     },
     "execution_count": 5,
     "metadata": {},
     "output_type": "execute_result"
    }
   ],
   "source": [
    "\n",
    "mozilla_labeled_pos=mozilla_labeled_pos.rename(columns={\"dataset\": \"Classe\"})\n",
    "firefox_labeled_pos=firefox_labeled_pos.rename(columns={\"dataset\": \"Classe\"})\n",
    "eclipse_labeled_pos=eclipse_labeled_pos.rename(columns={\"dataset\": \"Classe\"})\n",
    "\n",
    "mozilla_labeled_pos['Classe']='Non Secure'\n",
    "firefox_labeled_pos['Classe']='Non Secure'\n",
    "eclipse_labeled_pos['Classe']='Non Secure'\n",
    "\n",
    " \n",
    "# Visualize the 5 first raws of  mozilla_labeled_pos as example \n",
    "mozilla_labeled_pos.head(10)\n"
   ]
  },
  {
   "cell_type": "markdown",
   "id": "d25edb8b",
   "metadata": {},
   "source": [
    "**Now, The serure dataset for (Mozilla, Firefox and eclipse)**"
   ]
  },
  {
   "cell_type": "code",
   "execution_count": 6,
   "id": "38e21901",
   "metadata": {},
   "outputs": [
    {
     "data": {
      "text/html": [
       "<div>\n",
       "<style scoped>\n",
       "    .dataframe tbody tr th:only-of-type {\n",
       "        vertical-align: middle;\n",
       "    }\n",
       "\n",
       "    .dataframe tbody tr th {\n",
       "        vertical-align: top;\n",
       "    }\n",
       "\n",
       "    .dataframe thead th {\n",
       "        text-align: right;\n",
       "    }\n",
       "</style>\n",
       "<table border=\"1\" class=\"dataframe\">\n",
       "  <thead>\n",
       "    <tr style=\"text-align: right;\">\n",
       "      <th></th>\n",
       "      <th>id</th>\n",
       "      <th>title</th>\n",
       "      <th>description</th>\n",
       "      <th>Classe</th>\n",
       "    </tr>\n",
       "  </thead>\n",
       "  <tbody>\n",
       "    <tr>\n",
       "      <th>0</th>\n",
       "      <td>145181</td>\n",
       "      <td>plugin target/bin subtrees only takes 1 value</td>\n",
       "      <td>from bugzilla helper: user-agent: mozilla/5.0 ...</td>\n",
       "      <td>Secure</td>\n",
       "    </tr>\n",
       "    <tr>\n",
       "      <th>1</th>\n",
       "      <td>151705</td>\n",
       "      <td>need to update console cipher preferences with...</td>\n",
       "      <td>from bugzilla helper: user-agent: mozilla/5.0 ...</td>\n",
       "      <td>Secure</td>\n",
       "    </tr>\n",
       "    <tr>\n",
       "      <th>2</th>\n",
       "      <td>159782</td>\n",
       "      <td>in the dirextory server gateway, some links ha...</td>\n",
       "      <td>from bugzilla helper: user-agent: mozilla/5.0 ...</td>\n",
       "      <td>Secure</td>\n",
       "    </tr>\n",
       "    <tr>\n",
       "      <th>3</th>\n",
       "      <td>159365</td>\n",
       "      <td>ldapserver fails to build with gcc4</td>\n",
       "      <td>very minor problems, patch attached.  don't kn...</td>\n",
       "      <td>Secure</td>\n",
       "    </tr>\n",
       "    <tr>\n",
       "      <th>4</th>\n",
       "      <td>159713</td>\n",
       "      <td>admin server will not start</td>\n",
       "      <td></td>\n",
       "      <td>Secure</td>\n",
       "    </tr>\n",
       "    <tr>\n",
       "      <th>5</th>\n",
       "      <td>160122</td>\n",
       "      <td>startconsole binary fails to start</td>\n",
       "      <td>from bugzilla helper: user-agent: mozilla/5.0 ...</td>\n",
       "      <td>Secure</td>\n",
       "    </tr>\n",
       "    <tr>\n",
       "      <th>6</th>\n",
       "      <td>160235</td>\n",
       "      <td>add support for /etc/init scripts</td>\n",
       "      <td>these scripts are used with the init process t...</td>\n",
       "      <td>Secure</td>\n",
       "    </tr>\n",
       "    <tr>\n",
       "      <th>7</th>\n",
       "      <td>161099</td>\n",
       "      <td>admin passwd in clear text in adm.conf</td>\n",
       "      <td>description of problem: this issue is raised b...</td>\n",
       "      <td>Secure</td>\n",
       "    </tr>\n",
       "    <tr>\n",
       "      <th>8</th>\n",
       "      <td>164800</td>\n",
       "      <td>samba how-to contains text that shouldn't be p...</td>\n",
       "      <td>description of problem:  go to the fedora ds h...</td>\n",
       "      <td>Secure</td>\n",
       "    </tr>\n",
       "    <tr>\n",
       "      <th>9</th>\n",
       "      <td>166877</td>\n",
       "      <td>console version needs to be bumped up to 7.1</td>\n",
       "      <td>we need to bump the console version up to 7.1....</td>\n",
       "      <td>Secure</td>\n",
       "    </tr>\n",
       "  </tbody>\n",
       "</table>\n",
       "</div>"
      ],
      "text/plain": [
       "       id                                              title  \\\n",
       "0  145181      plugin target/bin subtrees only takes 1 value   \n",
       "1  151705  need to update console cipher preferences with...   \n",
       "2  159782  in the dirextory server gateway, some links ha...   \n",
       "3  159365                ldapserver fails to build with gcc4   \n",
       "4  159713                        admin server will not start   \n",
       "5  160122                 startconsole binary fails to start   \n",
       "6  160235                  add support for /etc/init scripts   \n",
       "7  161099             admin passwd in clear text in adm.conf   \n",
       "8  164800  samba how-to contains text that shouldn't be p...   \n",
       "9  166877       console version needs to be bumped up to 7.1   \n",
       "\n",
       "                                         description  Classe  \n",
       "0  from bugzilla helper: user-agent: mozilla/5.0 ...  Secure  \n",
       "1  from bugzilla helper: user-agent: mozilla/5.0 ...  Secure  \n",
       "2  from bugzilla helper: user-agent: mozilla/5.0 ...  Secure  \n",
       "3  very minor problems, patch attached.  don't kn...  Secure  \n",
       "4                                                     Secure  \n",
       "5  from bugzilla helper: user-agent: mozilla/5.0 ...  Secure  \n",
       "6  these scripts are used with the init process t...  Secure  \n",
       "7  description of problem: this issue is raised b...  Secure  \n",
       "8  description of problem:  go to the fedora ds h...  Secure  \n",
       "9  we need to bump the console version up to 7.1....  Secure  "
      ]
     },
     "execution_count": 6,
     "metadata": {},
     "output_type": "execute_result"
    }
   ],
   "source": [
    "mozilla_labeled_neg['Classe']='Secure'\n",
    "firefox_labeled_neg['Classe']='Secure'\n",
    "eclipse_labeled_neg['Classe']='Secure'\n",
    "\n",
    "# Visualize the 5 first raws of  mozilla_labeled_neg as example \n",
    "mozilla_labeled_neg.head(10)"
   ]
  },
  {
   "cell_type": "markdown",
   "id": "16c78cd2",
   "metadata": {},
   "source": [
    "# 1.Text Preprocessing  of the Text"
   ]
  },
  {
   "cell_type": "markdown",
   "id": "bde64d98",
   "metadata": {},
   "source": [
    "## 1.1 Install the new libraries using pip"
   ]
  },
  {
   "cell_type": "markdown",
   "id": "a064aeec",
   "metadata": {},
   "source": [
    "**if you execut the first time this notebook, you should uncomment the cell bellow, it take a time**"
   ]
  },
  {
   "cell_type": "code",
   "execution_count": 7,
   "id": "4a3e08af",
   "metadata": {},
   "outputs": [],
   "source": [
    "#!pip install spacy\n",
    "#! pip install Unidecode\n",
    "# !pip install word2number\n",
    "#!pip install contractions\n",
    "# !pip install gensim\n",
    "# ! python -m spacy download en_core_web_md\n",
    "# !pip install pydot\n",
    "# !pip install tensorflow\n",
    "\n",
    "\n"
   ]
  },
  {
   "cell_type": "markdown",
   "id": "b1837363",
   "metadata": {},
   "source": [
    "## 1.2 import the libraries"
   ]
  },
  {
   "cell_type": "code",
   "execution_count": 8,
   "id": "586b22a2",
   "metadata": {},
   "outputs": [],
   "source": [
    "from bs4 import BeautifulSoup\n",
    "import spacy\n",
    "import unidecode\n",
    "from word2number import w2n\n",
    "import contractions\n",
    "# load spacy model, can be \"en_core_web_sm\" as well\n",
    "nlp = spacy.load('en_core_web_md')"
   ]
  },
  {
   "cell_type": "markdown",
   "id": "271ba7ff",
   "metadata": {},
   "source": [
    "## 1.2 Define the funtions for the preprocessing Task"
   ]
  },
  {
   "cell_type": "markdown",
   "id": "f751f0a2",
   "metadata": {},
   "source": [
    "### 1.2.1 Remove HTML Tags ###"
   ]
  },
  {
   "cell_type": "code",
   "execution_count": 9,
   "id": "b4185926",
   "metadata": {},
   "outputs": [],
   "source": [
    "def strip_html_tags(text):\n",
    "    \"\"\"remove html tags from text\"\"\"\n",
    "    soup = BeautifulSoup(text, \"html.parser\")\n",
    "    stripped_text = soup.get_text(separator=\" \")\n",
    "    return stripped_text"
   ]
  },
  {
   "cell_type": "markdown",
   "id": "bb4eaaab",
   "metadata": {},
   "source": [
    "### 1.2.2 Convert Accented Characters ###"
   ]
  },
  {
   "cell_type": "raw",
   "id": "75f1aa9c",
   "metadata": {},
   "source": [
    "Words with accent marks like “latté” and “café” can be converted and standardized to just “latte” and “cafe”, else our NLP model will treat “latté” and “latte” as different words even though they are referring to same thing. To do this, we use the module unidecode."
   ]
  },
  {
   "cell_type": "code",
   "execution_count": 10,
   "id": "d6a51142",
   "metadata": {},
   "outputs": [],
   "source": [
    "def remove_accented_chars(text):\n",
    "    \"\"\"remove accented characters from text, e.g. café\"\"\"\n",
    "    text = unidecode.unidecode(text)\n",
    "    return text"
   ]
  },
  {
   "cell_type": "markdown",
   "id": "3a7395c9",
   "metadata": {},
   "source": [
    "### 1.2.3 Expand Contractions ###"
   ]
  },
  {
   "cell_type": "markdown",
   "id": "59c8ac2b",
   "metadata": {},
   "source": [
    "Contractions are shortened words, e.g., don’t and can’t. Expanding such words to “do not” and “can not” helps to standardize text."
   ]
  },
  {
   "cell_type": "code",
   "execution_count": 11,
   "id": "f84bd25f",
   "metadata": {},
   "outputs": [],
   "source": [
    "def expand_contractions(text):\n",
    "    \"\"\"expand shortened words, e.g. don't to do not\"\"\"\n",
    "    text = contractions.fix(text)\n",
    "    return text"
   ]
  },
  {
   "cell_type": "markdown",
   "id": "fb22d356",
   "metadata": {},
   "source": [
    "### 1.2.4 Treatment for Numbers ###"
   ]
  },
  {
   "cell_type": "markdown",
   "id": "1a205981",
   "metadata": {},
   "source": [
    "One of the steps involve the conversion of number words to numeric form, e.g., seven to 7, to standardize text. To do this, we use the word2number module. Sample code as follows:"
   ]
  },
  {
   "cell_type": "code",
   "execution_count": 12,
   "id": "d921e1a3",
   "metadata": {},
   "outputs": [],
   "source": [
    "text='test test'\n",
    "doc = nlp(text)\n",
    "tokens = [w2n.word_to_num(token.text) if token.pos_ == 'NUM' else token for token in doc]\n",
    "\n"
   ]
  },
  {
   "cell_type": "markdown",
   "id": "3f61b7d5",
   "metadata": {},
   "source": [
    "### 1.2.5 Stopwords ##"
   ]
  },
  {
   "cell_type": "code",
   "execution_count": 13,
   "id": "dfec2714",
   "metadata": {},
   "outputs": [],
   "source": [
    "# exclude words from spacy stopwords list\n",
    "deselect_stop_words = ['no', 'not']\n",
    "for w in deselect_stop_words:\n",
    "    nlp.vocab[w].is_stop = False"
   ]
  },
  {
   "cell_type": "markdown",
   "id": "54d5066b",
   "metadata": {},
   "source": [
    "### 1.2.6 Lemmatization ##"
   ]
  },
  {
   "cell_type": "code",
   "execution_count": 14,
   "id": "7c9feee0",
   "metadata": {},
   "outputs": [],
   "source": [
    "doc = nlp(text)\n",
    "# Lemmatizing each token\n",
    "mytokens = [word.lemma_ if word.lemma_ != \"-PRON-\" else word.lower_ for word in doc]"
   ]
  },
  {
   "cell_type": "markdown",
   "id": "6dd26715",
   "metadata": {},
   "source": [
    "### 1.2.7 Remove the whitespace ##"
   ]
  },
  {
   "cell_type": "code",
   "execution_count": 15,
   "id": "05c93f53",
   "metadata": {},
   "outputs": [],
   "source": [
    "def remove_whitespace(text):\n",
    "    \"\"\"remove extra whitespaces from text\"\"\"\n",
    "    text = text.strip()\n",
    "    return \" \".join(text.split())"
   ]
  },
  {
   "cell_type": "markdown",
   "id": "7cf0776d",
   "metadata": {},
   "source": [
    "### 1.2.8 Group all functions at Full code ,and name the function  text_preprocessing###"
   ]
  },
  {
   "cell_type": "code",
   "execution_count": 16,
   "id": "e657e3c2",
   "metadata": {},
   "outputs": [],
   "source": [
    "def text_preprocessing(text, accented_chars=True, contractions=True, \n",
    "                       convert_num=True, extra_whitespace=True, \n",
    "                       lemmatization=True, lowercase=True, punctuations=True,\n",
    "                       remove_html=True, remove_num=True, special_chars=True, \n",
    "                       stop_words=True):\n",
    "    \"\"\"preprocess text with default option set to true for all steps\"\"\"\n",
    "    if remove_html == True: #remove html tags\n",
    "        text = strip_html_tags(text)\n",
    "    if extra_whitespace == True: #remove extra whitespaces\n",
    "        text = remove_whitespace(text)\n",
    "    if accented_chars == True: #remove accented characters\n",
    "        text = remove_accented_chars(text)\n",
    "    if contractions == True: #expand contractions\n",
    "        text = expand_contractions(text)\n",
    "    if lowercase == True: #convert all characters to lowercase\n",
    "        text = text.lower()\n",
    "\n",
    "    doc = nlp(text) #tokenise text\n",
    "\n",
    "    clean_text = []\n",
    "    \n",
    "    for token in doc:\n",
    "        flag = True\n",
    "        edit = token.text\n",
    "        # remove stop words\n",
    "        if stop_words == True and token.is_stop and token.pos_ != 'NUM': \n",
    "            flag = False\n",
    "        # remove punctuations\n",
    "        if punctuations == True and token.pos_ == 'PUNCT' and flag == True: \n",
    "            flag = False\n",
    "        # remove special characters\n",
    "        if special_chars == True and token.pos_ == 'SYM' and flag == True: \n",
    "            flag = False\n",
    "        # remove numbers\n",
    "        if remove_num == True and (token.pos_ == 'NUM' or token.text.isnumeric()) \\\n",
    "        and flag == True:\n",
    "            flag = False\n",
    "        # convert number words to numeric numbers\n",
    "        if convert_num == True and token.pos_ == 'NUM' and flag == True:\n",
    "            edit = w2n.word_to_num(token.text)\n",
    "        # convert tokens to base form\n",
    "        elif lemmatization == True and token.lemma_ != \"-PRON-\" and flag == True:\n",
    "            edit = token.lemma_\n",
    "        # append tokens edited and not removed to list \n",
    "        if edit != \"\" and flag == True:\n",
    "            clean_text.append(edit)        \n",
    "    return clean_text"
   ]
  },
  {
   "cell_type": "markdown",
   "id": "967fd9b4",
   "metadata": {},
   "source": [
    "## 1.3 Data Visualisation"
   ]
  },
  {
   "cell_type": "markdown",
   "id": "804416f0",
   "metadata": {},
   "source": [
    "The data is a text data we should carefully  preprocess  it "
   ]
  },
  {
   "cell_type": "markdown",
   "id": "c440dc02",
   "metadata": {},
   "source": [
    "**Gruop the secure and No Secure raws  for each  data categry to have in final Result 3 DataSet , nammed (mozilla_data, firefox data and eclipse_data)**"
   ]
  },
  {
   "cell_type": "code",
   "execution_count": 17,
   "id": "84e83253",
   "metadata": {},
   "outputs": [
    {
     "data": {
      "text/html": [
       "<div>\n",
       "<style scoped>\n",
       "    .dataframe tbody tr th:only-of-type {\n",
       "        vertical-align: middle;\n",
       "    }\n",
       "\n",
       "    .dataframe tbody tr th {\n",
       "        vertical-align: top;\n",
       "    }\n",
       "\n",
       "    .dataframe thead th {\n",
       "        text-align: right;\n",
       "    }\n",
       "</style>\n",
       "<table border=\"1\" class=\"dataframe\">\n",
       "  <thead>\n",
       "    <tr style=\"text-align: right;\">\n",
       "      <th></th>\n",
       "      <th>id</th>\n",
       "      <th>title</th>\n",
       "      <th>cve</th>\n",
       "      <th>description</th>\n",
       "      <th>Classe</th>\n",
       "    </tr>\n",
       "  </thead>\n",
       "  <tbody>\n",
       "    <tr>\n",
       "      <th>0</th>\n",
       "      <td>1178972</td>\n",
       "      <td>rubygemnokogiri XML eXternal Entity XXE flaw ...</td>\n",
       "      <td>CVE-2012-6685</td>\n",
       "      <td>This is an automatically created tracking bug...</td>\n",
       "      <td>Non Secure</td>\n",
       "    </tr>\n",
       "    <tr>\n",
       "      <th>1</th>\n",
       "      <td>1332820</td>\n",
       "      <td>libxml2 outofbounds read</td>\n",
       "      <td>CVE-2016-4483</td>\n",
       "      <td>A vulnerability was found in libxml2 Parsing ...</td>\n",
       "      <td>Non Secure</td>\n",
       "    </tr>\n",
       "    <tr>\n",
       "      <th>2</th>\n",
       "      <td>1406718</td>\n",
       "      <td>mingwcurl curl printf floating point buffer o...</td>\n",
       "      <td>CVE-2016-9586</td>\n",
       "      <td>This is an automatically created tracking bug...</td>\n",
       "      <td>Non Secure</td>\n",
       "    </tr>\n",
       "    <tr>\n",
       "      <th>3</th>\n",
       "      <td>1162617</td>\n",
       "      <td>avrbinutils binutils stack overflow in objdum...</td>\n",
       "      <td>CVE-2014-8503</td>\n",
       "      <td>This is an automatically created tracking bug...</td>\n",
       "      <td>Non Secure</td>\n",
       "    </tr>\n",
       "    <tr>\n",
       "      <th>4</th>\n",
       "      <td>1635896</td>\n",
       "      <td>gnulib heapbased buffer overflow in convertto...</td>\n",
       "      <td>CVE-2018-17942</td>\n",
       "      <td>A flaw was found in Gnulib before 20180923 The...</td>\n",
       "      <td>Non Secure</td>\n",
       "    </tr>\n",
       "    <tr>\n",
       "      <th>...</th>\n",
       "      <td>...</td>\n",
       "      <td>...</td>\n",
       "      <td>...</td>\n",
       "      <td>...</td>\n",
       "      <td>...</td>\n",
       "    </tr>\n",
       "    <tr>\n",
       "      <th>95</th>\n",
       "      <td>1661116</td>\n",
       "      <td>libvncserver various flaws epel7</td>\n",
       "      <td>CVE-2018-20019</td>\n",
       "      <td>This is an automatically created tracking bug...</td>\n",
       "      <td>Non Secure</td>\n",
       "    </tr>\n",
       "    <tr>\n",
       "      <th>96</th>\n",
       "      <td>1668446</td>\n",
       "      <td>jenkins various flaws fedoraall</td>\n",
       "      <td>CVE-2019-1003003</td>\n",
       "      <td>This is an automatically created tracking bug...</td>\n",
       "      <td>Non Secure</td>\n",
       "    </tr>\n",
       "    <tr>\n",
       "      <th>97</th>\n",
       "      <td>1739386</td>\n",
       "      <td>mingwSDL2image SDL2image an exploitable code ...</td>\n",
       "      <td>CVE-2019-5059</td>\n",
       "      <td>This is an automatically created tracking bug...</td>\n",
       "      <td>Non Secure</td>\n",
       "    </tr>\n",
       "    <tr>\n",
       "      <th>98</th>\n",
       "      <td>1581263</td>\n",
       "      <td>upx Doublefree in PackLinuxElf64unpack in plx...</td>\n",
       "      <td>CVE-2018-11243</td>\n",
       "      <td>This is an automatically created tracking bug...</td>\n",
       "      <td>Non Secure</td>\n",
       "    </tr>\n",
       "    <tr>\n",
       "      <th>99</th>\n",
       "      <td>1457677</td>\n",
       "      <td>chicken Unsafe pointer dereference due to inc...</td>\n",
       "      <td>CVE-2017-9334</td>\n",
       "      <td>This is an automatically created tracking bug...</td>\n",
       "      <td>Non Secure</td>\n",
       "    </tr>\n",
       "  </tbody>\n",
       "</table>\n",
       "<p>100 rows × 5 columns</p>\n",
       "</div>"
      ],
      "text/plain": [
       "         id                                              title  \\\n",
       "0   1178972   rubygemnokogiri XML eXternal Entity XXE flaw ...   \n",
       "1   1332820                           libxml2 outofbounds read   \n",
       "2   1406718   mingwcurl curl printf floating point buffer o...   \n",
       "3   1162617   avrbinutils binutils stack overflow in objdum...   \n",
       "4   1635896   gnulib heapbased buffer overflow in convertto...   \n",
       "..      ...                                                ...   \n",
       "95  1661116                   libvncserver various flaws epel7   \n",
       "96  1668446                    jenkins various flaws fedoraall   \n",
       "97  1739386   mingwSDL2image SDL2image an exploitable code ...   \n",
       "98  1581263   upx Doublefree in PackLinuxElf64unpack in plx...   \n",
       "99  1457677   chicken Unsafe pointer dereference due to inc...   \n",
       "\n",
       "                 cve                                        description  \\\n",
       "0      CVE-2012-6685   This is an automatically created tracking bug...   \n",
       "1      CVE-2016-4483   A vulnerability was found in libxml2 Parsing ...   \n",
       "2      CVE-2016-9586   This is an automatically created tracking bug...   \n",
       "3      CVE-2014-8503   This is an automatically created tracking bug...   \n",
       "4     CVE-2018-17942  A flaw was found in Gnulib before 20180923 The...   \n",
       "..               ...                                                ...   \n",
       "95    CVE-2018-20019   This is an automatically created tracking bug...   \n",
       "96  CVE-2019-1003003   This is an automatically created tracking bug...   \n",
       "97     CVE-2019-5059   This is an automatically created tracking bug...   \n",
       "98    CVE-2018-11243   This is an automatically created tracking bug...   \n",
       "99     CVE-2017-9334   This is an automatically created tracking bug...   \n",
       "\n",
       "        Classe  \n",
       "0   Non Secure  \n",
       "1   Non Secure  \n",
       "2   Non Secure  \n",
       "3   Non Secure  \n",
       "4   Non Secure  \n",
       "..         ...  \n",
       "95  Non Secure  \n",
       "96  Non Secure  \n",
       "97  Non Secure  \n",
       "98  Non Secure  \n",
       "99  Non Secure  \n",
       "\n",
       "[100 rows x 5 columns]"
      ]
     },
     "execution_count": 17,
     "metadata": {},
     "output_type": "execute_result"
    }
   ],
   "source": [
    "mozilla_data=mozilla_labeled_pos.append(mozilla_labeled_neg , ignore_index=True)\n",
    "firefox_data=firefox_labeled_pos.append(firefox_labeled_neg , ignore_index=True)\n",
    "eclipse_data=eclipse_labeled_pos.append(eclipse_labeled_neg , ignore_index=True)\n",
    "\n",
    "# visualize the first 5 raws of  mozilla_data as example \n",
    "mozilla_data.head(100)"
   ]
  },
  {
   "cell_type": "markdown",
   "id": "77c21002",
   "metadata": {},
   "source": [
    "### 1.3.1 Vusalize he target variable for each data set "
   ]
  },
  {
   "cell_type": "markdown",
   "id": "e0852e91",
   "metadata": {},
   "source": [
    "#### a-Mozilla as example"
   ]
  },
  {
   "cell_type": "code",
   "execution_count": 18,
   "id": "b3d4f7c6",
   "metadata": {},
   "outputs": [
    {
     "data": {
      "image/png": "[encoded data removed]",
      "text/plain": [
       "<Figure size 432x288 with 1 Axes>"
      ]
     },
     "metadata": {
      "needs_background": "light"
     },
     "output_type": "display_data"
    }
   ],
   "source": [
    "# visualize the target variable\n",
    "import seaborn as sns\n",
    "import matplotlib.pyplot as plt\n",
    "\n",
    "g = sns.countplot(mozilla_data['Classe'])\n",
    "g.set_xticklabels(['Non Secure','Secure'])\n",
    "plt.show()"
   ]
  },
  {
   "cell_type": "markdown",
   "id": "1289dd68",
   "metadata": {},
   "source": [
    "#### b_eclipse"
   ]
  },
  {
   "cell_type": "code",
   "execution_count": 19,
   "id": "f2ceeb9e",
   "metadata": {},
   "outputs": [
    {
     "data": {
      "image/png": "[encoded data removed]",
      "text/plain": [
       "<Figure size 432x288 with 1 Axes>"
      ]
     },
     "metadata": {
      "needs_background": "light"
     },
     "output_type": "display_data"
    }
   ],
   "source": [
    "# visualize the target variable\n",
    "import seaborn as sns\n",
    "import matplotlib.pyplot as plt\n",
    "\n",
    "g = sns.countplot(eclipse_data['Classe'])\n",
    "g.set_xticklabels(['Non Secure','Secure'])\n",
    "plt.show()"
   ]
  },
  {
   "cell_type": "markdown",
   "id": "99d28655",
   "metadata": {},
   "source": [
    "#### c_firefox"
   ]
  },
  {
   "cell_type": "code",
   "execution_count": 20,
   "id": "6fbe2842",
   "metadata": {},
   "outputs": [
    {
     "data": {
      "image/png": "[encoded data removed]",
      "text/plain": [
       "<Figure size 432x288 with 1 Axes>"
      ]
     },
     "metadata": {
      "needs_background": "light"
     },
     "output_type": "display_data"
    }
   ],
   "source": [
    "# visualize the target variable\n",
    "import seaborn as sns\n",
    "import matplotlib.pyplot as plt\n",
    "\n",
    "g = sns.countplot(firefox_data['Classe'])\n",
    "g.set_xticklabels(['Non Secure','Secure'])\n",
    "plt.show()"
   ]
  },
  {
   "cell_type": "markdown",
   "id": "b8c0f40d",
   "metadata": {},
   "source": [
    "**After visualization the target pourcent , we have imbalanced Data**"
   ]
  },
  {
   "cell_type": "markdown",
   "id": "17eeae1c",
   "metadata": {},
   "source": [
    "**To resolve this problem, we can use the resampling  technique, metric not sesible to this problem such as balanced accuracy .., or use the weight to calculated the metric. whoever our data is a text , it s better to use the weighted metric or the metrics not sensible to inbalanced data problem**"
   ]
  },
  {
   "cell_type": "markdown",
   "id": "a75db20f",
   "metadata": {},
   "source": [
    "# 3  Apply the preprocessing to all Data"
   ]
  },
  {
   "cell_type": "markdown",
   "id": "382e0887",
   "metadata": {},
   "source": [
    "## 3.1  Concatenat the title to the description and create a new column named Corpus "
   ]
  },
  {
   "cell_type": "code",
   "execution_count": 21,
   "id": "c44ac438",
   "metadata": {},
   "outputs": [
    {
     "data": {
      "text/html": [
       "<div>\n",
       "<style scoped>\n",
       "    .dataframe tbody tr th:only-of-type {\n",
       "        vertical-align: middle;\n",
       "    }\n",
       "\n",
       "    .dataframe tbody tr th {\n",
       "        vertical-align: top;\n",
       "    }\n",
       "\n",
       "    .dataframe thead th {\n",
       "        text-align: right;\n",
       "    }\n",
       "</style>\n",
       "<table border=\"1\" class=\"dataframe\">\n",
       "  <thead>\n",
       "    <tr style=\"text-align: right;\">\n",
       "      <th></th>\n",
       "      <th>id</th>\n",
       "      <th>cve</th>\n",
       "      <th>Classe</th>\n",
       "      <th>Corpus</th>\n",
       "    </tr>\n",
       "  </thead>\n",
       "  <tbody>\n",
       "    <tr>\n",
       "      <th>0</th>\n",
       "      <td>1178972</td>\n",
       "      <td>CVE-2012-6685</td>\n",
       "      <td>Non Secure</td>\n",
       "      <td>rubygemnokogiri XML eXternal Entity XXE flaw ...</td>\n",
       "    </tr>\n",
       "    <tr>\n",
       "      <th>1</th>\n",
       "      <td>1332820</td>\n",
       "      <td>CVE-2016-4483</td>\n",
       "      <td>Non Secure</td>\n",
       "      <td>libxml2 outofbounds read,  A vulnerability wa...</td>\n",
       "    </tr>\n",
       "    <tr>\n",
       "      <th>2</th>\n",
       "      <td>1406718</td>\n",
       "      <td>CVE-2016-9586</td>\n",
       "      <td>Non Secure</td>\n",
       "      <td>mingwcurl curl printf floating point buffer o...</td>\n",
       "    </tr>\n",
       "    <tr>\n",
       "      <th>3</th>\n",
       "      <td>1162617</td>\n",
       "      <td>CVE-2014-8503</td>\n",
       "      <td>Non Secure</td>\n",
       "      <td>avrbinutils binutils stack overflow in objdum...</td>\n",
       "    </tr>\n",
       "    <tr>\n",
       "      <th>4</th>\n",
       "      <td>1635896</td>\n",
       "      <td>CVE-2018-17942</td>\n",
       "      <td>Non Secure</td>\n",
       "      <td>gnulib heapbased buffer overflow in convertto...</td>\n",
       "    </tr>\n",
       "    <tr>\n",
       "      <th>...</th>\n",
       "      <td>...</td>\n",
       "      <td>...</td>\n",
       "      <td>...</td>\n",
       "      <td>...</td>\n",
       "    </tr>\n",
       "    <tr>\n",
       "      <th>95</th>\n",
       "      <td>1661116</td>\n",
       "      <td>CVE-2018-20019</td>\n",
       "      <td>Non Secure</td>\n",
       "      <td>libvncserver various flaws epel7,  This is...</td>\n",
       "    </tr>\n",
       "    <tr>\n",
       "      <th>96</th>\n",
       "      <td>1668446</td>\n",
       "      <td>CVE-2019-1003003</td>\n",
       "      <td>Non Secure</td>\n",
       "      <td>jenkins various flaws fedoraall,  This is an...</td>\n",
       "    </tr>\n",
       "    <tr>\n",
       "      <th>97</th>\n",
       "      <td>1739386</td>\n",
       "      <td>CVE-2019-5059</td>\n",
       "      <td>Non Secure</td>\n",
       "      <td>mingwSDL2image SDL2image an exploitable code ...</td>\n",
       "    </tr>\n",
       "    <tr>\n",
       "      <th>98</th>\n",
       "      <td>1581263</td>\n",
       "      <td>CVE-2018-11243</td>\n",
       "      <td>Non Secure</td>\n",
       "      <td>upx Doublefree in PackLinuxElf64unpack in plx...</td>\n",
       "    </tr>\n",
       "    <tr>\n",
       "      <th>99</th>\n",
       "      <td>1457677</td>\n",
       "      <td>CVE-2017-9334</td>\n",
       "      <td>Non Secure</td>\n",
       "      <td>chicken Unsafe pointer dereference due to inc...</td>\n",
       "    </tr>\n",
       "  </tbody>\n",
       "</table>\n",
       "<p>100 rows × 4 columns</p>\n",
       "</div>"
      ],
      "text/plain": [
       "         id               cve      Classe  \\\n",
       "0   1178972     CVE-2012-6685  Non Secure   \n",
       "1   1332820     CVE-2016-4483  Non Secure   \n",
       "2   1406718     CVE-2016-9586  Non Secure   \n",
       "3   1162617     CVE-2014-8503  Non Secure   \n",
       "4   1635896    CVE-2018-17942  Non Secure   \n",
       "..      ...               ...         ...   \n",
       "95  1661116    CVE-2018-20019  Non Secure   \n",
       "96  1668446  CVE-2019-1003003  Non Secure   \n",
       "97  1739386     CVE-2019-5059  Non Secure   \n",
       "98  1581263    CVE-2018-11243  Non Secure   \n",
       "99  1457677     CVE-2017-9334  Non Secure   \n",
       "\n",
       "                                               Corpus  \n",
       "0    rubygemnokogiri XML eXternal Entity XXE flaw ...  \n",
       "1    libxml2 outofbounds read,  A vulnerability wa...  \n",
       "2    mingwcurl curl printf floating point buffer o...  \n",
       "3    avrbinutils binutils stack overflow in objdum...  \n",
       "4    gnulib heapbased buffer overflow in convertto...  \n",
       "..                                                ...  \n",
       "95      libvncserver various flaws epel7,  This is...  \n",
       "96    jenkins various flaws fedoraall,  This is an...  \n",
       "97   mingwSDL2image SDL2image an exploitable code ...  \n",
       "98   upx Doublefree in PackLinuxElf64unpack in plx...  \n",
       "99   chicken Unsafe pointer dereference due to inc...  \n",
       "\n",
       "[100 rows x 4 columns]"
      ]
     },
     "execution_count": 21,
     "metadata": {},
     "output_type": "execute_result"
    }
   ],
   "source": [
    "\n",
    "mozilla_data[\"Corpus\"]= mozilla_data[\"title\"].str.cat(mozilla_data['description'], sep =\", \")\n",
    "firefox_data[\"Corpus\"]= firefox_data[\"title\"].str.cat(firefox_data['description'], sep =\", \")\n",
    "eclipse_data[\"Corpus\"]= eclipse_data[\"title\"].str.cat(eclipse_data['description'], sep =\", \")\n",
    "\n",
    "# Drop the columns title and description\n",
    "\n",
    "mozilla_data.drop(columns=['title','description'],inplace=True)\n",
    "firefox_data.drop(columns=['title','description'],inplace=True)\n",
    "eclipse_data.drop(columns=['title','description'],inplace=True)\n",
    "\n",
    "# Visualize the first 100 raws of mozilla_data\n",
    "mozilla_data.head(100)"
   ]
  },
  {
   "cell_type": "code",
   "execution_count": 22,
   "id": "35042ef2",
   "metadata": {},
   "outputs": [
    {
     "data": {
      "text/html": [
       "<div>\n",
       "<style scoped>\n",
       "    .dataframe tbody tr th:only-of-type {\n",
       "        vertical-align: middle;\n",
       "    }\n",
       "\n",
       "    .dataframe tbody tr th {\n",
       "        vertical-align: top;\n",
       "    }\n",
       "\n",
       "    .dataframe thead th {\n",
       "        text-align: right;\n",
       "    }\n",
       "</style>\n",
       "<table border=\"1\" class=\"dataframe\">\n",
       "  <thead>\n",
       "    <tr style=\"text-align: right;\">\n",
       "      <th></th>\n",
       "      <th>id</th>\n",
       "      <th>cve</th>\n",
       "      <th>Classe</th>\n",
       "      <th>Corpus</th>\n",
       "    </tr>\n",
       "  </thead>\n",
       "  <tbody>\n",
       "    <tr>\n",
       "      <th>0</th>\n",
       "      <td>1750802</td>\n",
       "      <td>CVE-2019-15926</td>\n",
       "      <td>Non Secure</td>\n",
       "      <td>kernel out of bounds access in  functions ath...</td>\n",
       "    </tr>\n",
       "    <tr>\n",
       "      <th>1</th>\n",
       "      <td>1000443</td>\n",
       "      <td>CVE-2013-4282</td>\n",
       "      <td>Non Secure</td>\n",
       "      <td>spice stack buffer overflow in redshandletick...</td>\n",
       "    </tr>\n",
       "    <tr>\n",
       "      <th>2</th>\n",
       "      <td>1553355</td>\n",
       "      <td>CVE-2018-0490</td>\n",
       "      <td>Non Secure</td>\n",
       "      <td>tor NULL pointer dereference via a misformatt...</td>\n",
       "    </tr>\n",
       "    <tr>\n",
       "      <th>3</th>\n",
       "      <td>1426712</td>\n",
       "      <td>CVE-2017-6519</td>\n",
       "      <td>Non Secure</td>\n",
       "      <td>avahi Multicast DNS responds to unicast queri...</td>\n",
       "    </tr>\n",
       "    <tr>\n",
       "      <th>4</th>\n",
       "      <td>1643043</td>\n",
       "      <td>CVE-2018-15756</td>\n",
       "      <td>Non Secure</td>\n",
       "      <td>springframework DoS Attack via Range Requests...</td>\n",
       "    </tr>\n",
       "  </tbody>\n",
       "</table>\n",
       "</div>"
      ],
      "text/plain": [
       "        id             cve      Classe  \\\n",
       "0  1750802  CVE-2019-15926  Non Secure   \n",
       "1  1000443   CVE-2013-4282  Non Secure   \n",
       "2  1553355   CVE-2018-0490  Non Secure   \n",
       "3  1426712   CVE-2017-6519  Non Secure   \n",
       "4  1643043  CVE-2018-15756  Non Secure   \n",
       "\n",
       "                                              Corpus  \n",
       "0   kernel out of bounds access in  functions ath...  \n",
       "1   spice stack buffer overflow in redshandletick...  \n",
       "2   tor NULL pointer dereference via a misformatt...  \n",
       "3   avahi Multicast DNS responds to unicast queri...  \n",
       "4   springframework DoS Attack via Range Requests...  "
      ]
     },
     "execution_count": 22,
     "metadata": {},
     "output_type": "execute_result"
    }
   ],
   "source": [
    "firefox_data.head(5)"
   ]
  },
  {
   "cell_type": "code",
   "execution_count": 23,
   "id": "492d09a4",
   "metadata": {},
   "outputs": [
    {
     "data": {
      "text/html": [
       "<div>\n",
       "<style scoped>\n",
       "    .dataframe tbody tr th:only-of-type {\n",
       "        vertical-align: middle;\n",
       "    }\n",
       "\n",
       "    .dataframe tbody tr th {\n",
       "        vertical-align: top;\n",
       "    }\n",
       "\n",
       "    .dataframe thead th {\n",
       "        text-align: right;\n",
       "    }\n",
       "</style>\n",
       "<table border=\"1\" class=\"dataframe\">\n",
       "  <thead>\n",
       "    <tr style=\"text-align: right;\">\n",
       "      <th></th>\n",
       "      <th>id</th>\n",
       "      <th>cve</th>\n",
       "      <th>Classe</th>\n",
       "      <th>Corpus</th>\n",
       "    </tr>\n",
       "  </thead>\n",
       "  <tbody>\n",
       "    <tr>\n",
       "      <th>0</th>\n",
       "      <td>1418719</td>\n",
       "      <td>CVE-2017-2607</td>\n",
       "      <td>Non Secure</td>\n",
       "      <td>jenkins Persisted crosssite scripting vulnera...</td>\n",
       "    </tr>\n",
       "    <tr>\n",
       "      <th>1</th>\n",
       "      <td>1664811</td>\n",
       "      <td>CVE-2018-20425</td>\n",
       "      <td>Non Secure</td>\n",
       "      <td>ming NULL pointer dereference in pushdup in d...</td>\n",
       "    </tr>\n",
       "    <tr>\n",
       "      <th>2</th>\n",
       "      <td>1671880</td>\n",
       "      <td>CVE-2018-16487</td>\n",
       "      <td>Non Secure</td>\n",
       "      <td>nodejslodash lodash Prototype pollution in ut...</td>\n",
       "    </tr>\n",
       "    <tr>\n",
       "      <th>3</th>\n",
       "      <td>1303847</td>\n",
       "      <td>CVE-2015-8794</td>\n",
       "      <td>Non Secure</td>\n",
       "      <td>roundcube absolute path traversal vulnerabili...</td>\n",
       "    </tr>\n",
       "    <tr>\n",
       "      <th>4</th>\n",
       "      <td>1734410</td>\n",
       "      <td>CVE-2019-14233</td>\n",
       "      <td>Non Secure</td>\n",
       "      <td>Django the behavior of the underlying HTMLPar...</td>\n",
       "    </tr>\n",
       "  </tbody>\n",
       "</table>\n",
       "</div>"
      ],
      "text/plain": [
       "        id             cve      Classe  \\\n",
       "0  1418719   CVE-2017-2607  Non Secure   \n",
       "1  1664811  CVE-2018-20425  Non Secure   \n",
       "2  1671880  CVE-2018-16487  Non Secure   \n",
       "3  1303847   CVE-2015-8794  Non Secure   \n",
       "4  1734410  CVE-2019-14233  Non Secure   \n",
       "\n",
       "                                              Corpus  \n",
       "0   jenkins Persisted crosssite scripting vulnera...  \n",
       "1   ming NULL pointer dereference in pushdup in d...  \n",
       "2   nodejslodash lodash Prototype pollution in ut...  \n",
       "3   roundcube absolute path traversal vulnerabili...  \n",
       "4   Django the behavior of the underlying HTMLPar...  "
      ]
     },
     "execution_count": 23,
     "metadata": {},
     "output_type": "execute_result"
    }
   ],
   "source": [
    "eclipse_data.head(5)"
   ]
  },
  {
   "cell_type": "markdown",
   "id": "90af3681",
   "metadata": {},
   "source": [
    "#### Apply the preprocessing function named   text_preprocessing to the Corpus of each datasets"
   ]
  },
  {
   "cell_type": "code",
   "execution_count": 24,
   "id": "85aa847a",
   "metadata": {},
   "outputs": [
    {
     "name": "stdout",
     "output_type": "stream",
     "text": [
      "Mozilla Data preprocessing().......>.....>......>......>.....>\n",
      "Firefox Data preprocessing().....>......>......>.....>....>...>\n",
      "Eclipse Data preprocessing()....>....>..>..>..>..>...>.>...>..>...>.\n"
     ]
    },
    {
     "data": {
      "text/plain": [
       "0    [rubygemnokogiri, xml, external, entity, xxe, ...\n",
       "1    [libxml2, outofbound, read, vulnerability, fin...\n",
       "2    [mingwcurl, curl, printf, float, point, buffer...\n",
       "3    [avrbinutil, binutils, stack, overflow, objdum...\n",
       "4    [gnulib, heapbase, buffer, overflow, convertto...\n",
       "Name: Corpus, dtype: object"
      ]
     },
     "execution_count": 24,
     "metadata": {},
     "output_type": "execute_result"
    }
   ],
   "source": [
    "mozilla_data['Corpus']=mozilla_data['Corpus'].astype('str')\n",
    "firefox_data['Corpus']=firefox_data['Corpus'].astype('str')\n",
    "eclipse_data['Corpus']=eclipse_data['Corpus'].astype('str')\n",
    "\n",
    "print(\"Mozilla Data preprocessing().......>.....>......>......>.....>\")\n",
    "mozilla_data['Corpus'] = mozilla_data['Corpus'].apply(lambda x: text_preprocessing(x, accented_chars=True, contractions=True, \n",
    "                       convert_num=False, extra_whitespace=True, \n",
    "                       lemmatization=True, lowercase=True, punctuations=True,\n",
    "                       remove_html=True, remove_num=True, special_chars=True, \n",
    "                       stop_words=True))\n",
    "\n",
    "print(\"Firefox Data preprocessing().....>......>......>.....>....>...>\")\n",
    "firefox_data['Corpus'] = firefox_data['Corpus'].apply(lambda x: text_preprocessing(x, accented_chars=True, contractions=True, \n",
    "                       convert_num=False, extra_whitespace=True, \n",
    "                       lemmatization=True, lowercase=True, punctuations=True,\n",
    "                       remove_html=True, remove_num=True, special_chars=True, \n",
    "                       stop_words=True))\n",
    "\n",
    "print(\"Eclipse Data preprocessing()....>....>..>..>..>..>...>.>...>..>...>.\")\n",
    "eclipse_data['Corpus'] = eclipse_data['Corpus'].apply(lambda x: text_preprocessing(x, accented_chars=True, contractions=True, \n",
    "                       convert_num=False, extra_whitespace=True, \n",
    "                       lemmatization=True, lowercase=True, punctuations=True,\n",
    "                       remove_html=True, remove_num=True, special_chars=True, \n",
    "                       stop_words=True))\n",
    "\n",
    "\n",
    "# Visualize the first 5 Corpus raws of mozilla_data as example\n",
    "mozilla_data['Corpus'].head(5)"
   ]
  },
  {
   "cell_type": "code",
   "execution_count": 25,
   "id": "2075ca74",
   "metadata": {},
   "outputs": [
    {
     "data": {
      "text/plain": [
       "0    [kernel, bound, access, function, ath6klwmipst...\n",
       "1    [spice, stack, buffer, overflow, redshandletic...\n",
       "2    [tor, null, pointer, dereference, misformatte,...\n",
       "3    [avahi, multicast, dns, respond, unicast, quer...\n",
       "4    [springframework, do, attack, range, request, ...\n",
       "Name: Corpus, dtype: object"
      ]
     },
     "execution_count": 25,
     "metadata": {},
     "output_type": "execute_result"
    }
   ],
   "source": [
    "firefox_data['Corpus'].head(5)"
   ]
  },
  {
   "cell_type": "code",
   "execution_count": null,
   "id": "1feaa04b",
   "metadata": {},
   "outputs": [],
   "source": []
  },
  {
   "cell_type": "code",
   "execution_count": 26,
   "id": "2d6c51d5",
   "metadata": {},
   "outputs": [
    {
     "data": {
      "text/plain": [
       "0    [jenkins, persist, crosssite, script, vulnerab...\n",
       "1    [ming, null, pointer, dereference, pushdup, de...\n",
       "2    [nodejslodash, lodash, prototype, pollution, u...\n",
       "3    [roundcube, absolute, path, traversal, vulnera...\n",
       "4    [django, behavior, underlie, htmlparser, lead,...\n",
       "Name: Corpus, dtype: object"
      ]
     },
     "execution_count": 26,
     "metadata": {},
     "output_type": "execute_result"
    }
   ],
   "source": [
    "eclipse_data['Corpus'].head(5)"
   ]
  },
  {
   "cell_type": "code",
   "execution_count": null,
   "id": "5bbec102",
   "metadata": {},
   "outputs": [],
   "source": []
  },
  {
   "cell_type": "markdown",
   "id": "bf7f43f9",
   "metadata": {},
   "source": [
    "# 3.1 N Gram Feature extraction\n"
   ]
  },
  {
   "cell_type": "markdown",
   "id": "6518ab09",
   "metadata": {},
   "source": [
    "### 3.1.1  Using Tf-IDF with Unigram Bigram  Trigram"
   ]
  },
  {
   "cell_type": "markdown",
   "id": "8cfdfa6e",
   "metadata": {},
   "source": [
    "TF-IDF can be used for generating List with relevant words in sentences and later this can be utilized as input list for the N-Gram model to generate context among these words."
   ]
  },
  {
   "cell_type": "markdown",
   "id": "b76f8d04",
   "metadata": {},
   "source": [
    "After apply the Tf-Idf, we wan t to have a corpus not tokenized, so want to concatenate the final corpus returned by preprocessing functions"
   ]
  },
  {
   "cell_type": "code",
   "execution_count": 27,
   "id": "3aa55a65",
   "metadata": {},
   "outputs": [
    {
     "data": {
      "text/plain": [
       "0    rubygemnokogiri xml external entity xxe flaw e...\n",
       "1    libxml2 outofbound read vulnerability find lib...\n",
       "2    mingwcurl curl printf float point buffer overf...\n",
       "3    avrbinutil binutils stack overflow objdump par...\n",
       "4    gnulib heapbase buffer overflow converttodecim...\n",
       "Name: Corpus, dtype: object"
      ]
     },
     "execution_count": 27,
     "metadata": {},
     "output_type": "execute_result"
    }
   ],
   "source": [
    "def concatinate(x):\n",
    "    return \" \".join(x)\n",
    "\n",
    "mozilla_data['Corpus'] = mozilla_data['Corpus'].apply(lambda x: concatinate(x))\n",
    "firefox_data['Corpus'] = firefox_data['Corpus'].apply(lambda x: concatinate(x))\n",
    "eclipse_data['Corpus'] = eclipse_data['Corpus'].apply(lambda x: concatinate(x))\n",
    "\n",
    "# Visualize the first 5 Corpus raws of mozilla_data as example\n",
    "mozilla_data['Corpus'].head(5)"
   ]
  },
  {
   "cell_type": "code",
   "execution_count": 28,
   "id": "c4f3b3ac",
   "metadata": {},
   "outputs": [
    {
     "data": {
      "text/plain": [
       "0    jenkins persist crosssite script vulnerability...\n",
       "1    ming null pointer dereference pushdup decompil...\n",
       "2    nodejslodash lodash prototype pollution utilit...\n",
       "3    roundcube absolute path traversal vulnerabilit...\n",
       "4    django behavior underlie htmlparser lead do be...\n",
       "Name: Corpus, dtype: object"
      ]
     },
     "execution_count": 28,
     "metadata": {},
     "output_type": "execute_result"
    }
   ],
   "source": [
    "eclipse_data['Corpus'].head(5)"
   ]
  },
  {
   "cell_type": "code",
   "execution_count": 29,
   "id": "92056a63",
   "metadata": {},
   "outputs": [
    {
     "data": {
      "text/plain": [
       "0    kernel bound access function ath6klwmipstreamt...\n",
       "1    spice stack buffer overflow redshandleticket f...\n",
       "2    tor null pointer dereference misformatte relay...\n",
       "3    avahi multicast dns respond unicast query outs...\n",
       "4    springframework do attack range request spring...\n",
       "Name: Corpus, dtype: object"
      ]
     },
     "execution_count": 29,
     "metadata": {},
     "output_type": "execute_result"
    }
   ],
   "source": [
    "firefox_data['Corpus'].head(5)"
   ]
  },
  {
   "cell_type": "raw",
   "id": "3267bd9f",
   "metadata": {},
   "source": [
    "The parameter n_gram \n",
    "ngram_range default=(1, 1)\n",
    "The lower and upper boundary of the range of n-values for different n-grams to be extracted. All values of n such that min_n <= n <= max_n will be used. For example an ngram_range of (1, 1) means only unigrams, (1, 2) means unigrams and bigrams, and (2, 2) means only bigrams. Only applies if analyzer is not callable."
   ]
  },
  {
   "cell_type": "markdown",
   "id": "5b89ad0c",
   "metadata": {},
   "source": [
    "### 3.1.2 Apply the Tf-IDF and create (X_mozilla, X_firefox, X_eclipse)"
   ]
  },
  {
   "cell_type": "code",
   "execution_count": 30,
   "id": "f5d5bb66",
   "metadata": {},
   "outputs": [
    {
     "name": "stdout",
     "output_type": "stream",
     "text": [
      "Mozilla  ()...>.......>......>.....>....>....>\n",
      "Firefox  ().....>.....>..>.....>....>.....>...>\n",
      "Eclipse  ()....>......>...>.....>.>....>.>....>.>\n"
     ]
    }
   ],
   "source": [
    "from sklearn.feature_extraction.text import TfidfVectorizer\n",
    "\n",
    "print(\"Mozilla  ()...>.......>......>.....>....>....>\")\n",
    "vectorizer_mozilla = TfidfVectorizer(max_features=60, ngram_range=(1,3))\n",
    "X_mozilla = vectorizer_mozilla.fit_transform(mozilla_data['Corpus'] )\n",
    "\n",
    "print(\"Firefox  ().....>.....>..>.....>....>.....>...>\")\n",
    "vectorizer_firefox = TfidfVectorizer(max_features=60, ngram_range=(1,3))\n",
    "X_firefox = vectorizer_firefox.fit_transform(firefox_data['Corpus'] )\n",
    "\n",
    "print(\"Eclipse  ()....>......>...>.....>.>....>.>....>.>\")\n",
    "vectorizer_eclipse = TfidfVectorizer(max_features=60, ngram_range=(1,3))\n",
    "X_eclipse = vectorizer_eclipse.fit_transform(eclipse_data['Corpus'] )\n",
    "\n"
   ]
  },
  {
   "cell_type": "code",
   "execution_count": 31,
   "id": "bdbcf176",
   "metadata": {},
   "outputs": [],
   "source": [
    "#Transfer the name of classe to 0 or 1\n",
    "def numeric_map_bool(x):\n",
    "    return x.map({'Non Secure' : 1,'Secure' : 0})\n",
    "\n",
    "mozilla_data[['Classe']]=mozilla_data[['Classe']].apply(numeric_map_bool)\n",
    "firefox_data[['Classe']]=firefox_data[['Classe']].apply(numeric_map_bool)\n",
    "eclipse_data[['Classe']]=eclipse_data[['Classe']].apply(numeric_map_bool)\n",
    "\n",
    "\n",
    "y_mozilla=mozilla_data['Classe']\n",
    "y_firefox=firefox_data['Classe']\n",
    "y_eclipse=eclipse_data['Classe']"
   ]
  },
  {
   "cell_type": "code",
   "execution_count": 32,
   "id": "c37b50fe",
   "metadata": {},
   "outputs": [
    {
     "data": {
      "text/plain": [
       "<14364x60 sparse matrix of type '<class 'numpy.float64'>'\n",
       "\twith 167600 stored elements in Compressed Sparse Row format>"
      ]
     },
     "execution_count": 32,
     "metadata": {},
     "output_type": "execute_result"
    }
   ],
   "source": [
    "X_mozilla"
   ]
  },
  {
   "cell_type": "code",
   "execution_count": 33,
   "id": "e44b1950",
   "metadata": {},
   "outputs": [
    {
     "data": {
      "text/plain": [
       "<12367x60 sparse matrix of type '<class 'numpy.float64'>'\n",
       "\twith 161494 stored elements in Compressed Sparse Row format>"
      ]
     },
     "execution_count": 33,
     "metadata": {},
     "output_type": "execute_result"
    }
   ],
   "source": [
    "X_eclipse"
   ]
  },
  {
   "cell_type": "code",
   "execution_count": 34,
   "id": "ad8a94c9",
   "metadata": {},
   "outputs": [
    {
     "data": {
      "text/plain": [
       "<11172x60 sparse matrix of type '<class 'numpy.float64'>'\n",
       "\twith 159411 stored elements in Compressed Sparse Row format>"
      ]
     },
     "execution_count": 34,
     "metadata": {},
     "output_type": "execute_result"
    }
   ],
   "source": [
    "X_firefox"
   ]
  },
  {
   "cell_type": "code",
   "execution_count": 35,
   "id": "2fc9e6e4",
   "metadata": {},
   "outputs": [],
   "source": [
    "from sklearn.model_selection import train_test_split\n",
    "\n",
    "\n",
    "X_train_mozilla, X_test_mozilla, y_train_mozilla, y_test_mozilla = train_test_split(X_mozilla, \n",
    "                                                    y_mozilla, \n",
    "                                                    test_size=0.2, \n",
    "                                                    #random_state=135\n",
    "                                                                                   )\n",
    "\n",
    "X_train_firefox, X_test_firefox, y_train_firefox, y_test_firefox = train_test_split(X_firefox, \n",
    "                                                    y_firefox, \n",
    "                                                    test_size=0.2, \n",
    "                                                    #random_state=135\n",
    "                                                                                   )\n",
    "\n",
    "X_train_eclipse, X_test_eclipse, y_train_eclipse, y_test_eclipse = train_test_split(X_eclipse, \n",
    "                                                    y_eclipse, \n",
    "                                                    test_size=0.2, \n",
    "                                                    #random_state=135\n",
    "                                                                                   )"
   ]
  },
  {
   "cell_type": "code",
   "execution_count": 36,
   "id": "c355a25a",
   "metadata": {},
   "outputs": [
    {
     "name": "stdout",
     "output_type": "stream",
     "text": [
      "Trine Mozilla: (11491, 60)\n",
      "Test Mozilla: (2873, 60)\n"
     ]
    }
   ],
   "source": [
    "print('Trine Mozilla:', X_train_mozilla.shape)\n",
    "print('Test Mozilla:', X_test_mozilla.shape)"
   ]
  },
  {
   "cell_type": "code",
   "execution_count": 37,
   "id": "6b9bd8fa",
   "metadata": {},
   "outputs": [
    {
     "name": "stdout",
     "output_type": "stream",
     "text": [
      "Trine eclipse: (9893, 60)\n",
      "Test Eclipse: (2474, 60)\n"
     ]
    }
   ],
   "source": [
    "print('Trine eclipse:', X_train_eclipse.shape)\n",
    "print('Test Eclipse:', X_test_eclipse.shape)"
   ]
  },
  {
   "cell_type": "code",
   "execution_count": 38,
   "id": "7731fbfb",
   "metadata": {},
   "outputs": [
    {
     "name": "stdout",
     "output_type": "stream",
     "text": [
      "Trine Firefox: (8937, 60)\n",
      "Test Firefox: (2235, 60)\n"
     ]
    }
   ],
   "source": [
    "print('Trine Firefox:', X_train_firefox.shape)\n",
    "print('Test Firefox:', X_test_firefox.shape)"
   ]
  },
  {
   "cell_type": "markdown",
   "id": "253bd8cb",
   "metadata": {},
   "source": [
    "# 4. Feature pattern Extraction with Artificial Neural Network "
   ]
  },
  {
   "cell_type": "markdown",
   "id": "4d09544c",
   "metadata": {},
   "source": [
    "## 4.1 we can  use word2vec with bigram (as example) to Generate Word Embedded but it will not be ensample learning (it is an example to implement it)"
   ]
  },
  {
   "cell_type": "raw",
   "id": "2fc84716",
   "metadata": {},
   "source": [
    "we can can use word2vec or glove, because the are a also an  ANN architectures to get the embedded word"
   ]
  },
  {
   "cell_type": "code",
   "execution_count": 39,
   "id": "47280031",
   "metadata": {},
   "outputs": [
    {
     "name": "stdout",
     "output_type": "stream",
     "text": [
      "Mozilla  ().............................\n",
      "Firefox  ().............................\n",
      "Eclipse  ().............................\n"
     ]
    }
   ],
   "source": [
    "from gensim.models import Phrases\n",
    "from gensim.models import Word2Vec\n",
    "\n",
    "# Train a bigram detector.\n",
    "print(\"Mozilla  ().............................\")\n",
    "bigram_transformer = Phrases(mozilla_data['Corpus'])\n",
    "model_mozilla = Word2Vec(bigram_transformer[mozilla_data['Corpus']], min_count=1)\n",
    "\n",
    "print(\"Firefox  ().............................\")\n",
    "bigram_transformer = Phrases(firefox_data['Corpus'])\n",
    "model_firefox = Word2Vec(bigram_transformer[firefox_data['Corpus']], min_count=1)\n",
    "\n",
    "print(\"Eclipse  ().............................\")\n",
    "bigram_transformer = Phrases(eclipse_data['Corpus'])\n",
    "model_eclipse = Word2Vec(bigram_transformer[eclipse_data['Corpus']], min_count=1)\n",
    "\n"
   ]
  },
  {
   "cell_type": "markdown",
   "id": "a8dfcc31",
   "metadata": {},
   "source": [
    "## 4.2 ANN Model"
   ]
  },
  {
   "cell_type": "code",
   "execution_count": 40,
   "id": "ffe4b0a4",
   "metadata": {},
   "outputs": [],
   "source": [
    "from tensorflow.keras.preprocessing.text import Tokenizer\n",
    "from tensorflow.keras.preprocessing.sequence import pad_sequences\n",
    "from tensorflow.keras.utils import to_categorical\n",
    "\n",
    "\n",
    "#Feature extraction methode using by tensor \n",
    "tokenizer_mozilla = Tokenizer(num_words=1000, lower=True)\n",
    "tokenizer_mozilla.fit_on_texts(mozilla_data['Corpus'] )\n",
    "sequences_mozilla = tokenizer_mozilla.texts_to_sequences(mozilla_data['Corpus'] )\n",
    "\n",
    "\n",
    "\n",
    "tokenizer_firefox = Tokenizer(num_words=1000, lower=True)\n",
    "tokenizer_firefox.fit_on_texts(firefox_data['Corpus'] )\n",
    "sequences_firefox = tokenizer_firefox.texts_to_sequences(firefox_data['Corpus'] )\n",
    "\n",
    "\n",
    "tokenizer_eclipse = Tokenizer(num_words=1000, lower=True)\n",
    "tokenizer_eclipse.fit_on_texts(eclipse_data['Corpus'] )\n",
    "sequences_eclipse = tokenizer_eclipse.texts_to_sequences(eclipse_data['Corpus'] )\n"
   ]
  },
  {
   "cell_type": "markdown",
   "id": "957bb060",
   "metadata": {},
   "source": [
    "### 4.2.4 Initialize the num_classes ,max_words ,maxlen"
   ]
  },
  {
   "cell_type": "code",
   "execution_count": 41,
   "id": "619eeb5b",
   "metadata": {},
   "outputs": [],
   "source": [
    "max_words = len(tokenizer_mozilla.word_index) + 1\n",
    "maxlen = 60"
   ]
  },
  {
   "cell_type": "code",
   "execution_count": 42,
   "id": "a516b964",
   "metadata": {
    "scrolled": true
   },
   "outputs": [
    {
     "name": "stdout",
     "output_type": "stream",
     "text": [
      "Model: \"sequential\"\n",
      "_________________________________________________________________\n",
      " Layer (type)                Output Shape              Param #   \n",
      "=================================================================\n",
      " embedding (Embedding)       (None, 60, 20)            945580    \n",
      "                                                                 \n",
      " global_max_pooling1d (Globa  (None, 20)               0         \n",
      " lMaxPooling1D)                                                  \n",
      "                                                                 \n",
      " dense (Dense)               (None, 9)                 189       \n",
      "                                                                 \n",
      " dense_1 (Dense)             (None, 1)                 10        \n",
      "                                                                 \n",
      "=================================================================\n",
      "Total params: 945,779\n",
      "Trainable params: 945,779\n",
      "Non-trainable params: 0\n",
      "_________________________________________________________________\n",
      "None\n"
     ]
    }
   ],
   "source": [
    "from keras.models import load_model\n",
    "from sklearn.metrics import f1_score\n",
    "from keras.models import Sequential\n",
    "from keras.layers import Dense, Embedding, GlobalMaxPool1D, Dropout\n",
    "from keras.callbacks import ReduceLROnPlateau, EarlyStopping, ModelCheckpoint\n",
    "import tensorflow as tf\n",
    "from tensorflow.keras.optimizers import Adam \n",
    "\n",
    "def ann_model():\n",
    "    model = Sequential()\n",
    "    model.add(Embedding(max_words, 20, input_length=maxlen))\n",
    "    #model.add(Dropout(0.2))\n",
    "    model.add(GlobalMaxPool1D())\n",
    "    model.add(Dense(9, activation='relu'))\n",
    "\n",
    "    model.add(Dense(1, activation='sigmoid'))\n",
    "\n",
    "    model.compile(loss='binary_crossentropy',\n",
    "                  metrics=[tf.keras.metrics.Accuracy(),tf.keras.metrics.Recall()])\n",
    "    return model\n",
    "\n",
    "model_mozilla=ann_model()\n",
    "model_firefox=ann_model()\n",
    "model_eclipse=ann_model()\n",
    "model_Ann=ann_model()\n",
    "\n",
    "print(model_mozilla.summary())"
   ]
  },
  {
   "cell_type": "markdown",
   "id": "bcc276bb",
   "metadata": {},
   "source": [
    "# 5 Classification Model"
   ]
  },
  {
   "cell_type": "markdown",
   "id": "9833f821",
   "metadata": {},
   "source": [
    "## 5.1 Stacking  Naive bayes"
   ]
  },
  {
   "cell_type": "markdown",
   "id": "8b543568",
   "metadata": {},
   "source": [
    "### 5.1.1 Mozilla"
   ]
  },
  {
   "cell_type": "markdown",
   "id": "a8273fd2",
   "metadata": {},
   "source": [
    "**In our case we can not use the last model as the ANN model , because this model is created by tensor flow , but we will use a Sklearn library to apply the model in the data  for Feature pattern extraction by ANN and apply the Stack the stacking based Naive Bayes**\n",
    "- The all codes from the tensor flow will be remplaced by   MLPClassifier(hidden_layer_sizes=(9,)) 9 is the number of neurons in the hidden layer L2 and automaticly the L1 has the number of neurons like the  input verctor.  and the output as a 1 "
   ]
  },
  {
   "cell_type": "code",
   "execution_count": 43,
   "id": "f8951a73",
   "metadata": {},
   "outputs": [],
   "source": [
    "from sklearn.metrics import accuracy_score , recall_score, f1_score , precision_score\n",
    "from sklearn.naive_bayes import GaussianNB\n",
    "from sklearn.metrics import confusion_matrix\n",
    "from sklearn.metrics import classification_report\n",
    "from sklearn import tree\n",
    "from sklearn.svm import SVC\n",
    "from sklearn.neural_network import MLPClassifier\n",
    "from sklearn.ensemble import StackingClassifier"
   ]
  },
  {
   "cell_type": "code",
   "execution_count": 44,
   "id": "f833355b",
   "metadata": {},
   "outputs": [],
   "source": [
    "# declare the model \n",
    "ann= MLPClassifier(hidden_layer_sizes=(9,))\n",
    "classifiers = [('ANN', ann)]\n",
    "\n",
    "gnb =  StackingClassifier(estimators=classifiers, \n",
    "                         final_estimator=GaussianNB(),\n",
    "                         stack_method='auto',\n",
    "                         n_jobs=-1)\n",
    "\n",
    "y_pred_mozilla = gnb.fit(X_train_mozilla, y_train_mozilla).predict(X_test_mozilla)\n"
   ]
  },
  {
   "cell_type": "code",
   "execution_count": 45,
   "id": "feb27fdf",
   "metadata": {},
   "outputs": [
    {
     "name": "stdout",
     "output_type": "stream",
     "text": [
      "Confusion matrix fo Naive Bayes\n"
     ]
    },
    {
     "data": {
      "text/html": [
       "<div>\n",
       "<style scoped>\n",
       "    .dataframe tbody tr th:only-of-type {\n",
       "        vertical-align: middle;\n",
       "    }\n",
       "\n",
       "    .dataframe tbody tr th {\n",
       "        vertical-align: top;\n",
       "    }\n",
       "\n",
       "    .dataframe thead th {\n",
       "        text-align: right;\n",
       "    }\n",
       "</style>\n",
       "<table border=\"1\" class=\"dataframe\">\n",
       "  <thead>\n",
       "    <tr style=\"text-align: right;\">\n",
       "      <th></th>\n",
       "      <th>Secure</th>\n",
       "      <th>No Secure</th>\n",
       "    </tr>\n",
       "  </thead>\n",
       "  <tbody>\n",
       "    <tr>\n",
       "      <th>Secure</th>\n",
       "      <td>1763</td>\n",
       "      <td>91</td>\n",
       "    </tr>\n",
       "    <tr>\n",
       "      <th>No Secure</th>\n",
       "      <td>120</td>\n",
       "      <td>899</td>\n",
       "    </tr>\n",
       "  </tbody>\n",
       "</table>\n",
       "</div>"
      ],
      "text/plain": [
       "           Secure  No Secure\n",
       "Secure       1763         91\n",
       "No Secure     120        899"
      ]
     },
     "execution_count": 45,
     "metadata": {},
     "output_type": "execute_result"
    }
   ],
   "source": [
    "# confusion Matrix\n",
    "cm = confusion_matrix(y_test_mozilla, y_pred_mozilla)\n",
    "\n",
    "print('Confusion matrix fo Naive Bayes')\n",
    "df = pd.DataFrame(cm)\n",
    "df=df.rename({0:'Secure',1:'No Secure'})\n",
    "\n",
    "df=df.rename({0:'Secure',1:'No Secure'},axis=1)\n",
    "\n",
    "df\n"
   ]
  },
  {
   "cell_type": "code",
   "execution_count": 46,
   "id": "13029c53",
   "metadata": {},
   "outputs": [
    {
     "name": "stdout",
     "output_type": "stream",
     "text": [
      "the accuracy is : 0.93\n"
     ]
    }
   ],
   "source": [
    "print(\"the accuracy is : %.2f\"%accuracy_score(y_test_mozilla,y_pred_mozilla))"
   ]
  },
  {
   "cell_type": "code",
   "execution_count": 47,
   "id": "61f8d88a",
   "metadata": {},
   "outputs": [
    {
     "name": "stdout",
     "output_type": "stream",
     "text": [
      "              precision    recall  f1-score   support\n",
      "\n",
      "           0       0.94      0.95      0.94      1854\n",
      "           1       0.91      0.88      0.89      1019\n",
      "\n",
      "    accuracy                           0.93      2873\n",
      "   macro avg       0.92      0.92      0.92      2873\n",
      "weighted avg       0.93      0.93      0.93      2873\n",
      "\n"
     ]
    }
   ],
   "source": [
    "nb_ho_score = (classification_report(y_test_mozilla, y_pred_mozilla))\n",
    "print(nb_ho_score)"
   ]
  },
  {
   "cell_type": "code",
   "execution_count": 48,
   "id": "e7256538",
   "metadata": {},
   "outputs": [],
   "source": [
    "# Declare function to save the return of classification report into the data frame \n",
    "def classification_report_csv(report):\n",
    "    report_data = []\n",
    "    lines = report.split('\\n')\n",
    "    for line in lines[2:4]:\n",
    "        row = {}\n",
    "     \n",
    "        row_data = line.split('      ')\n",
    "        row['class'] = int(row_data[1])\n",
    "        row['precision'] = float(row_data[2])\n",
    "        row['recall'] = float(row_data[3])\n",
    "        row['f1_score'] = float(row_data[4])\n",
    "        row['support'] = float(row_data[5])\n",
    "        report_data.append(row)\n",
    "    dataframe = pd.DataFrame.from_dict(report_data)\n",
    "    return dataframe\n",
    "\n",
    "df=classification_report_csv(nb_ho_score)\n"
   ]
  },
  {
   "cell_type": "markdown",
   "id": "4e3ec527",
   "metadata": {},
   "source": [
    "**Save the values in the data frame nammed metric_1** "
   ]
  },
  {
   "cell_type": "code",
   "execution_count": 49,
   "id": "79c2867c",
   "metadata": {},
   "outputs": [
    {
     "data": {
      "text/html": [
       "<div>\n",
       "<style scoped>\n",
       "    .dataframe tbody tr th:only-of-type {\n",
       "        vertical-align: middle;\n",
       "    }\n",
       "\n",
       "    .dataframe tbody tr th {\n",
       "        vertical-align: top;\n",
       "    }\n",
       "\n",
       "    .dataframe thead th {\n",
       "        text-align: right;\n",
       "    }\n",
       "</style>\n",
       "<table border=\"1\" class=\"dataframe\">\n",
       "  <thead>\n",
       "    <tr style=\"text-align: right;\">\n",
       "      <th></th>\n",
       "      <th>Accuracy</th>\n",
       "      <th>Precision Secure</th>\n",
       "      <th>Precision No Secure</th>\n",
       "      <th>Recall Secure</th>\n",
       "      <th>Recall No Secure</th>\n",
       "      <th>F mesure Secure</th>\n",
       "      <th>F mesure No Secure</th>\n",
       "    </tr>\n",
       "  </thead>\n",
       "  <tbody>\n",
       "    <tr>\n",
       "      <th>Mozilla</th>\n",
       "      <td>0.93</td>\n",
       "      <td>0.94</td>\n",
       "      <td>0.91</td>\n",
       "      <td>0.95</td>\n",
       "      <td>0.88</td>\n",
       "      <td>0.94</td>\n",
       "      <td>0.89</td>\n",
       "    </tr>\n",
       "    <tr>\n",
       "      <th>Eclipse</th>\n",
       "      <td>NaN</td>\n",
       "      <td>NaN</td>\n",
       "      <td>NaN</td>\n",
       "      <td>NaN</td>\n",
       "      <td>NaN</td>\n",
       "      <td>NaN</td>\n",
       "      <td>NaN</td>\n",
       "    </tr>\n",
       "    <tr>\n",
       "      <th>Firefox</th>\n",
       "      <td>NaN</td>\n",
       "      <td>NaN</td>\n",
       "      <td>NaN</td>\n",
       "      <td>NaN</td>\n",
       "      <td>NaN</td>\n",
       "      <td>NaN</td>\n",
       "      <td>NaN</td>\n",
       "    </tr>\n",
       "  </tbody>\n",
       "</table>\n",
       "</div>"
      ],
      "text/plain": [
       "        Accuracy Precision Secure Precision No Secure Recall Secure  \\\n",
       "Mozilla     0.93             0.94                0.91          0.95   \n",
       "Eclipse      NaN              NaN                 NaN           NaN   \n",
       "Firefox      NaN              NaN                 NaN           NaN   \n",
       "\n",
       "        Recall No Secure F mesure Secure F mesure No Secure  \n",
       "Mozilla             0.88            0.94               0.89  \n",
       "Eclipse              NaN             NaN                NaN  \n",
       "Firefox              NaN             NaN                NaN  "
      ]
     },
     "execution_count": 49,
     "metadata": {},
     "output_type": "execute_result"
    }
   ],
   "source": [
    "metrics_1 = pd.DataFrame( columns=['Accuracy', 'Precision Secure','Precision No Secure',\n",
    "                                 'Recall Secure','Recall No Secure','F mesure Secure',\n",
    "                                 'F mesure No Secure'],\n",
    "                       index=['Mozilla','Eclipse','Firefox'])\n",
    "accuracy_mozilla=accuracy_score(y_test_mozilla,y_pred_mozilla)\n",
    "def set_info_1(metric_1, df, index,accuracy_mozilla):\n",
    "    metrics_1.loc[index]['Accuracy']=\"{:.2f}\".format(accuracy_mozilla)\n",
    "    metrics_1.loc[index]['Precision Secure']=df.loc[df['class'] == 0]['precision'].values[0]\n",
    "    metrics_1.loc[index]['Recall Secure']=df.loc[df['class'] == 0]['recall'].values[0]\n",
    "    metrics_1.loc[index]['F mesure Secure']=df.loc[df['class'] == 0]['f1_score'].values[0]\n",
    "\n",
    "    metrics_1.loc[index]['Precision No Secure']=df.loc[df['class'] == 1]['precision'].values[0]\n",
    "    metrics_1.loc[index]['Recall No Secure']=df.loc[df['class'] == 1]['recall'].values[0]\n",
    "    metrics_1.loc[index]['F mesure No Secure']=df.loc[df['class'] == 1]['f1_score'].values[0]\n",
    "    return metrics_1\n",
    "\n",
    "metrics_1 = set_info_1(metrics_1, df, 'Mozilla',accuracy_mozilla)\n",
    "metrics_1\n"
   ]
  },
  {
   "cell_type": "markdown",
   "id": "1f4930f6",
   "metadata": {},
   "source": [
    "**Save the values in the second data_frame nammed metric_1** "
   ]
  },
  {
   "cell_type": "code",
   "execution_count": 50,
   "id": "6d64703c",
   "metadata": {},
   "outputs": [
    {
     "data": {
      "text/html": [
       "<div>\n",
       "<style scoped>\n",
       "    .dataframe tbody tr th:only-of-type {\n",
       "        vertical-align: middle;\n",
       "    }\n",
       "\n",
       "    .dataframe tbody tr th {\n",
       "        vertical-align: top;\n",
       "    }\n",
       "\n",
       "    .dataframe thead th {\n",
       "        text-align: right;\n",
       "    }\n",
       "</style>\n",
       "<table border=\"1\" class=\"dataframe\">\n",
       "  <thead>\n",
       "    <tr style=\"text-align: right;\">\n",
       "      <th></th>\n",
       "      <th>Decision_Tree Mozilla</th>\n",
       "      <th>Decision_Tree Eclipse</th>\n",
       "      <th>Decision_Tree Firefox</th>\n",
       "      <th>SVM Mozilla</th>\n",
       "      <th>SVM Eclipse</th>\n",
       "      <th>SVM Firefox</th>\n",
       "      <th>Naive_Bayes Mozilla</th>\n",
       "      <th>Naive_Bayes Eclipse</th>\n",
       "      <th>Naive_Bayes Firefox</th>\n",
       "    </tr>\n",
       "  </thead>\n",
       "  <tbody>\n",
       "    <tr>\n",
       "      <th>Accuracy</th>\n",
       "      <td>NaN</td>\n",
       "      <td>NaN</td>\n",
       "      <td>NaN</td>\n",
       "      <td>NaN</td>\n",
       "      <td>NaN</td>\n",
       "      <td>NaN</td>\n",
       "      <td>0.93</td>\n",
       "      <td>NaN</td>\n",
       "      <td>NaN</td>\n",
       "    </tr>\n",
       "    <tr>\n",
       "      <th>Precision Secure</th>\n",
       "      <td>NaN</td>\n",
       "      <td>NaN</td>\n",
       "      <td>NaN</td>\n",
       "      <td>NaN</td>\n",
       "      <td>NaN</td>\n",
       "      <td>NaN</td>\n",
       "      <td>0.94</td>\n",
       "      <td>NaN</td>\n",
       "      <td>NaN</td>\n",
       "    </tr>\n",
       "    <tr>\n",
       "      <th>Precision No Secure</th>\n",
       "      <td>NaN</td>\n",
       "      <td>NaN</td>\n",
       "      <td>NaN</td>\n",
       "      <td>NaN</td>\n",
       "      <td>NaN</td>\n",
       "      <td>NaN</td>\n",
       "      <td>0.91</td>\n",
       "      <td>NaN</td>\n",
       "      <td>NaN</td>\n",
       "    </tr>\n",
       "    <tr>\n",
       "      <th>Recall Secure</th>\n",
       "      <td>NaN</td>\n",
       "      <td>NaN</td>\n",
       "      <td>NaN</td>\n",
       "      <td>NaN</td>\n",
       "      <td>NaN</td>\n",
       "      <td>NaN</td>\n",
       "      <td>0.95</td>\n",
       "      <td>NaN</td>\n",
       "      <td>NaN</td>\n",
       "    </tr>\n",
       "    <tr>\n",
       "      <th>Recall No Secure</th>\n",
       "      <td>NaN</td>\n",
       "      <td>NaN</td>\n",
       "      <td>NaN</td>\n",
       "      <td>NaN</td>\n",
       "      <td>NaN</td>\n",
       "      <td>NaN</td>\n",
       "      <td>0.88</td>\n",
       "      <td>NaN</td>\n",
       "      <td>NaN</td>\n",
       "    </tr>\n",
       "    <tr>\n",
       "      <th>F mesure Secure</th>\n",
       "      <td>NaN</td>\n",
       "      <td>NaN</td>\n",
       "      <td>NaN</td>\n",
       "      <td>NaN</td>\n",
       "      <td>NaN</td>\n",
       "      <td>NaN</td>\n",
       "      <td>0.94</td>\n",
       "      <td>NaN</td>\n",
       "      <td>NaN</td>\n",
       "    </tr>\n",
       "    <tr>\n",
       "      <th>F mesure No Secure</th>\n",
       "      <td>NaN</td>\n",
       "      <td>NaN</td>\n",
       "      <td>NaN</td>\n",
       "      <td>NaN</td>\n",
       "      <td>NaN</td>\n",
       "      <td>NaN</td>\n",
       "      <td>0.89</td>\n",
       "      <td>NaN</td>\n",
       "      <td>NaN</td>\n",
       "    </tr>\n",
       "  </tbody>\n",
       "</table>\n",
       "</div>"
      ],
      "text/plain": [
       "                    Decision_Tree Mozilla Decision_Tree Eclipse  \\\n",
       "Accuracy                              NaN                   NaN   \n",
       "Precision Secure                      NaN                   NaN   \n",
       "Precision No Secure                   NaN                   NaN   \n",
       "Recall Secure                         NaN                   NaN   \n",
       "Recall No Secure                      NaN                   NaN   \n",
       "F mesure Secure                       NaN                   NaN   \n",
       "F mesure No Secure                    NaN                   NaN   \n",
       "\n",
       "                    Decision_Tree Firefox SVM Mozilla SVM Eclipse SVM Firefox  \\\n",
       "Accuracy                              NaN         NaN         NaN         NaN   \n",
       "Precision Secure                      NaN         NaN         NaN         NaN   \n",
       "Precision No Secure                   NaN         NaN         NaN         NaN   \n",
       "Recall Secure                         NaN         NaN         NaN         NaN   \n",
       "Recall No Secure                      NaN         NaN         NaN         NaN   \n",
       "F mesure Secure                       NaN         NaN         NaN         NaN   \n",
       "F mesure No Secure                    NaN         NaN         NaN         NaN   \n",
       "\n",
       "                    Naive_Bayes Mozilla Naive_Bayes Eclipse  \\\n",
       "Accuracy                           0.93                 NaN   \n",
       "Precision Secure                   0.94                 NaN   \n",
       "Precision No Secure                0.91                 NaN   \n",
       "Recall Secure                      0.95                 NaN   \n",
       "Recall No Secure                   0.88                 NaN   \n",
       "F mesure Secure                    0.94                 NaN   \n",
       "F mesure No Secure                 0.89                 NaN   \n",
       "\n",
       "                    Naive_Bayes Firefox  \n",
       "Accuracy                            NaN  \n",
       "Precision Secure                    NaN  \n",
       "Precision No Secure                 NaN  \n",
       "Recall Secure                       NaN  \n",
       "Recall No Secure                    NaN  \n",
       "F mesure Secure                     NaN  \n",
       "F mesure No Secure                  NaN  "
      ]
     },
     "execution_count": 50,
     "metadata": {},
     "output_type": "execute_result"
    }
   ],
   "source": [
    "metrics_2 = pd.DataFrame( columns=['Decision_Tree Mozilla', 'Decision_Tree Eclipse','Decision_Tree Firefox',\n",
    "                                 'SVM Mozilla','SVM Eclipse','SVM Firefox',\n",
    "                                 'Naive_Bayes Mozilla','Naive_Bayes Eclipse','Naive_Bayes Firefox'],\n",
    "                       index=['Accuracy', 'Precision Secure','Precision No Secure',\n",
    "                                 'Recall Secure','Recall No Secure','F mesure Secure',\n",
    "                                 'F mesure No Secure'])\n",
    "\n",
    "def set_info_2(metric_2, df, index ,model, accuracy_mozilla):\n",
    "    metrics_2.loc['Accuracy'][model+' '+index]=\"{:.2f}\".format(accuracy_mozilla)\n",
    "    metrics_2.loc['Precision Secure'][model+' '+index]=df.loc[df['class'] == 0]['precision'].values[0]\n",
    "    metrics_2.loc['Recall Secure'][model+' '+index]=df.loc[df['class'] == 0]['recall'].values[0]\n",
    "    metrics_2.loc['F mesure Secure'][model+' '+index]=df.loc[df['class'] == 0]['f1_score'].values[0]\n",
    "\n",
    "    metrics_2.loc['Precision No Secure'][model+' '+index]=df.loc[df['class'] == 1]['precision'].values[0]\n",
    "    metrics_2.loc['Recall No Secure'][model+' '+index]=df.loc[df['class'] == 1]['recall'].values[0]\n",
    "    metrics_2.loc['F mesure No Secure'][model+' '+index]=df.loc[df['class'] == 1]['f1_score'].values[0]\n",
    "\n",
    "    return metrics_2\n",
    "\n",
    "metrics_2 = set_info_2(metrics_2, df, 'Mozilla','Naive_Bayes',accuracy_mozilla)\n",
    "metrics_2"
   ]
  },
  {
   "cell_type": "markdown",
   "id": "4b52b8e2",
   "metadata": {},
   "source": [
    "### 5.1.2. Firefox"
   ]
  },
  {
   "cell_type": "code",
   "execution_count": 51,
   "id": "9759d7f2",
   "metadata": {},
   "outputs": [],
   "source": [
    "# declare the model \n",
    "ann= MLPClassifier(hidden_layer_sizes=(9,))\n",
    "classifiers = [('ANN', ann)]\n",
    "\n",
    "gnb =  StackingClassifier(estimators=classifiers, \n",
    "                         final_estimator=GaussianNB(),\n",
    "                         stack_method='auto',\n",
    "                         n_jobs=-1,\n",
    "                         passthrough=False)\n",
    "y_pred_firefox = gnb.fit(X_train_firefox, y_train_firefox).predict(X_test_firefox)"
   ]
  },
  {
   "cell_type": "code",
   "execution_count": 52,
   "id": "c636f8ff",
   "metadata": {},
   "outputs": [
    {
     "name": "stdout",
     "output_type": "stream",
     "text": [
      "Confusion matrix  of Stacking Naive Bayes\n"
     ]
    },
    {
     "data": {
      "text/html": [
       "<div>\n",
       "<style scoped>\n",
       "    .dataframe tbody tr th:only-of-type {\n",
       "        vertical-align: middle;\n",
       "    }\n",
       "\n",
       "    .dataframe tbody tr th {\n",
       "        vertical-align: top;\n",
       "    }\n",
       "\n",
       "    .dataframe thead th {\n",
       "        text-align: right;\n",
       "    }\n",
       "</style>\n",
       "<table border=\"1\" class=\"dataframe\">\n",
       "  <thead>\n",
       "    <tr style=\"text-align: right;\">\n",
       "      <th></th>\n",
       "      <th>Secure</th>\n",
       "      <th>No Secure</th>\n",
       "    </tr>\n",
       "  </thead>\n",
       "  <tbody>\n",
       "    <tr>\n",
       "      <th>Secure</th>\n",
       "      <td>1128</td>\n",
       "      <td>53</td>\n",
       "    </tr>\n",
       "    <tr>\n",
       "      <th>No Secure</th>\n",
       "      <td>139</td>\n",
       "      <td>915</td>\n",
       "    </tr>\n",
       "  </tbody>\n",
       "</table>\n",
       "</div>"
      ],
      "text/plain": [
       "           Secure  No Secure\n",
       "Secure       1128         53\n",
       "No Secure     139        915"
      ]
     },
     "execution_count": 52,
     "metadata": {},
     "output_type": "execute_result"
    }
   ],
   "source": [
    "# confusion Matrix\n",
    "cm = confusion_matrix(y_test_firefox, y_pred_firefox)\n",
    "\n",
    "print('Confusion matrix  of Stacking Naive Bayes')\n",
    "df = pd.DataFrame(cm)\n",
    "df=df.rename({0:'Secure',1:'No Secure'})\n",
    "\n",
    "df=df.rename({0:'Secure',1:'No Secure'},axis=1)\n",
    "\n",
    "df"
   ]
  },
  {
   "cell_type": "code",
   "execution_count": 53,
   "id": "d4c389b9",
   "metadata": {},
   "outputs": [
    {
     "name": "stdout",
     "output_type": "stream",
     "text": [
      "              precision    recall  f1-score   support\n",
      "\n",
      "           0       0.89      0.96      0.92      1181\n",
      "           1       0.95      0.87      0.91      1054\n",
      "\n",
      "    accuracy                           0.91      2235\n",
      "   macro avg       0.92      0.91      0.91      2235\n",
      "weighted avg       0.92      0.91      0.91      2235\n",
      "\n"
     ]
    }
   ],
   "source": [
    "nb_ho_score = (classification_report(y_test_firefox, y_pred_firefox))\n",
    "df=classification_report_csv(nb_ho_score)\n",
    "print(nb_ho_score)\n"
   ]
  },
  {
   "cell_type": "markdown",
   "id": "cae6ed16",
   "metadata": {},
   "source": [
    "**Save the values in the data frame nammed metric_1** "
   ]
  },
  {
   "cell_type": "code",
   "execution_count": 54,
   "id": "10bdf601",
   "metadata": {},
   "outputs": [
    {
     "data": {
      "text/html": [
       "<div>\n",
       "<style scoped>\n",
       "    .dataframe tbody tr th:only-of-type {\n",
       "        vertical-align: middle;\n",
       "    }\n",
       "\n",
       "    .dataframe tbody tr th {\n",
       "        vertical-align: top;\n",
       "    }\n",
       "\n",
       "    .dataframe thead th {\n",
       "        text-align: right;\n",
       "    }\n",
       "</style>\n",
       "<table border=\"1\" class=\"dataframe\">\n",
       "  <thead>\n",
       "    <tr style=\"text-align: right;\">\n",
       "      <th></th>\n",
       "      <th>Accuracy</th>\n",
       "      <th>Precision Secure</th>\n",
       "      <th>Precision No Secure</th>\n",
       "      <th>Recall Secure</th>\n",
       "      <th>Recall No Secure</th>\n",
       "      <th>F mesure Secure</th>\n",
       "      <th>F mesure No Secure</th>\n",
       "    </tr>\n",
       "  </thead>\n",
       "  <tbody>\n",
       "    <tr>\n",
       "      <th>Mozilla</th>\n",
       "      <td>0.93</td>\n",
       "      <td>0.94</td>\n",
       "      <td>0.91</td>\n",
       "      <td>0.95</td>\n",
       "      <td>0.88</td>\n",
       "      <td>0.94</td>\n",
       "      <td>0.89</td>\n",
       "    </tr>\n",
       "    <tr>\n",
       "      <th>Eclipse</th>\n",
       "      <td>NaN</td>\n",
       "      <td>NaN</td>\n",
       "      <td>NaN</td>\n",
       "      <td>NaN</td>\n",
       "      <td>NaN</td>\n",
       "      <td>NaN</td>\n",
       "      <td>NaN</td>\n",
       "    </tr>\n",
       "    <tr>\n",
       "      <th>Firefox</th>\n",
       "      <td>0.91</td>\n",
       "      <td>0.89</td>\n",
       "      <td>0.95</td>\n",
       "      <td>0.96</td>\n",
       "      <td>0.87</td>\n",
       "      <td>0.92</td>\n",
       "      <td>0.91</td>\n",
       "    </tr>\n",
       "  </tbody>\n",
       "</table>\n",
       "</div>"
      ],
      "text/plain": [
       "        Accuracy Precision Secure Precision No Secure Recall Secure  \\\n",
       "Mozilla     0.93             0.94                0.91          0.95   \n",
       "Eclipse      NaN              NaN                 NaN           NaN   \n",
       "Firefox     0.91             0.89                0.95          0.96   \n",
       "\n",
       "        Recall No Secure F mesure Secure F mesure No Secure  \n",
       "Mozilla             0.88            0.94               0.89  \n",
       "Eclipse              NaN             NaN                NaN  \n",
       "Firefox             0.87            0.92               0.91  "
      ]
     },
     "execution_count": 54,
     "metadata": {},
     "output_type": "execute_result"
    }
   ],
   "source": [
    "accuracy_firefox=accuracy_score(y_test_firefox,y_pred_firefox)\n",
    "\n",
    "metrics_1 = set_info_1(metrics_1, df, 'Firefox',accuracy_firefox)\n",
    "metrics_1"
   ]
  },
  {
   "cell_type": "markdown",
   "id": "6cf605de",
   "metadata": {},
   "source": [
    "**Save the values in the data frame nammed metric_2** "
   ]
  },
  {
   "cell_type": "code",
   "execution_count": 55,
   "id": "38e03a2c",
   "metadata": {},
   "outputs": [
    {
     "data": {
      "text/html": [
       "<div>\n",
       "<style scoped>\n",
       "    .dataframe tbody tr th:only-of-type {\n",
       "        vertical-align: middle;\n",
       "    }\n",
       "\n",
       "    .dataframe tbody tr th {\n",
       "        vertical-align: top;\n",
       "    }\n",
       "\n",
       "    .dataframe thead th {\n",
       "        text-align: right;\n",
       "    }\n",
       "</style>\n",
       "<table border=\"1\" class=\"dataframe\">\n",
       "  <thead>\n",
       "    <tr style=\"text-align: right;\">\n",
       "      <th></th>\n",
       "      <th>Decision_Tree Mozilla</th>\n",
       "      <th>Decision_Tree Eclipse</th>\n",
       "      <th>Decision_Tree Firefox</th>\n",
       "      <th>SVM Mozilla</th>\n",
       "      <th>SVM Eclipse</th>\n",
       "      <th>SVM Firefox</th>\n",
       "      <th>Naive_Bayes Mozilla</th>\n",
       "      <th>Naive_Bayes Eclipse</th>\n",
       "      <th>Naive_Bayes Firefox</th>\n",
       "    </tr>\n",
       "  </thead>\n",
       "  <tbody>\n",
       "    <tr>\n",
       "      <th>Accuracy</th>\n",
       "      <td>NaN</td>\n",
       "      <td>NaN</td>\n",
       "      <td>NaN</td>\n",
       "      <td>NaN</td>\n",
       "      <td>NaN</td>\n",
       "      <td>NaN</td>\n",
       "      <td>0.93</td>\n",
       "      <td>NaN</td>\n",
       "      <td>0.91</td>\n",
       "    </tr>\n",
       "    <tr>\n",
       "      <th>Precision Secure</th>\n",
       "      <td>NaN</td>\n",
       "      <td>NaN</td>\n",
       "      <td>NaN</td>\n",
       "      <td>NaN</td>\n",
       "      <td>NaN</td>\n",
       "      <td>NaN</td>\n",
       "      <td>0.94</td>\n",
       "      <td>NaN</td>\n",
       "      <td>0.89</td>\n",
       "    </tr>\n",
       "    <tr>\n",
       "      <th>Precision No Secure</th>\n",
       "      <td>NaN</td>\n",
       "      <td>NaN</td>\n",
       "      <td>NaN</td>\n",
       "      <td>NaN</td>\n",
       "      <td>NaN</td>\n",
       "      <td>NaN</td>\n",
       "      <td>0.91</td>\n",
       "      <td>NaN</td>\n",
       "      <td>0.95</td>\n",
       "    </tr>\n",
       "    <tr>\n",
       "      <th>Recall Secure</th>\n",
       "      <td>NaN</td>\n",
       "      <td>NaN</td>\n",
       "      <td>NaN</td>\n",
       "      <td>NaN</td>\n",
       "      <td>NaN</td>\n",
       "      <td>NaN</td>\n",
       "      <td>0.95</td>\n",
       "      <td>NaN</td>\n",
       "      <td>0.96</td>\n",
       "    </tr>\n",
       "    <tr>\n",
       "      <th>Recall No Secure</th>\n",
       "      <td>NaN</td>\n",
       "      <td>NaN</td>\n",
       "      <td>NaN</td>\n",
       "      <td>NaN</td>\n",
       "      <td>NaN</td>\n",
       "      <td>NaN</td>\n",
       "      <td>0.88</td>\n",
       "      <td>NaN</td>\n",
       "      <td>0.87</td>\n",
       "    </tr>\n",
       "    <tr>\n",
       "      <th>F mesure Secure</th>\n",
       "      <td>NaN</td>\n",
       "      <td>NaN</td>\n",
       "      <td>NaN</td>\n",
       "      <td>NaN</td>\n",
       "      <td>NaN</td>\n",
       "      <td>NaN</td>\n",
       "      <td>0.94</td>\n",
       "      <td>NaN</td>\n",
       "      <td>0.92</td>\n",
       "    </tr>\n",
       "    <tr>\n",
       "      <th>F mesure No Secure</th>\n",
       "      <td>NaN</td>\n",
       "      <td>NaN</td>\n",
       "      <td>NaN</td>\n",
       "      <td>NaN</td>\n",
       "      <td>NaN</td>\n",
       "      <td>NaN</td>\n",
       "      <td>0.89</td>\n",
       "      <td>NaN</td>\n",
       "      <td>0.91</td>\n",
       "    </tr>\n",
       "  </tbody>\n",
       "</table>\n",
       "</div>"
      ],
      "text/plain": [
       "                    Decision_Tree Mozilla Decision_Tree Eclipse  \\\n",
       "Accuracy                              NaN                   NaN   \n",
       "Precision Secure                      NaN                   NaN   \n",
       "Precision No Secure                   NaN                   NaN   \n",
       "Recall Secure                         NaN                   NaN   \n",
       "Recall No Secure                      NaN                   NaN   \n",
       "F mesure Secure                       NaN                   NaN   \n",
       "F mesure No Secure                    NaN                   NaN   \n",
       "\n",
       "                    Decision_Tree Firefox SVM Mozilla SVM Eclipse SVM Firefox  \\\n",
       "Accuracy                              NaN         NaN         NaN         NaN   \n",
       "Precision Secure                      NaN         NaN         NaN         NaN   \n",
       "Precision No Secure                   NaN         NaN         NaN         NaN   \n",
       "Recall Secure                         NaN         NaN         NaN         NaN   \n",
       "Recall No Secure                      NaN         NaN         NaN         NaN   \n",
       "F mesure Secure                       NaN         NaN         NaN         NaN   \n",
       "F mesure No Secure                    NaN         NaN         NaN         NaN   \n",
       "\n",
       "                    Naive_Bayes Mozilla Naive_Bayes Eclipse  \\\n",
       "Accuracy                           0.93                 NaN   \n",
       "Precision Secure                   0.94                 NaN   \n",
       "Precision No Secure                0.91                 NaN   \n",
       "Recall Secure                      0.95                 NaN   \n",
       "Recall No Secure                   0.88                 NaN   \n",
       "F mesure Secure                    0.94                 NaN   \n",
       "F mesure No Secure                 0.89                 NaN   \n",
       "\n",
       "                    Naive_Bayes Firefox  \n",
       "Accuracy                           0.91  \n",
       "Precision Secure                   0.89  \n",
       "Precision No Secure                0.95  \n",
       "Recall Secure                      0.96  \n",
       "Recall No Secure                   0.87  \n",
       "F mesure Secure                    0.92  \n",
       "F mesure No Secure                 0.91  "
      ]
     },
     "execution_count": 55,
     "metadata": {},
     "output_type": "execute_result"
    }
   ],
   "source": [
    "metrics_2 = set_info_2(metrics_2, df, 'Firefox','Naive_Bayes', accuracy_firefox)\n",
    "metrics_2\n"
   ]
  },
  {
   "cell_type": "markdown",
   "id": "8b9a4bc1",
   "metadata": {},
   "source": [
    "### 5.1.3. Eclipse"
   ]
  },
  {
   "cell_type": "code",
   "execution_count": 56,
   "id": "9b64448d",
   "metadata": {},
   "outputs": [],
   "source": [
    "\n",
    "# declare the model \n",
    "ann= MLPClassifier(hidden_layer_sizes=(9,))\n",
    "classifiers = [('ANN', ann)]\n",
    "\n",
    "gnb =  StackingClassifier(estimators=classifiers, \n",
    "                         final_estimator=GaussianNB(),\n",
    "                         stack_method='auto',\n",
    "                         n_jobs=-1,\n",
    "                         passthrough=False)\n",
    "\n",
    "y_pred_eclipse = gnb.fit(X_train_eclipse, y_train_eclipse).predict(X_test_eclipse)\n"
   ]
  },
  {
   "cell_type": "code",
   "execution_count": 57,
   "id": "cf689a6c",
   "metadata": {},
   "outputs": [
    {
     "name": "stdout",
     "output_type": "stream",
     "text": [
      "Confusion matrix of Stacking Naive Bayes\n"
     ]
    },
    {
     "data": {
      "text/html": [
       "<div>\n",
       "<style scoped>\n",
       "    .dataframe tbody tr th:only-of-type {\n",
       "        vertical-align: middle;\n",
       "    }\n",
       "\n",
       "    .dataframe tbody tr th {\n",
       "        vertical-align: top;\n",
       "    }\n",
       "\n",
       "    .dataframe thead th {\n",
       "        text-align: right;\n",
       "    }\n",
       "</style>\n",
       "<table border=\"1\" class=\"dataframe\">\n",
       "  <thead>\n",
       "    <tr style=\"text-align: right;\">\n",
       "      <th></th>\n",
       "      <th>Secure</th>\n",
       "      <th>No Secure</th>\n",
       "    </tr>\n",
       "  </thead>\n",
       "  <tbody>\n",
       "    <tr>\n",
       "      <th>Secure</th>\n",
       "      <td>1339</td>\n",
       "      <td>97</td>\n",
       "    </tr>\n",
       "    <tr>\n",
       "      <th>No Secure</th>\n",
       "      <td>125</td>\n",
       "      <td>913</td>\n",
       "    </tr>\n",
       "  </tbody>\n",
       "</table>\n",
       "</div>"
      ],
      "text/plain": [
       "           Secure  No Secure\n",
       "Secure       1339         97\n",
       "No Secure     125        913"
      ]
     },
     "execution_count": 57,
     "metadata": {},
     "output_type": "execute_result"
    }
   ],
   "source": [
    "# confusion Matrix\n",
    "cm = confusion_matrix(y_test_eclipse, y_pred_eclipse)\n",
    "\n",
    "print('Confusion matrix of Stacking Naive Bayes')\n",
    "df = pd.DataFrame(cm)\n",
    "df=df.rename({0:'Secure',1:'No Secure'})\n",
    "\n",
    "df=df.rename({0:'Secure',1:'No Secure'},axis=1)\n",
    "\n",
    "df"
   ]
  },
  {
   "cell_type": "code",
   "execution_count": 58,
   "id": "284b7908",
   "metadata": {},
   "outputs": [
    {
     "name": "stdout",
     "output_type": "stream",
     "text": [
      "              precision    recall  f1-score   support\n",
      "\n",
      "           0       0.91      0.93      0.92      1436\n",
      "           1       0.90      0.88      0.89      1038\n",
      "\n",
      "    accuracy                           0.91      2474\n",
      "   macro avg       0.91      0.91      0.91      2474\n",
      "weighted avg       0.91      0.91      0.91      2474\n",
      "\n"
     ]
    }
   ],
   "source": [
    "nb_ho_score = (classification_report(y_test_eclipse, y_pred_eclipse))\n",
    "df=classification_report_csv(nb_ho_score)\n",
    "print(nb_ho_score)"
   ]
  },
  {
   "cell_type": "markdown",
   "id": "e9e95a5a",
   "metadata": {},
   "source": [
    "**Save the values in the data frame nammed metric_1** "
   ]
  },
  {
   "cell_type": "code",
   "execution_count": 59,
   "id": "ca39516f",
   "metadata": {},
   "outputs": [
    {
     "data": {
      "text/html": [
       "<div>\n",
       "<style scoped>\n",
       "    .dataframe tbody tr th:only-of-type {\n",
       "        vertical-align: middle;\n",
       "    }\n",
       "\n",
       "    .dataframe tbody tr th {\n",
       "        vertical-align: top;\n",
       "    }\n",
       "\n",
       "    .dataframe thead th {\n",
       "        text-align: right;\n",
       "    }\n",
       "</style>\n",
       "<table border=\"1\" class=\"dataframe\">\n",
       "  <thead>\n",
       "    <tr style=\"text-align: right;\">\n",
       "      <th></th>\n",
       "      <th>Accuracy</th>\n",
       "      <th>Precision Secure</th>\n",
       "      <th>Precision No Secure</th>\n",
       "      <th>Recall Secure</th>\n",
       "      <th>Recall No Secure</th>\n",
       "      <th>F mesure Secure</th>\n",
       "      <th>F mesure No Secure</th>\n",
       "    </tr>\n",
       "  </thead>\n",
       "  <tbody>\n",
       "    <tr>\n",
       "      <th>Mozilla</th>\n",
       "      <td>0.93</td>\n",
       "      <td>0.94</td>\n",
       "      <td>0.91</td>\n",
       "      <td>0.95</td>\n",
       "      <td>0.88</td>\n",
       "      <td>0.94</td>\n",
       "      <td>0.89</td>\n",
       "    </tr>\n",
       "    <tr>\n",
       "      <th>Eclipse</th>\n",
       "      <td>0.91</td>\n",
       "      <td>0.91</td>\n",
       "      <td>0.9</td>\n",
       "      <td>0.93</td>\n",
       "      <td>0.88</td>\n",
       "      <td>0.92</td>\n",
       "      <td>0.89</td>\n",
       "    </tr>\n",
       "    <tr>\n",
       "      <th>Firefox</th>\n",
       "      <td>0.91</td>\n",
       "      <td>0.89</td>\n",
       "      <td>0.95</td>\n",
       "      <td>0.96</td>\n",
       "      <td>0.87</td>\n",
       "      <td>0.92</td>\n",
       "      <td>0.91</td>\n",
       "    </tr>\n",
       "  </tbody>\n",
       "</table>\n",
       "</div>"
      ],
      "text/plain": [
       "        Accuracy Precision Secure Precision No Secure Recall Secure  \\\n",
       "Mozilla     0.93             0.94                0.91          0.95   \n",
       "Eclipse     0.91             0.91                 0.9          0.93   \n",
       "Firefox     0.91             0.89                0.95          0.96   \n",
       "\n",
       "        Recall No Secure F mesure Secure F mesure No Secure  \n",
       "Mozilla             0.88            0.94               0.89  \n",
       "Eclipse             0.88            0.92               0.89  \n",
       "Firefox             0.87            0.92               0.91  "
      ]
     },
     "execution_count": 59,
     "metadata": {},
     "output_type": "execute_result"
    }
   ],
   "source": [
    "accuracy_eclipse=accuracy_score(y_test_eclipse,y_pred_eclipse)\n",
    "\n",
    "metrics_1 = set_info_1(metrics_1, df, 'Eclipse',accuracy_eclipse)\n",
    "metrics_1"
   ]
  },
  {
   "cell_type": "markdown",
   "id": "54051e63",
   "metadata": {},
   "source": [
    "**Save the values in the data frame nammed metric_2** "
   ]
  },
  {
   "cell_type": "code",
   "execution_count": 60,
   "id": "c6f1b200",
   "metadata": {
    "scrolled": true
   },
   "outputs": [
    {
     "data": {
      "text/html": [
       "<div>\n",
       "<style scoped>\n",
       "    .dataframe tbody tr th:only-of-type {\n",
       "        vertical-align: middle;\n",
       "    }\n",
       "\n",
       "    .dataframe tbody tr th {\n",
       "        vertical-align: top;\n",
       "    }\n",
       "\n",
       "    .dataframe thead th {\n",
       "        text-align: right;\n",
       "    }\n",
       "</style>\n",
       "<table border=\"1\" class=\"dataframe\">\n",
       "  <thead>\n",
       "    <tr style=\"text-align: right;\">\n",
       "      <th></th>\n",
       "      <th>Decision_Tree Mozilla</th>\n",
       "      <th>Decision_Tree Eclipse</th>\n",
       "      <th>Decision_Tree Firefox</th>\n",
       "      <th>SVM Mozilla</th>\n",
       "      <th>SVM Eclipse</th>\n",
       "      <th>SVM Firefox</th>\n",
       "      <th>Naive_Bayes Mozilla</th>\n",
       "      <th>Naive_Bayes Eclipse</th>\n",
       "      <th>Naive_Bayes Firefox</th>\n",
       "    </tr>\n",
       "  </thead>\n",
       "  <tbody>\n",
       "    <tr>\n",
       "      <th>Accuracy</th>\n",
       "      <td>NaN</td>\n",
       "      <td>NaN</td>\n",
       "      <td>NaN</td>\n",
       "      <td>NaN</td>\n",
       "      <td>NaN</td>\n",
       "      <td>NaN</td>\n",
       "      <td>0.93</td>\n",
       "      <td>0.91</td>\n",
       "      <td>0.91</td>\n",
       "    </tr>\n",
       "    <tr>\n",
       "      <th>Precision Secure</th>\n",
       "      <td>NaN</td>\n",
       "      <td>NaN</td>\n",
       "      <td>NaN</td>\n",
       "      <td>NaN</td>\n",
       "      <td>NaN</td>\n",
       "      <td>NaN</td>\n",
       "      <td>0.94</td>\n",
       "      <td>0.91</td>\n",
       "      <td>0.89</td>\n",
       "    </tr>\n",
       "    <tr>\n",
       "      <th>Precision No Secure</th>\n",
       "      <td>NaN</td>\n",
       "      <td>NaN</td>\n",
       "      <td>NaN</td>\n",
       "      <td>NaN</td>\n",
       "      <td>NaN</td>\n",
       "      <td>NaN</td>\n",
       "      <td>0.91</td>\n",
       "      <td>0.9</td>\n",
       "      <td>0.95</td>\n",
       "    </tr>\n",
       "    <tr>\n",
       "      <th>Recall Secure</th>\n",
       "      <td>NaN</td>\n",
       "      <td>NaN</td>\n",
       "      <td>NaN</td>\n",
       "      <td>NaN</td>\n",
       "      <td>NaN</td>\n",
       "      <td>NaN</td>\n",
       "      <td>0.95</td>\n",
       "      <td>0.93</td>\n",
       "      <td>0.96</td>\n",
       "    </tr>\n",
       "    <tr>\n",
       "      <th>Recall No Secure</th>\n",
       "      <td>NaN</td>\n",
       "      <td>NaN</td>\n",
       "      <td>NaN</td>\n",
       "      <td>NaN</td>\n",
       "      <td>NaN</td>\n",
       "      <td>NaN</td>\n",
       "      <td>0.88</td>\n",
       "      <td>0.88</td>\n",
       "      <td>0.87</td>\n",
       "    </tr>\n",
       "    <tr>\n",
       "      <th>F mesure Secure</th>\n",
       "      <td>NaN</td>\n",
       "      <td>NaN</td>\n",
       "      <td>NaN</td>\n",
       "      <td>NaN</td>\n",
       "      <td>NaN</td>\n",
       "      <td>NaN</td>\n",
       "      <td>0.94</td>\n",
       "      <td>0.92</td>\n",
       "      <td>0.92</td>\n",
       "    </tr>\n",
       "    <tr>\n",
       "      <th>F mesure No Secure</th>\n",
       "      <td>NaN</td>\n",
       "      <td>NaN</td>\n",
       "      <td>NaN</td>\n",
       "      <td>NaN</td>\n",
       "      <td>NaN</td>\n",
       "      <td>NaN</td>\n",
       "      <td>0.89</td>\n",
       "      <td>0.89</td>\n",
       "      <td>0.91</td>\n",
       "    </tr>\n",
       "  </tbody>\n",
       "</table>\n",
       "</div>"
      ],
      "text/plain": [
       "                    Decision_Tree Mozilla Decision_Tree Eclipse  \\\n",
       "Accuracy                              NaN                   NaN   \n",
       "Precision Secure                      NaN                   NaN   \n",
       "Precision No Secure                   NaN                   NaN   \n",
       "Recall Secure                         NaN                   NaN   \n",
       "Recall No Secure                      NaN                   NaN   \n",
       "F mesure Secure                       NaN                   NaN   \n",
       "F mesure No Secure                    NaN                   NaN   \n",
       "\n",
       "                    Decision_Tree Firefox SVM Mozilla SVM Eclipse SVM Firefox  \\\n",
       "Accuracy                              NaN         NaN         NaN         NaN   \n",
       "Precision Secure                      NaN         NaN         NaN         NaN   \n",
       "Precision No Secure                   NaN         NaN         NaN         NaN   \n",
       "Recall Secure                         NaN         NaN         NaN         NaN   \n",
       "Recall No Secure                      NaN         NaN         NaN         NaN   \n",
       "F mesure Secure                       NaN         NaN         NaN         NaN   \n",
       "F mesure No Secure                    NaN         NaN         NaN         NaN   \n",
       "\n",
       "                    Naive_Bayes Mozilla Naive_Bayes Eclipse  \\\n",
       "Accuracy                           0.93                0.91   \n",
       "Precision Secure                   0.94                0.91   \n",
       "Precision No Secure                0.91                 0.9   \n",
       "Recall Secure                      0.95                0.93   \n",
       "Recall No Secure                   0.88                0.88   \n",
       "F mesure Secure                    0.94                0.92   \n",
       "F mesure No Secure                 0.89                0.89   \n",
       "\n",
       "                    Naive_Bayes Firefox  \n",
       "Accuracy                           0.91  \n",
       "Precision Secure                   0.89  \n",
       "Precision No Secure                0.95  \n",
       "Recall Secure                      0.96  \n",
       "Recall No Secure                   0.87  \n",
       "F mesure Secure                    0.92  \n",
       "F mesure No Secure                 0.91  "
      ]
     },
     "execution_count": 60,
     "metadata": {},
     "output_type": "execute_result"
    }
   ],
   "source": [
    "metrics_2 = set_info_2(metrics_2, df, 'Eclipse','Naive_Bayes',accuracy_eclipse)\n",
    "metrics_2"
   ]
  },
  {
   "cell_type": "markdown",
   "id": "4e3e97a9",
   "metadata": {},
   "source": [
    "## 5.2 Decision Tree"
   ]
  },
  {
   "cell_type": "markdown",
   "id": "ee97910f",
   "metadata": {},
   "source": [
    "### 5.2.1 Mozilla"
   ]
  },
  {
   "cell_type": "code",
   "execution_count": 61,
   "id": "ca40aab9",
   "metadata": {},
   "outputs": [],
   "source": [
    "clf = tree.DecisionTreeClassifier()\n",
    "y_pred_mozilla = clf.fit(X_train_mozilla, y_train_mozilla).predict(X_test_mozilla)"
   ]
  },
  {
   "cell_type": "code",
   "execution_count": 62,
   "id": "b42f94d2",
   "metadata": {},
   "outputs": [
    {
     "name": "stdout",
     "output_type": "stream",
     "text": [
      "the accuracy is : 0.92\n"
     ]
    }
   ],
   "source": [
    "print(\"the accuracy is : %.2f\"%accuracy_score(y_test_mozilla,y_pred_mozilla))\n",
    "accuracy_mozilla =accuracy_score(y_test_mozilla,y_pred_mozilla)"
   ]
  },
  {
   "cell_type": "code",
   "execution_count": 63,
   "id": "65543f15",
   "metadata": {},
   "outputs": [
    {
     "name": "stdout",
     "output_type": "stream",
     "text": [
      "              precision    recall  f1-score   support\n",
      "\n",
      "           0       0.92      0.96      0.94      1854\n",
      "           1       0.91      0.85      0.88      1019\n",
      "\n",
      "    accuracy                           0.92      2873\n",
      "   macro avg       0.92      0.90      0.91      2873\n",
      "weighted avg       0.92      0.92      0.92      2873\n",
      "\n"
     ]
    }
   ],
   "source": [
    "dt_ho_score = (classification_report(y_test_mozilla, y_pred_mozilla))\n",
    "df=classification_report_csv(dt_ho_score)\n",
    "print(dt_ho_score)"
   ]
  },
  {
   "cell_type": "code",
   "execution_count": 64,
   "id": "f0a7955f",
   "metadata": {},
   "outputs": [
    {
     "data": {
      "text/html": [
       "<div>\n",
       "<style scoped>\n",
       "    .dataframe tbody tr th:only-of-type {\n",
       "        vertical-align: middle;\n",
       "    }\n",
       "\n",
       "    .dataframe tbody tr th {\n",
       "        vertical-align: top;\n",
       "    }\n",
       "\n",
       "    .dataframe thead th {\n",
       "        text-align: right;\n",
       "    }\n",
       "</style>\n",
       "<table border=\"1\" class=\"dataframe\">\n",
       "  <thead>\n",
       "    <tr style=\"text-align: right;\">\n",
       "      <th></th>\n",
       "      <th>Decision_Tree Mozilla</th>\n",
       "      <th>Decision_Tree Eclipse</th>\n",
       "      <th>Decision_Tree Firefox</th>\n",
       "      <th>SVM Mozilla</th>\n",
       "      <th>SVM Eclipse</th>\n",
       "      <th>SVM Firefox</th>\n",
       "      <th>Naive_Bayes Mozilla</th>\n",
       "      <th>Naive_Bayes Eclipse</th>\n",
       "      <th>Naive_Bayes Firefox</th>\n",
       "    </tr>\n",
       "  </thead>\n",
       "  <tbody>\n",
       "    <tr>\n",
       "      <th>Accuracy</th>\n",
       "      <td>0.92</td>\n",
       "      <td>NaN</td>\n",
       "      <td>NaN</td>\n",
       "      <td>NaN</td>\n",
       "      <td>NaN</td>\n",
       "      <td>NaN</td>\n",
       "      <td>0.93</td>\n",
       "      <td>0.91</td>\n",
       "      <td>0.91</td>\n",
       "    </tr>\n",
       "    <tr>\n",
       "      <th>Precision Secure</th>\n",
       "      <td>0.92</td>\n",
       "      <td>NaN</td>\n",
       "      <td>NaN</td>\n",
       "      <td>NaN</td>\n",
       "      <td>NaN</td>\n",
       "      <td>NaN</td>\n",
       "      <td>0.94</td>\n",
       "      <td>0.91</td>\n",
       "      <td>0.89</td>\n",
       "    </tr>\n",
       "    <tr>\n",
       "      <th>Precision No Secure</th>\n",
       "      <td>0.91</td>\n",
       "      <td>NaN</td>\n",
       "      <td>NaN</td>\n",
       "      <td>NaN</td>\n",
       "      <td>NaN</td>\n",
       "      <td>NaN</td>\n",
       "      <td>0.91</td>\n",
       "      <td>0.9</td>\n",
       "      <td>0.95</td>\n",
       "    </tr>\n",
       "    <tr>\n",
       "      <th>Recall Secure</th>\n",
       "      <td>0.96</td>\n",
       "      <td>NaN</td>\n",
       "      <td>NaN</td>\n",
       "      <td>NaN</td>\n",
       "      <td>NaN</td>\n",
       "      <td>NaN</td>\n",
       "      <td>0.95</td>\n",
       "      <td>0.93</td>\n",
       "      <td>0.96</td>\n",
       "    </tr>\n",
       "    <tr>\n",
       "      <th>Recall No Secure</th>\n",
       "      <td>0.85</td>\n",
       "      <td>NaN</td>\n",
       "      <td>NaN</td>\n",
       "      <td>NaN</td>\n",
       "      <td>NaN</td>\n",
       "      <td>NaN</td>\n",
       "      <td>0.88</td>\n",
       "      <td>0.88</td>\n",
       "      <td>0.87</td>\n",
       "    </tr>\n",
       "    <tr>\n",
       "      <th>F mesure Secure</th>\n",
       "      <td>0.94</td>\n",
       "      <td>NaN</td>\n",
       "      <td>NaN</td>\n",
       "      <td>NaN</td>\n",
       "      <td>NaN</td>\n",
       "      <td>NaN</td>\n",
       "      <td>0.94</td>\n",
       "      <td>0.92</td>\n",
       "      <td>0.92</td>\n",
       "    </tr>\n",
       "    <tr>\n",
       "      <th>F mesure No Secure</th>\n",
       "      <td>0.88</td>\n",
       "      <td>NaN</td>\n",
       "      <td>NaN</td>\n",
       "      <td>NaN</td>\n",
       "      <td>NaN</td>\n",
       "      <td>NaN</td>\n",
       "      <td>0.89</td>\n",
       "      <td>0.89</td>\n",
       "      <td>0.91</td>\n",
       "    </tr>\n",
       "  </tbody>\n",
       "</table>\n",
       "</div>"
      ],
      "text/plain": [
       "                    Decision_Tree Mozilla Decision_Tree Eclipse  \\\n",
       "Accuracy                             0.92                   NaN   \n",
       "Precision Secure                     0.92                   NaN   \n",
       "Precision No Secure                  0.91                   NaN   \n",
       "Recall Secure                        0.96                   NaN   \n",
       "Recall No Secure                     0.85                   NaN   \n",
       "F mesure Secure                      0.94                   NaN   \n",
       "F mesure No Secure                   0.88                   NaN   \n",
       "\n",
       "                    Decision_Tree Firefox SVM Mozilla SVM Eclipse SVM Firefox  \\\n",
       "Accuracy                              NaN         NaN         NaN         NaN   \n",
       "Precision Secure                      NaN         NaN         NaN         NaN   \n",
       "Precision No Secure                   NaN         NaN         NaN         NaN   \n",
       "Recall Secure                         NaN         NaN         NaN         NaN   \n",
       "Recall No Secure                      NaN         NaN         NaN         NaN   \n",
       "F mesure Secure                       NaN         NaN         NaN         NaN   \n",
       "F mesure No Secure                    NaN         NaN         NaN         NaN   \n",
       "\n",
       "                    Naive_Bayes Mozilla Naive_Bayes Eclipse  \\\n",
       "Accuracy                           0.93                0.91   \n",
       "Precision Secure                   0.94                0.91   \n",
       "Precision No Secure                0.91                 0.9   \n",
       "Recall Secure                      0.95                0.93   \n",
       "Recall No Secure                   0.88                0.88   \n",
       "F mesure Secure                    0.94                0.92   \n",
       "F mesure No Secure                 0.89                0.89   \n",
       "\n",
       "                    Naive_Bayes Firefox  \n",
       "Accuracy                           0.91  \n",
       "Precision Secure                   0.89  \n",
       "Precision No Secure                0.95  \n",
       "Recall Secure                      0.96  \n",
       "Recall No Secure                   0.87  \n",
       "F mesure Secure                    0.92  \n",
       "F mesure No Secure                 0.91  "
      ]
     },
     "execution_count": 64,
     "metadata": {},
     "output_type": "execute_result"
    }
   ],
   "source": [
    "metrics_2 = set_info_2(metrics_2, df, 'Mozilla','Decision_Tree',accuracy_mozilla)\n",
    "metrics_2"
   ]
  },
  {
   "cell_type": "markdown",
   "id": "4ae1af22",
   "metadata": {},
   "source": [
    "### 5.2.2 Firefox"
   ]
  },
  {
   "cell_type": "code",
   "execution_count": 65,
   "id": "0b42b055",
   "metadata": {},
   "outputs": [],
   "source": [
    "clf = tree.DecisionTreeClassifier()\n",
    "\n",
    "y_pred_firefox = clf.fit(X_train_firefox, y_train_firefox).predict(X_test_firefox)"
   ]
  },
  {
   "cell_type": "code",
   "execution_count": 66,
   "id": "286ff561",
   "metadata": {},
   "outputs": [
    {
     "name": "stdout",
     "output_type": "stream",
     "text": [
      "the accuracy is : 0.89\n"
     ]
    }
   ],
   "source": [
    "print(\"the accuracy is : %.2f\"%accuracy_score(y_test_firefox,y_pred_firefox))\n",
    "accuracy_firefox=accuracy_score(y_test_firefox,y_pred_firefox)"
   ]
  },
  {
   "cell_type": "code",
   "execution_count": 67,
   "id": "dde60d98",
   "metadata": {},
   "outputs": [
    {
     "name": "stdout",
     "output_type": "stream",
     "text": [
      "              precision    recall  f1-score   support\n",
      "\n",
      "           0       0.88      0.93      0.90      1181\n",
      "           1       0.92      0.85      0.88      1054\n",
      "\n",
      "    accuracy                           0.89      2235\n",
      "   macro avg       0.90      0.89      0.89      2235\n",
      "weighted avg       0.90      0.89      0.89      2235\n",
      "\n"
     ]
    }
   ],
   "source": [
    "dt_ho_score = (classification_report(y_test_firefox, y_pred_firefox))\n",
    "df=classification_report_csv(dt_ho_score)\n",
    "print(dt_ho_score)"
   ]
  },
  {
   "cell_type": "code",
   "execution_count": 68,
   "id": "74d52811",
   "metadata": {
    "scrolled": true
   },
   "outputs": [
    {
     "data": {
      "text/html": [
       "<div>\n",
       "<style scoped>\n",
       "    .dataframe tbody tr th:only-of-type {\n",
       "        vertical-align: middle;\n",
       "    }\n",
       "\n",
       "    .dataframe tbody tr th {\n",
       "        vertical-align: top;\n",
       "    }\n",
       "\n",
       "    .dataframe thead th {\n",
       "        text-align: right;\n",
       "    }\n",
       "</style>\n",
       "<table border=\"1\" class=\"dataframe\">\n",
       "  <thead>\n",
       "    <tr style=\"text-align: right;\">\n",
       "      <th></th>\n",
       "      <th>Decision_Tree Mozilla</th>\n",
       "      <th>Decision_Tree Eclipse</th>\n",
       "      <th>Decision_Tree Firefox</th>\n",
       "      <th>SVM Mozilla</th>\n",
       "      <th>SVM Eclipse</th>\n",
       "      <th>SVM Firefox</th>\n",
       "      <th>Naive_Bayes Mozilla</th>\n",
       "      <th>Naive_Bayes Eclipse</th>\n",
       "      <th>Naive_Bayes Firefox</th>\n",
       "    </tr>\n",
       "  </thead>\n",
       "  <tbody>\n",
       "    <tr>\n",
       "      <th>Accuracy</th>\n",
       "      <td>0.92</td>\n",
       "      <td>NaN</td>\n",
       "      <td>0.89</td>\n",
       "      <td>NaN</td>\n",
       "      <td>NaN</td>\n",
       "      <td>NaN</td>\n",
       "      <td>0.93</td>\n",
       "      <td>0.91</td>\n",
       "      <td>0.91</td>\n",
       "    </tr>\n",
       "    <tr>\n",
       "      <th>Precision Secure</th>\n",
       "      <td>0.92</td>\n",
       "      <td>NaN</td>\n",
       "      <td>0.88</td>\n",
       "      <td>NaN</td>\n",
       "      <td>NaN</td>\n",
       "      <td>NaN</td>\n",
       "      <td>0.94</td>\n",
       "      <td>0.91</td>\n",
       "      <td>0.89</td>\n",
       "    </tr>\n",
       "    <tr>\n",
       "      <th>Precision No Secure</th>\n",
       "      <td>0.91</td>\n",
       "      <td>NaN</td>\n",
       "      <td>0.92</td>\n",
       "      <td>NaN</td>\n",
       "      <td>NaN</td>\n",
       "      <td>NaN</td>\n",
       "      <td>0.91</td>\n",
       "      <td>0.9</td>\n",
       "      <td>0.95</td>\n",
       "    </tr>\n",
       "    <tr>\n",
       "      <th>Recall Secure</th>\n",
       "      <td>0.96</td>\n",
       "      <td>NaN</td>\n",
       "      <td>0.93</td>\n",
       "      <td>NaN</td>\n",
       "      <td>NaN</td>\n",
       "      <td>NaN</td>\n",
       "      <td>0.95</td>\n",
       "      <td>0.93</td>\n",
       "      <td>0.96</td>\n",
       "    </tr>\n",
       "    <tr>\n",
       "      <th>Recall No Secure</th>\n",
       "      <td>0.85</td>\n",
       "      <td>NaN</td>\n",
       "      <td>0.85</td>\n",
       "      <td>NaN</td>\n",
       "      <td>NaN</td>\n",
       "      <td>NaN</td>\n",
       "      <td>0.88</td>\n",
       "      <td>0.88</td>\n",
       "      <td>0.87</td>\n",
       "    </tr>\n",
       "    <tr>\n",
       "      <th>F mesure Secure</th>\n",
       "      <td>0.94</td>\n",
       "      <td>NaN</td>\n",
       "      <td>0.9</td>\n",
       "      <td>NaN</td>\n",
       "      <td>NaN</td>\n",
       "      <td>NaN</td>\n",
       "      <td>0.94</td>\n",
       "      <td>0.92</td>\n",
       "      <td>0.92</td>\n",
       "    </tr>\n",
       "    <tr>\n",
       "      <th>F mesure No Secure</th>\n",
       "      <td>0.88</td>\n",
       "      <td>NaN</td>\n",
       "      <td>0.88</td>\n",
       "      <td>NaN</td>\n",
       "      <td>NaN</td>\n",
       "      <td>NaN</td>\n",
       "      <td>0.89</td>\n",
       "      <td>0.89</td>\n",
       "      <td>0.91</td>\n",
       "    </tr>\n",
       "  </tbody>\n",
       "</table>\n",
       "</div>"
      ],
      "text/plain": [
       "                    Decision_Tree Mozilla Decision_Tree Eclipse  \\\n",
       "Accuracy                             0.92                   NaN   \n",
       "Precision Secure                     0.92                   NaN   \n",
       "Precision No Secure                  0.91                   NaN   \n",
       "Recall Secure                        0.96                   NaN   \n",
       "Recall No Secure                     0.85                   NaN   \n",
       "F mesure Secure                      0.94                   NaN   \n",
       "F mesure No Secure                   0.88                   NaN   \n",
       "\n",
       "                    Decision_Tree Firefox SVM Mozilla SVM Eclipse SVM Firefox  \\\n",
       "Accuracy                             0.89         NaN         NaN         NaN   \n",
       "Precision Secure                     0.88         NaN         NaN         NaN   \n",
       "Precision No Secure                  0.92         NaN         NaN         NaN   \n",
       "Recall Secure                        0.93         NaN         NaN         NaN   \n",
       "Recall No Secure                     0.85         NaN         NaN         NaN   \n",
       "F mesure Secure                       0.9         NaN         NaN         NaN   \n",
       "F mesure No Secure                   0.88         NaN         NaN         NaN   \n",
       "\n",
       "                    Naive_Bayes Mozilla Naive_Bayes Eclipse  \\\n",
       "Accuracy                           0.93                0.91   \n",
       "Precision Secure                   0.94                0.91   \n",
       "Precision No Secure                0.91                 0.9   \n",
       "Recall Secure                      0.95                0.93   \n",
       "Recall No Secure                   0.88                0.88   \n",
       "F mesure Secure                    0.94                0.92   \n",
       "F mesure No Secure                 0.89                0.89   \n",
       "\n",
       "                    Naive_Bayes Firefox  \n",
       "Accuracy                           0.91  \n",
       "Precision Secure                   0.89  \n",
       "Precision No Secure                0.95  \n",
       "Recall Secure                      0.96  \n",
       "Recall No Secure                   0.87  \n",
       "F mesure Secure                    0.92  \n",
       "F mesure No Secure                 0.91  "
      ]
     },
     "execution_count": 68,
     "metadata": {},
     "output_type": "execute_result"
    }
   ],
   "source": [
    "metrics_2 = set_info_2(metrics_2, df, 'Firefox','Decision_Tree',accuracy_firefox)\n",
    "metrics_2"
   ]
  },
  {
   "cell_type": "markdown",
   "id": "a1e609b2",
   "metadata": {},
   "source": [
    "### 5.2.3 Eclipse"
   ]
  },
  {
   "cell_type": "code",
   "execution_count": 69,
   "id": "9e1bd6d0",
   "metadata": {},
   "outputs": [],
   "source": [
    "clf = tree.DecisionTreeClassifier()\n",
    "y_pred_eclipse = clf.fit(X_train_eclipse, y_train_eclipse).predict(X_test_eclipse)"
   ]
  },
  {
   "cell_type": "code",
   "execution_count": 70,
   "id": "ecc1ec6b",
   "metadata": {},
   "outputs": [
    {
     "name": "stdout",
     "output_type": "stream",
     "text": [
      "the accuracy is : 0.91\n"
     ]
    }
   ],
   "source": [
    "print(\"the accuracy is : %.2f\"%accuracy_score(y_test_eclipse,y_pred_eclipse))\n",
    "accuracy_eclipse=accuracy_score(y_test_eclipse,y_pred_eclipse)"
   ]
  },
  {
   "cell_type": "code",
   "execution_count": 71,
   "id": "3f9d54f0",
   "metadata": {},
   "outputs": [
    {
     "name": "stdout",
     "output_type": "stream",
     "text": [
      "              precision    recall  f1-score   support\n",
      "\n",
      "           0       0.90      0.95      0.92      1436\n",
      "           1       0.92      0.86      0.89      1038\n",
      "\n",
      "    accuracy                           0.91      2474\n",
      "   macro avg       0.91      0.90      0.91      2474\n",
      "weighted avg       0.91      0.91      0.91      2474\n",
      "\n"
     ]
    }
   ],
   "source": [
    "dt_ho_score = (classification_report(y_test_eclipse, y_pred_eclipse))\n",
    "df=classification_report_csv(dt_ho_score)\n",
    "print(dt_ho_score)"
   ]
  },
  {
   "cell_type": "code",
   "execution_count": 72,
   "id": "5c949cfa",
   "metadata": {},
   "outputs": [
    {
     "data": {
      "text/html": [
       "<div>\n",
       "<style scoped>\n",
       "    .dataframe tbody tr th:only-of-type {\n",
       "        vertical-align: middle;\n",
       "    }\n",
       "\n",
       "    .dataframe tbody tr th {\n",
       "        vertical-align: top;\n",
       "    }\n",
       "\n",
       "    .dataframe thead th {\n",
       "        text-align: right;\n",
       "    }\n",
       "</style>\n",
       "<table border=\"1\" class=\"dataframe\">\n",
       "  <thead>\n",
       "    <tr style=\"text-align: right;\">\n",
       "      <th></th>\n",
       "      <th>Decision_Tree Mozilla</th>\n",
       "      <th>Decision_Tree Eclipse</th>\n",
       "      <th>Decision_Tree Firefox</th>\n",
       "      <th>SVM Mozilla</th>\n",
       "      <th>SVM Eclipse</th>\n",
       "      <th>SVM Firefox</th>\n",
       "      <th>Naive_Bayes Mozilla</th>\n",
       "      <th>Naive_Bayes Eclipse</th>\n",
       "      <th>Naive_Bayes Firefox</th>\n",
       "    </tr>\n",
       "  </thead>\n",
       "  <tbody>\n",
       "    <tr>\n",
       "      <th>Accuracy</th>\n",
       "      <td>0.92</td>\n",
       "      <td>0.91</td>\n",
       "      <td>0.89</td>\n",
       "      <td>NaN</td>\n",
       "      <td>NaN</td>\n",
       "      <td>NaN</td>\n",
       "      <td>0.93</td>\n",
       "      <td>0.91</td>\n",
       "      <td>0.91</td>\n",
       "    </tr>\n",
       "    <tr>\n",
       "      <th>Precision Secure</th>\n",
       "      <td>0.92</td>\n",
       "      <td>0.9</td>\n",
       "      <td>0.88</td>\n",
       "      <td>NaN</td>\n",
       "      <td>NaN</td>\n",
       "      <td>NaN</td>\n",
       "      <td>0.94</td>\n",
       "      <td>0.91</td>\n",
       "      <td>0.89</td>\n",
       "    </tr>\n",
       "    <tr>\n",
       "      <th>Precision No Secure</th>\n",
       "      <td>0.91</td>\n",
       "      <td>0.92</td>\n",
       "      <td>0.92</td>\n",
       "      <td>NaN</td>\n",
       "      <td>NaN</td>\n",
       "      <td>NaN</td>\n",
       "      <td>0.91</td>\n",
       "      <td>0.9</td>\n",
       "      <td>0.95</td>\n",
       "    </tr>\n",
       "    <tr>\n",
       "      <th>Recall Secure</th>\n",
       "      <td>0.96</td>\n",
       "      <td>0.95</td>\n",
       "      <td>0.93</td>\n",
       "      <td>NaN</td>\n",
       "      <td>NaN</td>\n",
       "      <td>NaN</td>\n",
       "      <td>0.95</td>\n",
       "      <td>0.93</td>\n",
       "      <td>0.96</td>\n",
       "    </tr>\n",
       "    <tr>\n",
       "      <th>Recall No Secure</th>\n",
       "      <td>0.85</td>\n",
       "      <td>0.86</td>\n",
       "      <td>0.85</td>\n",
       "      <td>NaN</td>\n",
       "      <td>NaN</td>\n",
       "      <td>NaN</td>\n",
       "      <td>0.88</td>\n",
       "      <td>0.88</td>\n",
       "      <td>0.87</td>\n",
       "    </tr>\n",
       "    <tr>\n",
       "      <th>F mesure Secure</th>\n",
       "      <td>0.94</td>\n",
       "      <td>0.92</td>\n",
       "      <td>0.9</td>\n",
       "      <td>NaN</td>\n",
       "      <td>NaN</td>\n",
       "      <td>NaN</td>\n",
       "      <td>0.94</td>\n",
       "      <td>0.92</td>\n",
       "      <td>0.92</td>\n",
       "    </tr>\n",
       "    <tr>\n",
       "      <th>F mesure No Secure</th>\n",
       "      <td>0.88</td>\n",
       "      <td>0.89</td>\n",
       "      <td>0.88</td>\n",
       "      <td>NaN</td>\n",
       "      <td>NaN</td>\n",
       "      <td>NaN</td>\n",
       "      <td>0.89</td>\n",
       "      <td>0.89</td>\n",
       "      <td>0.91</td>\n",
       "    </tr>\n",
       "  </tbody>\n",
       "</table>\n",
       "</div>"
      ],
      "text/plain": [
       "                    Decision_Tree Mozilla Decision_Tree Eclipse  \\\n",
       "Accuracy                             0.92                  0.91   \n",
       "Precision Secure                     0.92                   0.9   \n",
       "Precision No Secure                  0.91                  0.92   \n",
       "Recall Secure                        0.96                  0.95   \n",
       "Recall No Secure                     0.85                  0.86   \n",
       "F mesure Secure                      0.94                  0.92   \n",
       "F mesure No Secure                   0.88                  0.89   \n",
       "\n",
       "                    Decision_Tree Firefox SVM Mozilla SVM Eclipse SVM Firefox  \\\n",
       "Accuracy                             0.89         NaN         NaN         NaN   \n",
       "Precision Secure                     0.88         NaN         NaN         NaN   \n",
       "Precision No Secure                  0.92         NaN         NaN         NaN   \n",
       "Recall Secure                        0.93         NaN         NaN         NaN   \n",
       "Recall No Secure                     0.85         NaN         NaN         NaN   \n",
       "F mesure Secure                       0.9         NaN         NaN         NaN   \n",
       "F mesure No Secure                   0.88         NaN         NaN         NaN   \n",
       "\n",
       "                    Naive_Bayes Mozilla Naive_Bayes Eclipse  \\\n",
       "Accuracy                           0.93                0.91   \n",
       "Precision Secure                   0.94                0.91   \n",
       "Precision No Secure                0.91                 0.9   \n",
       "Recall Secure                      0.95                0.93   \n",
       "Recall No Secure                   0.88                0.88   \n",
       "F mesure Secure                    0.94                0.92   \n",
       "F mesure No Secure                 0.89                0.89   \n",
       "\n",
       "                    Naive_Bayes Firefox  \n",
       "Accuracy                           0.91  \n",
       "Precision Secure                   0.89  \n",
       "Precision No Secure                0.95  \n",
       "Recall Secure                      0.96  \n",
       "Recall No Secure                   0.87  \n",
       "F mesure Secure                    0.92  \n",
       "F mesure No Secure                 0.91  "
      ]
     },
     "execution_count": 72,
     "metadata": {},
     "output_type": "execute_result"
    }
   ],
   "source": [
    "metrics_2 = set_info_2(metrics_2, df, 'Eclipse','Decision_Tree',accuracy_eclipse)\n",
    "metrics_2"
   ]
  },
  {
   "cell_type": "markdown",
   "id": "8b63b402",
   "metadata": {},
   "source": [
    "## 5.3 SVM (SVC)"
   ]
  },
  {
   "cell_type": "markdown",
   "id": "9df4d8b7",
   "metadata": {},
   "source": [
    "### 5.3.1 Mozilla"
   ]
  },
  {
   "cell_type": "code",
   "execution_count": 73,
   "id": "76703c71",
   "metadata": {},
   "outputs": [],
   "source": [
    "clf = SVC(max_iter=100)\n",
    "y_pred_mozilla = clf.fit(X_train_mozilla, y_train_mozilla).predict(X_test_mozilla)"
   ]
  },
  {
   "cell_type": "code",
   "execution_count": 74,
   "id": "28ea0eb9",
   "metadata": {},
   "outputs": [
    {
     "name": "stdout",
     "output_type": "stream",
     "text": [
      "the accuracy is : 0.68\n"
     ]
    }
   ],
   "source": [
    "print(\"the accuracy is : %.2f\"%accuracy_score(y_test_mozilla,y_pred_mozilla))\n",
    "accuracy_mozilla=accuracy_score(y_test_mozilla,y_pred_mozilla)"
   ]
  },
  {
   "cell_type": "code",
   "execution_count": 75,
   "id": "42c2df85",
   "metadata": {},
   "outputs": [
    {
     "name": "stdout",
     "output_type": "stream",
     "text": [
      "              precision    recall  f1-score   support\n",
      "\n",
      "           0       0.67      1.00      0.80      1854\n",
      "           1       0.92      0.10      0.17      1019\n",
      "\n",
      "    accuracy                           0.68      2873\n",
      "   macro avg       0.79      0.55      0.49      2873\n",
      "weighted avg       0.75      0.68      0.58      2873\n",
      "\n"
     ]
    }
   ],
   "source": [
    "dt_ho_score = (classification_report(y_test_mozilla, y_pred_mozilla))\n",
    "df=classification_report_csv(dt_ho_score)\n",
    "print(dt_ho_score)"
   ]
  },
  {
   "cell_type": "code",
   "execution_count": 76,
   "id": "2b49a972",
   "metadata": {},
   "outputs": [
    {
     "data": {
      "text/html": [
       "<div>\n",
       "<style scoped>\n",
       "    .dataframe tbody tr th:only-of-type {\n",
       "        vertical-align: middle;\n",
       "    }\n",
       "\n",
       "    .dataframe tbody tr th {\n",
       "        vertical-align: top;\n",
       "    }\n",
       "\n",
       "    .dataframe thead th {\n",
       "        text-align: right;\n",
       "    }\n",
       "</style>\n",
       "<table border=\"1\" class=\"dataframe\">\n",
       "  <thead>\n",
       "    <tr style=\"text-align: right;\">\n",
       "      <th></th>\n",
       "      <th>Decision_Tree Mozilla</th>\n",
       "      <th>Decision_Tree Eclipse</th>\n",
       "      <th>Decision_Tree Firefox</th>\n",
       "      <th>SVM Mozilla</th>\n",
       "      <th>SVM Eclipse</th>\n",
       "      <th>SVM Firefox</th>\n",
       "      <th>Naive_Bayes Mozilla</th>\n",
       "      <th>Naive_Bayes Eclipse</th>\n",
       "      <th>Naive_Bayes Firefox</th>\n",
       "    </tr>\n",
       "  </thead>\n",
       "  <tbody>\n",
       "    <tr>\n",
       "      <th>Accuracy</th>\n",
       "      <td>0.92</td>\n",
       "      <td>0.91</td>\n",
       "      <td>0.89</td>\n",
       "      <td>0.68</td>\n",
       "      <td>NaN</td>\n",
       "      <td>NaN</td>\n",
       "      <td>0.93</td>\n",
       "      <td>0.91</td>\n",
       "      <td>0.91</td>\n",
       "    </tr>\n",
       "    <tr>\n",
       "      <th>Precision Secure</th>\n",
       "      <td>0.92</td>\n",
       "      <td>0.9</td>\n",
       "      <td>0.88</td>\n",
       "      <td>0.67</td>\n",
       "      <td>NaN</td>\n",
       "      <td>NaN</td>\n",
       "      <td>0.94</td>\n",
       "      <td>0.91</td>\n",
       "      <td>0.89</td>\n",
       "    </tr>\n",
       "    <tr>\n",
       "      <th>Precision No Secure</th>\n",
       "      <td>0.91</td>\n",
       "      <td>0.92</td>\n",
       "      <td>0.92</td>\n",
       "      <td>0.92</td>\n",
       "      <td>NaN</td>\n",
       "      <td>NaN</td>\n",
       "      <td>0.91</td>\n",
       "      <td>0.9</td>\n",
       "      <td>0.95</td>\n",
       "    </tr>\n",
       "    <tr>\n",
       "      <th>Recall Secure</th>\n",
       "      <td>0.96</td>\n",
       "      <td>0.95</td>\n",
       "      <td>0.93</td>\n",
       "      <td>1.0</td>\n",
       "      <td>NaN</td>\n",
       "      <td>NaN</td>\n",
       "      <td>0.95</td>\n",
       "      <td>0.93</td>\n",
       "      <td>0.96</td>\n",
       "    </tr>\n",
       "    <tr>\n",
       "      <th>Recall No Secure</th>\n",
       "      <td>0.85</td>\n",
       "      <td>0.86</td>\n",
       "      <td>0.85</td>\n",
       "      <td>0.1</td>\n",
       "      <td>NaN</td>\n",
       "      <td>NaN</td>\n",
       "      <td>0.88</td>\n",
       "      <td>0.88</td>\n",
       "      <td>0.87</td>\n",
       "    </tr>\n",
       "    <tr>\n",
       "      <th>F mesure Secure</th>\n",
       "      <td>0.94</td>\n",
       "      <td>0.92</td>\n",
       "      <td>0.9</td>\n",
       "      <td>0.8</td>\n",
       "      <td>NaN</td>\n",
       "      <td>NaN</td>\n",
       "      <td>0.94</td>\n",
       "      <td>0.92</td>\n",
       "      <td>0.92</td>\n",
       "    </tr>\n",
       "    <tr>\n",
       "      <th>F mesure No Secure</th>\n",
       "      <td>0.88</td>\n",
       "      <td>0.89</td>\n",
       "      <td>0.88</td>\n",
       "      <td>0.17</td>\n",
       "      <td>NaN</td>\n",
       "      <td>NaN</td>\n",
       "      <td>0.89</td>\n",
       "      <td>0.89</td>\n",
       "      <td>0.91</td>\n",
       "    </tr>\n",
       "  </tbody>\n",
       "</table>\n",
       "</div>"
      ],
      "text/plain": [
       "                    Decision_Tree Mozilla Decision_Tree Eclipse  \\\n",
       "Accuracy                             0.92                  0.91   \n",
       "Precision Secure                     0.92                   0.9   \n",
       "Precision No Secure                  0.91                  0.92   \n",
       "Recall Secure                        0.96                  0.95   \n",
       "Recall No Secure                     0.85                  0.86   \n",
       "F mesure Secure                      0.94                  0.92   \n",
       "F mesure No Secure                   0.88                  0.89   \n",
       "\n",
       "                    Decision_Tree Firefox SVM Mozilla SVM Eclipse SVM Firefox  \\\n",
       "Accuracy                             0.89        0.68         NaN         NaN   \n",
       "Precision Secure                     0.88        0.67         NaN         NaN   \n",
       "Precision No Secure                  0.92        0.92         NaN         NaN   \n",
       "Recall Secure                        0.93         1.0         NaN         NaN   \n",
       "Recall No Secure                     0.85         0.1         NaN         NaN   \n",
       "F mesure Secure                       0.9         0.8         NaN         NaN   \n",
       "F mesure No Secure                   0.88        0.17         NaN         NaN   \n",
       "\n",
       "                    Naive_Bayes Mozilla Naive_Bayes Eclipse  \\\n",
       "Accuracy                           0.93                0.91   \n",
       "Precision Secure                   0.94                0.91   \n",
       "Precision No Secure                0.91                 0.9   \n",
       "Recall Secure                      0.95                0.93   \n",
       "Recall No Secure                   0.88                0.88   \n",
       "F mesure Secure                    0.94                0.92   \n",
       "F mesure No Secure                 0.89                0.89   \n",
       "\n",
       "                    Naive_Bayes Firefox  \n",
       "Accuracy                           0.91  \n",
       "Precision Secure                   0.89  \n",
       "Precision No Secure                0.95  \n",
       "Recall Secure                      0.96  \n",
       "Recall No Secure                   0.87  \n",
       "F mesure Secure                    0.92  \n",
       "F mesure No Secure                 0.91  "
      ]
     },
     "execution_count": 76,
     "metadata": {},
     "output_type": "execute_result"
    }
   ],
   "source": [
    "metrics_2 = set_info_2(metrics_2, df, 'Mozilla','SVM',accuracy_mozilla)\n",
    "metrics_2"
   ]
  },
  {
   "cell_type": "markdown",
   "id": "a00537b2",
   "metadata": {},
   "source": [
    "### 5.2.2 Firefox"
   ]
  },
  {
   "cell_type": "code",
   "execution_count": 77,
   "id": "60b89c4d",
   "metadata": {},
   "outputs": [],
   "source": [
    "clf = SVC(max_iter=100)\n",
    "y_pred_firefox = clf.fit(X_train_firefox, y_train_firefox).predict(X_test_firefox)"
   ]
  },
  {
   "cell_type": "code",
   "execution_count": 78,
   "id": "dea65405",
   "metadata": {},
   "outputs": [
    {
     "name": "stdout",
     "output_type": "stream",
     "text": [
      "the accuracy is : 0.51\n"
     ]
    }
   ],
   "source": [
    "print(\"the accuracy is : %.2f\"%accuracy_score(y_test_firefox,y_pred_firefox))\n",
    "accuracy_firefox=accuracy_score(y_test_firefox,y_pred_firefox)"
   ]
  },
  {
   "cell_type": "code",
   "execution_count": 79,
   "id": "90d4df68",
   "metadata": {},
   "outputs": [
    {
     "name": "stdout",
     "output_type": "stream",
     "text": [
      "              precision    recall  f1-score   support\n",
      "\n",
      "           0       0.52      0.96      0.67      1181\n",
      "           1       0.26      0.02      0.03      1054\n",
      "\n",
      "    accuracy                           0.51      2235\n",
      "   macro avg       0.39      0.49      0.35      2235\n",
      "weighted avg       0.40      0.51      0.37      2235\n",
      "\n"
     ]
    }
   ],
   "source": [
    "dt_ho_score = (classification_report(y_test_firefox, y_pred_firefox))\n",
    "df=classification_report_csv(dt_ho_score)\n",
    "print(dt_ho_score)"
   ]
  },
  {
   "cell_type": "code",
   "execution_count": 80,
   "id": "e1e60dce",
   "metadata": {
    "scrolled": true
   },
   "outputs": [
    {
     "data": {
      "text/html": [
       "<div>\n",
       "<style scoped>\n",
       "    .dataframe tbody tr th:only-of-type {\n",
       "        vertical-align: middle;\n",
       "    }\n",
       "\n",
       "    .dataframe tbody tr th {\n",
       "        vertical-align: top;\n",
       "    }\n",
       "\n",
       "    .dataframe thead th {\n",
       "        text-align: right;\n",
       "    }\n",
       "</style>\n",
       "<table border=\"1\" class=\"dataframe\">\n",
       "  <thead>\n",
       "    <tr style=\"text-align: right;\">\n",
       "      <th></th>\n",
       "      <th>Decision_Tree Mozilla</th>\n",
       "      <th>Decision_Tree Eclipse</th>\n",
       "      <th>Decision_Tree Firefox</th>\n",
       "      <th>SVM Mozilla</th>\n",
       "      <th>SVM Eclipse</th>\n",
       "      <th>SVM Firefox</th>\n",
       "      <th>Naive_Bayes Mozilla</th>\n",
       "      <th>Naive_Bayes Eclipse</th>\n",
       "      <th>Naive_Bayes Firefox</th>\n",
       "    </tr>\n",
       "  </thead>\n",
       "  <tbody>\n",
       "    <tr>\n",
       "      <th>Accuracy</th>\n",
       "      <td>0.92</td>\n",
       "      <td>0.91</td>\n",
       "      <td>0.89</td>\n",
       "      <td>0.68</td>\n",
       "      <td>NaN</td>\n",
       "      <td>0.51</td>\n",
       "      <td>0.93</td>\n",
       "      <td>0.91</td>\n",
       "      <td>0.91</td>\n",
       "    </tr>\n",
       "    <tr>\n",
       "      <th>Precision Secure</th>\n",
       "      <td>0.92</td>\n",
       "      <td>0.9</td>\n",
       "      <td>0.88</td>\n",
       "      <td>0.67</td>\n",
       "      <td>NaN</td>\n",
       "      <td>0.52</td>\n",
       "      <td>0.94</td>\n",
       "      <td>0.91</td>\n",
       "      <td>0.89</td>\n",
       "    </tr>\n",
       "    <tr>\n",
       "      <th>Precision No Secure</th>\n",
       "      <td>0.91</td>\n",
       "      <td>0.92</td>\n",
       "      <td>0.92</td>\n",
       "      <td>0.92</td>\n",
       "      <td>NaN</td>\n",
       "      <td>0.26</td>\n",
       "      <td>0.91</td>\n",
       "      <td>0.9</td>\n",
       "      <td>0.95</td>\n",
       "    </tr>\n",
       "    <tr>\n",
       "      <th>Recall Secure</th>\n",
       "      <td>0.96</td>\n",
       "      <td>0.95</td>\n",
       "      <td>0.93</td>\n",
       "      <td>1.0</td>\n",
       "      <td>NaN</td>\n",
       "      <td>0.96</td>\n",
       "      <td>0.95</td>\n",
       "      <td>0.93</td>\n",
       "      <td>0.96</td>\n",
       "    </tr>\n",
       "    <tr>\n",
       "      <th>Recall No Secure</th>\n",
       "      <td>0.85</td>\n",
       "      <td>0.86</td>\n",
       "      <td>0.85</td>\n",
       "      <td>0.1</td>\n",
       "      <td>NaN</td>\n",
       "      <td>0.02</td>\n",
       "      <td>0.88</td>\n",
       "      <td>0.88</td>\n",
       "      <td>0.87</td>\n",
       "    </tr>\n",
       "    <tr>\n",
       "      <th>F mesure Secure</th>\n",
       "      <td>0.94</td>\n",
       "      <td>0.92</td>\n",
       "      <td>0.9</td>\n",
       "      <td>0.8</td>\n",
       "      <td>NaN</td>\n",
       "      <td>0.67</td>\n",
       "      <td>0.94</td>\n",
       "      <td>0.92</td>\n",
       "      <td>0.92</td>\n",
       "    </tr>\n",
       "    <tr>\n",
       "      <th>F mesure No Secure</th>\n",
       "      <td>0.88</td>\n",
       "      <td>0.89</td>\n",
       "      <td>0.88</td>\n",
       "      <td>0.17</td>\n",
       "      <td>NaN</td>\n",
       "      <td>0.03</td>\n",
       "      <td>0.89</td>\n",
       "      <td>0.89</td>\n",
       "      <td>0.91</td>\n",
       "    </tr>\n",
       "  </tbody>\n",
       "</table>\n",
       "</div>"
      ],
      "text/plain": [
       "                    Decision_Tree Mozilla Decision_Tree Eclipse  \\\n",
       "Accuracy                             0.92                  0.91   \n",
       "Precision Secure                     0.92                   0.9   \n",
       "Precision No Secure                  0.91                  0.92   \n",
       "Recall Secure                        0.96                  0.95   \n",
       "Recall No Secure                     0.85                  0.86   \n",
       "F mesure Secure                      0.94                  0.92   \n",
       "F mesure No Secure                   0.88                  0.89   \n",
       "\n",
       "                    Decision_Tree Firefox SVM Mozilla SVM Eclipse SVM Firefox  \\\n",
       "Accuracy                             0.89        0.68         NaN        0.51   \n",
       "Precision Secure                     0.88        0.67         NaN        0.52   \n",
       "Precision No Secure                  0.92        0.92         NaN        0.26   \n",
       "Recall Secure                        0.93         1.0         NaN        0.96   \n",
       "Recall No Secure                     0.85         0.1         NaN        0.02   \n",
       "F mesure Secure                       0.9         0.8         NaN        0.67   \n",
       "F mesure No Secure                   0.88        0.17         NaN        0.03   \n",
       "\n",
       "                    Naive_Bayes Mozilla Naive_Bayes Eclipse  \\\n",
       "Accuracy                           0.93                0.91   \n",
       "Precision Secure                   0.94                0.91   \n",
       "Precision No Secure                0.91                 0.9   \n",
       "Recall Secure                      0.95                0.93   \n",
       "Recall No Secure                   0.88                0.88   \n",
       "F mesure Secure                    0.94                0.92   \n",
       "F mesure No Secure                 0.89                0.89   \n",
       "\n",
       "                    Naive_Bayes Firefox  \n",
       "Accuracy                           0.91  \n",
       "Precision Secure                   0.89  \n",
       "Precision No Secure                0.95  \n",
       "Recall Secure                      0.96  \n",
       "Recall No Secure                   0.87  \n",
       "F mesure Secure                    0.92  \n",
       "F mesure No Secure                 0.91  "
      ]
     },
     "execution_count": 80,
     "metadata": {},
     "output_type": "execute_result"
    }
   ],
   "source": [
    "metrics_2 = set_info_2(metrics_2, df, 'Firefox','SVM',accuracy_firefox)\n",
    "metrics_2"
   ]
  },
  {
   "cell_type": "markdown",
   "id": "7e74eabf",
   "metadata": {},
   "source": [
    "### 5.2.3 Eclipse"
   ]
  },
  {
   "cell_type": "code",
   "execution_count": 81,
   "id": "adde5ee4",
   "metadata": {},
   "outputs": [],
   "source": [
    "clf = SVC(max_iter=100)\n",
    "y_pred_eclipse = clf.fit(X_train_eclipse, y_train_eclipse).predict(X_test_eclipse)"
   ]
  },
  {
   "cell_type": "code",
   "execution_count": 82,
   "id": "fdfc1b3b",
   "metadata": {},
   "outputs": [
    {
     "name": "stdout",
     "output_type": "stream",
     "text": [
      "the accuracy is : 0.63\n"
     ]
    }
   ],
   "source": [
    "print(\"the accuracy is : %.2f\"%accuracy_score(y_test_eclipse,y_pred_eclipse))\n",
    "accuracy_eclipse=accuracy_score(y_test_eclipse,y_pred_eclipse)"
   ]
  },
  {
   "cell_type": "code",
   "execution_count": 83,
   "id": "430b9768",
   "metadata": {},
   "outputs": [
    {
     "name": "stdout",
     "output_type": "stream",
     "text": [
      "              precision    recall  f1-score   support\n",
      "\n",
      "           0       0.62      0.96      0.75      1436\n",
      "           1       0.76      0.17      0.28      1038\n",
      "\n",
      "    accuracy                           0.63      2474\n",
      "   macro avg       0.69      0.57      0.51      2474\n",
      "weighted avg       0.67      0.63      0.55      2474\n",
      "\n"
     ]
    }
   ],
   "source": [
    "dt_ho_score = (classification_report(y_test_eclipse, y_pred_eclipse))\n",
    "df=classification_report_csv(dt_ho_score)\n",
    "print(dt_ho_score)"
   ]
  },
  {
   "cell_type": "code",
   "execution_count": 84,
   "id": "6ef6d3c3",
   "metadata": {},
   "outputs": [
    {
     "data": {
      "text/html": [
       "<div>\n",
       "<style scoped>\n",
       "    .dataframe tbody tr th:only-of-type {\n",
       "        vertical-align: middle;\n",
       "    }\n",
       "\n",
       "    .dataframe tbody tr th {\n",
       "        vertical-align: top;\n",
       "    }\n",
       "\n",
       "    .dataframe thead th {\n",
       "        text-align: right;\n",
       "    }\n",
       "</style>\n",
       "<table border=\"1\" class=\"dataframe\">\n",
       "  <thead>\n",
       "    <tr style=\"text-align: right;\">\n",
       "      <th></th>\n",
       "      <th>Decision_Tree Mozilla</th>\n",
       "      <th>Decision_Tree Eclipse</th>\n",
       "      <th>Decision_Tree Firefox</th>\n",
       "      <th>SVM Mozilla</th>\n",
       "      <th>SVM Eclipse</th>\n",
       "      <th>SVM Firefox</th>\n",
       "      <th>Naive_Bayes Mozilla</th>\n",
       "      <th>Naive_Bayes Eclipse</th>\n",
       "      <th>Naive_Bayes Firefox</th>\n",
       "    </tr>\n",
       "  </thead>\n",
       "  <tbody>\n",
       "    <tr>\n",
       "      <th>Accuracy</th>\n",
       "      <td>0.92</td>\n",
       "      <td>0.91</td>\n",
       "      <td>0.89</td>\n",
       "      <td>0.68</td>\n",
       "      <td>0.63</td>\n",
       "      <td>0.51</td>\n",
       "      <td>0.93</td>\n",
       "      <td>0.91</td>\n",
       "      <td>0.91</td>\n",
       "    </tr>\n",
       "    <tr>\n",
       "      <th>Precision Secure</th>\n",
       "      <td>0.92</td>\n",
       "      <td>0.9</td>\n",
       "      <td>0.88</td>\n",
       "      <td>0.67</td>\n",
       "      <td>0.62</td>\n",
       "      <td>0.52</td>\n",
       "      <td>0.94</td>\n",
       "      <td>0.91</td>\n",
       "      <td>0.89</td>\n",
       "    </tr>\n",
       "    <tr>\n",
       "      <th>Precision No Secure</th>\n",
       "      <td>0.91</td>\n",
       "      <td>0.92</td>\n",
       "      <td>0.92</td>\n",
       "      <td>0.92</td>\n",
       "      <td>0.76</td>\n",
       "      <td>0.26</td>\n",
       "      <td>0.91</td>\n",
       "      <td>0.9</td>\n",
       "      <td>0.95</td>\n",
       "    </tr>\n",
       "    <tr>\n",
       "      <th>Recall Secure</th>\n",
       "      <td>0.96</td>\n",
       "      <td>0.95</td>\n",
       "      <td>0.93</td>\n",
       "      <td>1.0</td>\n",
       "      <td>0.96</td>\n",
       "      <td>0.96</td>\n",
       "      <td>0.95</td>\n",
       "      <td>0.93</td>\n",
       "      <td>0.96</td>\n",
       "    </tr>\n",
       "    <tr>\n",
       "      <th>Recall No Secure</th>\n",
       "      <td>0.85</td>\n",
       "      <td>0.86</td>\n",
       "      <td>0.85</td>\n",
       "      <td>0.1</td>\n",
       "      <td>0.17</td>\n",
       "      <td>0.02</td>\n",
       "      <td>0.88</td>\n",
       "      <td>0.88</td>\n",
       "      <td>0.87</td>\n",
       "    </tr>\n",
       "    <tr>\n",
       "      <th>F mesure Secure</th>\n",
       "      <td>0.94</td>\n",
       "      <td>0.92</td>\n",
       "      <td>0.9</td>\n",
       "      <td>0.8</td>\n",
       "      <td>0.75</td>\n",
       "      <td>0.67</td>\n",
       "      <td>0.94</td>\n",
       "      <td>0.92</td>\n",
       "      <td>0.92</td>\n",
       "    </tr>\n",
       "    <tr>\n",
       "      <th>F mesure No Secure</th>\n",
       "      <td>0.88</td>\n",
       "      <td>0.89</td>\n",
       "      <td>0.88</td>\n",
       "      <td>0.17</td>\n",
       "      <td>0.28</td>\n",
       "      <td>0.03</td>\n",
       "      <td>0.89</td>\n",
       "      <td>0.89</td>\n",
       "      <td>0.91</td>\n",
       "    </tr>\n",
       "  </tbody>\n",
       "</table>\n",
       "</div>"
      ],
      "text/plain": [
       "                    Decision_Tree Mozilla Decision_Tree Eclipse  \\\n",
       "Accuracy                             0.92                  0.91   \n",
       "Precision Secure                     0.92                   0.9   \n",
       "Precision No Secure                  0.91                  0.92   \n",
       "Recall Secure                        0.96                  0.95   \n",
       "Recall No Secure                     0.85                  0.86   \n",
       "F mesure Secure                      0.94                  0.92   \n",
       "F mesure No Secure                   0.88                  0.89   \n",
       "\n",
       "                    Decision_Tree Firefox SVM Mozilla SVM Eclipse SVM Firefox  \\\n",
       "Accuracy                             0.89        0.68        0.63        0.51   \n",
       "Precision Secure                     0.88        0.67        0.62        0.52   \n",
       "Precision No Secure                  0.92        0.92        0.76        0.26   \n",
       "Recall Secure                        0.93         1.0        0.96        0.96   \n",
       "Recall No Secure                     0.85         0.1        0.17        0.02   \n",
       "F mesure Secure                       0.9         0.8        0.75        0.67   \n",
       "F mesure No Secure                   0.88        0.17        0.28        0.03   \n",
       "\n",
       "                    Naive_Bayes Mozilla Naive_Bayes Eclipse  \\\n",
       "Accuracy                           0.93                0.91   \n",
       "Precision Secure                   0.94                0.91   \n",
       "Precision No Secure                0.91                 0.9   \n",
       "Recall Secure                      0.95                0.93   \n",
       "Recall No Secure                   0.88                0.88   \n",
       "F mesure Secure                    0.94                0.92   \n",
       "F mesure No Secure                 0.89                0.89   \n",
       "\n",
       "                    Naive_Bayes Firefox  \n",
       "Accuracy                           0.91  \n",
       "Precision Secure                   0.89  \n",
       "Precision No Secure                0.95  \n",
       "Recall Secure                      0.96  \n",
       "Recall No Secure                   0.87  \n",
       "F mesure Secure                    0.92  \n",
       "F mesure No Secure                 0.91  "
      ]
     },
     "execution_count": 84,
     "metadata": {},
     "output_type": "execute_result"
    }
   ],
   "source": [
    "metrics_2 = set_info_2(metrics_2, df, 'Eclipse','SVM',accuracy_eclipse)\n",
    "metrics_2"
   ]
  },
  {
   "cell_type": "markdown",
   "id": "9466cd56",
   "metadata": {},
   "source": [
    "# 6. Plot the Result "
   ]
  },
  {
   "cell_type": "markdown",
   "id": "305c2a2d",
   "metadata": {},
   "source": [
    "## 6.1 Bar plot "
   ]
  },
  {
   "cell_type": "code",
   "execution_count": 85,
   "id": "61b09485",
   "metadata": {},
   "outputs": [
    {
     "data": {
      "image/png": "[encoded data removed]",
      "text/plain": [
       "<Figure size 936x432 with 1 Axes>"
      ]
     },
     "metadata": {
      "needs_background": "light"
     },
     "output_type": "display_data"
    }
   ],
   "source": [
    "metrics_1=metrics_1.astype('float')\n",
    "ax = metrics_1.transpose().plot.bar( rot=0,color=['grey','pink','red'] ,\n",
    "                                    ylim=[0.5,1], figsize=(13,6)).legend(loc='lower right')\n"
   ]
  },
  {
   "cell_type": "markdown",
   "id": "ea98191a",
   "metadata": {},
   "source": [
    "## 6.2 Scatter  plot "
   ]
  },
  {
   "cell_type": "markdown",
   "id": "2e93a6b4",
   "metadata": {},
   "source": [
    "### 6.2.1 create the method to save each metric in data frame"
   ]
  },
  {
   "cell_type": "code",
   "execution_count": 86,
   "id": "1df2e864",
   "metadata": {},
   "outputs": [],
   "source": [
    "\n",
    "def create_data_score(metric):\n",
    "    eclipse_p_s=metrics_2.loc[metric][['Decision_Tree Eclipse','SVM Eclipse','Naive_Bayes Eclipse']]\n",
    "    mozilla_p_s=metrics_2.loc[metric][['Decision_Tree Mozilla','SVM Mozilla','Naive_Bayes Mozilla']]\n",
    "    firefox_p_s=metrics_2.loc[metric][['Decision_Tree Firefox','SVM Firefox','Naive_Bayes Firefox']]\n",
    "    precision_secure=pd.DataFrame( columns=['Mozilla', 'Eclipse','Firefox'],                             \n",
    "                           index=['Decision_Tree','SVM','Stacking Naive_Bayes'])\n",
    "    precision_secure['Mozilla']=mozilla_p_s.values\n",
    "    precision_secure['Eclipse']=eclipse_p_s.values\n",
    "    precision_secure['Firefox']=firefox_p_s.values\n",
    "\n",
    "    return precision_secure"
   ]
  },
  {
   "cell_type": "markdown",
   "id": "f7853ab0",
   "metadata": {},
   "source": [
    "### 6.2.1 create the method to plot scatter for  each metric "
   ]
  },
  {
   "cell_type": "code",
   "execution_count": 87,
   "id": "38beff01",
   "metadata": {},
   "outputs": [],
   "source": [
    "from matplotlib.pyplot import scatter\n",
    "def show_metric(df_metric, title):\n",
    "    colors=['#10F3EC','#BECA55','#C90EC9']\n",
    "    markers=['o','D','s']\n",
    "    if title=='accuracy':\n",
    "        markers=['o','D','*']\n",
    "\n",
    "    plt.figure(figsize=(8, 6))\n",
    "    for column  in df_metric.columns:\n",
    "        for idx, color, m in zip(df_metric.index,colors, markers):\n",
    "            plt.scatter(x=column, y=pd.to_numeric(df_metric.loc[idx][column], downcast='float'), color =color , marker=m, s=80)\n",
    "    classes = df_metric.index\n",
    "    plt.legend(labels=classes)\n",
    "    plt.title(title)\n",
    "    plt.show()"
   ]
  },
  {
   "cell_type": "markdown",
   "id": "a150fef0",
   "metadata": {},
   "source": [
    "## 1. Precision"
   ]
  },
  {
   "cell_type": "markdown",
   "id": "2be7a075",
   "metadata": {},
   "source": [
    "### A- Precision Secure"
   ]
  },
  {
   "cell_type": "code",
   "execution_count": 88,
   "id": "630789cd",
   "metadata": {},
   "outputs": [
    {
     "data": {
      "text/html": [
       "<div>\n",
       "<style scoped>\n",
       "    .dataframe tbody tr th:only-of-type {\n",
       "        vertical-align: middle;\n",
       "    }\n",
       "\n",
       "    .dataframe tbody tr th {\n",
       "        vertical-align: top;\n",
       "    }\n",
       "\n",
       "    .dataframe thead th {\n",
       "        text-align: right;\n",
       "    }\n",
       "</style>\n",
       "<table border=\"1\" class=\"dataframe\">\n",
       "  <thead>\n",
       "    <tr style=\"text-align: right;\">\n",
       "      <th></th>\n",
       "      <th>Mozilla</th>\n",
       "      <th>Eclipse</th>\n",
       "      <th>Firefox</th>\n",
       "    </tr>\n",
       "  </thead>\n",
       "  <tbody>\n",
       "    <tr>\n",
       "      <th>Decision_Tree</th>\n",
       "      <td>0.92</td>\n",
       "      <td>0.9</td>\n",
       "      <td>0.88</td>\n",
       "    </tr>\n",
       "    <tr>\n",
       "      <th>SVM</th>\n",
       "      <td>0.67</td>\n",
       "      <td>0.62</td>\n",
       "      <td>0.52</td>\n",
       "    </tr>\n",
       "    <tr>\n",
       "      <th>Stacking Naive_Bayes</th>\n",
       "      <td>0.94</td>\n",
       "      <td>0.91</td>\n",
       "      <td>0.89</td>\n",
       "    </tr>\n",
       "  </tbody>\n",
       "</table>\n",
       "</div>"
      ],
      "text/plain": [
       "                     Mozilla Eclipse Firefox\n",
       "Decision_Tree           0.92     0.9    0.88\n",
       "SVM                     0.67    0.62    0.52\n",
       "Stacking Naive_Bayes    0.94    0.91    0.89"
      ]
     },
     "execution_count": 88,
     "metadata": {},
     "output_type": "execute_result"
    }
   ],
   "source": [
    "precision_secure=create_data_score('Precision Secure')\n",
    "precision_secure"
   ]
  },
  {
   "cell_type": "code",
   "execution_count": 89,
   "id": "8d54c105",
   "metadata": {},
   "outputs": [
    {
     "data": {
      "image/png": "[encoded data removed]",
      "text/plain": [
       "<Figure size 576x432 with 1 Axes>"
      ]
     },
     "metadata": {
      "needs_background": "light"
     },
     "output_type": "display_data"
    }
   ],
   "source": [
    "show_metric(precision_secure,'precision secure')\n"
   ]
  },
  {
   "cell_type": "markdown",
   "id": "8e7f390e",
   "metadata": {},
   "source": [
    "### B- Precision No Secure"
   ]
  },
  {
   "cell_type": "code",
   "execution_count": 90,
   "id": "f282f630",
   "metadata": {},
   "outputs": [
    {
     "data": {
      "text/html": [
       "<div>\n",
       "<style scoped>\n",
       "    .dataframe tbody tr th:only-of-type {\n",
       "        vertical-align: middle;\n",
       "    }\n",
       "\n",
       "    .dataframe tbody tr th {\n",
       "        vertical-align: top;\n",
       "    }\n",
       "\n",
       "    .dataframe thead th {\n",
       "        text-align: right;\n",
       "    }\n",
       "</style>\n",
       "<table border=\"1\" class=\"dataframe\">\n",
       "  <thead>\n",
       "    <tr style=\"text-align: right;\">\n",
       "      <th></th>\n",
       "      <th>Mozilla</th>\n",
       "      <th>Eclipse</th>\n",
       "      <th>Firefox</th>\n",
       "    </tr>\n",
       "  </thead>\n",
       "  <tbody>\n",
       "    <tr>\n",
       "      <th>Decision_Tree</th>\n",
       "      <td>0.91</td>\n",
       "      <td>0.92</td>\n",
       "      <td>0.92</td>\n",
       "    </tr>\n",
       "    <tr>\n",
       "      <th>SVM</th>\n",
       "      <td>0.92</td>\n",
       "      <td>0.76</td>\n",
       "      <td>0.26</td>\n",
       "    </tr>\n",
       "    <tr>\n",
       "      <th>Stacking Naive_Bayes</th>\n",
       "      <td>0.91</td>\n",
       "      <td>0.9</td>\n",
       "      <td>0.95</td>\n",
       "    </tr>\n",
       "  </tbody>\n",
       "</table>\n",
       "</div>"
      ],
      "text/plain": [
       "                     Mozilla Eclipse Firefox\n",
       "Decision_Tree           0.91    0.92    0.92\n",
       "SVM                     0.92    0.76    0.26\n",
       "Stacking Naive_Bayes    0.91     0.9    0.95"
      ]
     },
     "execution_count": 90,
     "metadata": {},
     "output_type": "execute_result"
    }
   ],
   "source": [
    "precision_no_secure=create_data_score('Precision No Secure')\n",
    "precision_no_secure"
   ]
  },
  {
   "cell_type": "code",
   "execution_count": 91,
   "id": "f6310d32",
   "metadata": {},
   "outputs": [
    {
     "data": {
      "image/png": "[encoded data removed]",
      "text/plain": [
       "<Figure size 576x432 with 1 Axes>"
      ]
     },
     "metadata": {
      "needs_background": "light"
     },
     "output_type": "display_data"
    }
   ],
   "source": [
    "show_metric(precision_no_secure,'precision No secure')\n"
   ]
  },
  {
   "cell_type": "markdown",
   "id": "aa906f98",
   "metadata": {},
   "source": [
    "## 2. Recal Secure"
   ]
  },
  {
   "cell_type": "markdown",
   "id": "358b177a",
   "metadata": {},
   "source": [
    "### A- Recall Secure"
   ]
  },
  {
   "cell_type": "code",
   "execution_count": 92,
   "id": "f7dd26ba",
   "metadata": {},
   "outputs": [
    {
     "data": {
      "text/html": [
       "<div>\n",
       "<style scoped>\n",
       "    .dataframe tbody tr th:only-of-type {\n",
       "        vertical-align: middle;\n",
       "    }\n",
       "\n",
       "    .dataframe tbody tr th {\n",
       "        vertical-align: top;\n",
       "    }\n",
       "\n",
       "    .dataframe thead th {\n",
       "        text-align: right;\n",
       "    }\n",
       "</style>\n",
       "<table border=\"1\" class=\"dataframe\">\n",
       "  <thead>\n",
       "    <tr style=\"text-align: right;\">\n",
       "      <th></th>\n",
       "      <th>Mozilla</th>\n",
       "      <th>Eclipse</th>\n",
       "      <th>Firefox</th>\n",
       "    </tr>\n",
       "  </thead>\n",
       "  <tbody>\n",
       "    <tr>\n",
       "      <th>Decision_Tree</th>\n",
       "      <td>0.96</td>\n",
       "      <td>0.95</td>\n",
       "      <td>0.93</td>\n",
       "    </tr>\n",
       "    <tr>\n",
       "      <th>SVM</th>\n",
       "      <td>1.0</td>\n",
       "      <td>0.96</td>\n",
       "      <td>0.96</td>\n",
       "    </tr>\n",
       "    <tr>\n",
       "      <th>Stacking Naive_Bayes</th>\n",
       "      <td>0.95</td>\n",
       "      <td>0.93</td>\n",
       "      <td>0.96</td>\n",
       "    </tr>\n",
       "  </tbody>\n",
       "</table>\n",
       "</div>"
      ],
      "text/plain": [
       "                     Mozilla Eclipse Firefox\n",
       "Decision_Tree           0.96    0.95    0.93\n",
       "SVM                      1.0    0.96    0.96\n",
       "Stacking Naive_Bayes    0.95    0.93    0.96"
      ]
     },
     "execution_count": 92,
     "metadata": {},
     "output_type": "execute_result"
    }
   ],
   "source": [
    "recal_secure=create_data_score('Recall Secure')\n",
    "recal_secure"
   ]
  },
  {
   "cell_type": "code",
   "execution_count": 93,
   "id": "1caa124a",
   "metadata": {},
   "outputs": [
    {
     "data": {
      "image/png": "[encoded data removed]",
      "text/plain": [
       "<Figure size 576x432 with 1 Axes>"
      ]
     },
     "metadata": {
      "needs_background": "light"
     },
     "output_type": "display_data"
    }
   ],
   "source": [
    "show_metric(recal_secure,'Recall secure')\n"
   ]
  },
  {
   "cell_type": "markdown",
   "id": "d280c9f7",
   "metadata": {},
   "source": [
    "### B- Recall No Secure"
   ]
  },
  {
   "cell_type": "code",
   "execution_count": 94,
   "id": "fb613580",
   "metadata": {},
   "outputs": [
    {
     "data": {
      "text/html": [
       "<div>\n",
       "<style scoped>\n",
       "    .dataframe tbody tr th:only-of-type {\n",
       "        vertical-align: middle;\n",
       "    }\n",
       "\n",
       "    .dataframe tbody tr th {\n",
       "        vertical-align: top;\n",
       "    }\n",
       "\n",
       "    .dataframe thead th {\n",
       "        text-align: right;\n",
       "    }\n",
       "</style>\n",
       "<table border=\"1\" class=\"dataframe\">\n",
       "  <thead>\n",
       "    <tr style=\"text-align: right;\">\n",
       "      <th></th>\n",
       "      <th>Mozilla</th>\n",
       "      <th>Eclipse</th>\n",
       "      <th>Firefox</th>\n",
       "    </tr>\n",
       "  </thead>\n",
       "  <tbody>\n",
       "    <tr>\n",
       "      <th>Decision_Tree</th>\n",
       "      <td>0.85</td>\n",
       "      <td>0.86</td>\n",
       "      <td>0.85</td>\n",
       "    </tr>\n",
       "    <tr>\n",
       "      <th>SVM</th>\n",
       "      <td>0.1</td>\n",
       "      <td>0.17</td>\n",
       "      <td>0.02</td>\n",
       "    </tr>\n",
       "    <tr>\n",
       "      <th>Stacking Naive_Bayes</th>\n",
       "      <td>0.88</td>\n",
       "      <td>0.88</td>\n",
       "      <td>0.87</td>\n",
       "    </tr>\n",
       "  </tbody>\n",
       "</table>\n",
       "</div>"
      ],
      "text/plain": [
       "                     Mozilla Eclipse Firefox\n",
       "Decision_Tree           0.85    0.86    0.85\n",
       "SVM                      0.1    0.17    0.02\n",
       "Stacking Naive_Bayes    0.88    0.88    0.87"
      ]
     },
     "execution_count": 94,
     "metadata": {},
     "output_type": "execute_result"
    }
   ],
   "source": [
    "recall_no_secure=create_data_score('Recall No Secure')\n",
    "recall_no_secure"
   ]
  },
  {
   "cell_type": "code",
   "execution_count": 95,
   "id": "ceee480f",
   "metadata": {},
   "outputs": [
    {
     "data": {
      "image/png": "[encoded data removed]",
      "text/plain": [
       "<Figure size 576x432 with 1 Axes>"
      ]
     },
     "metadata": {
      "needs_background": "light"
     },
     "output_type": "display_data"
    }
   ],
   "source": [
    "show_metric(recall_no_secure,'Recall No secure')\n"
   ]
  },
  {
   "cell_type": "markdown",
   "id": "f7f62c86",
   "metadata": {},
   "source": [
    "## 3. F Measure "
   ]
  },
  {
   "cell_type": "markdown",
   "id": "09900a36",
   "metadata": {},
   "source": [
    "### A- F measure Secure"
   ]
  },
  {
   "cell_type": "code",
   "execution_count": 96,
   "id": "58d3a0a5",
   "metadata": {},
   "outputs": [
    {
     "data": {
      "text/html": [
       "<div>\n",
       "<style scoped>\n",
       "    .dataframe tbody tr th:only-of-type {\n",
       "        vertical-align: middle;\n",
       "    }\n",
       "\n",
       "    .dataframe tbody tr th {\n",
       "        vertical-align: top;\n",
       "    }\n",
       "\n",
       "    .dataframe thead th {\n",
       "        text-align: right;\n",
       "    }\n",
       "</style>\n",
       "<table border=\"1\" class=\"dataframe\">\n",
       "  <thead>\n",
       "    <tr style=\"text-align: right;\">\n",
       "      <th></th>\n",
       "      <th>Mozilla</th>\n",
       "      <th>Eclipse</th>\n",
       "      <th>Firefox</th>\n",
       "    </tr>\n",
       "  </thead>\n",
       "  <tbody>\n",
       "    <tr>\n",
       "      <th>Decision_Tree</th>\n",
       "      <td>0.94</td>\n",
       "      <td>0.92</td>\n",
       "      <td>0.9</td>\n",
       "    </tr>\n",
       "    <tr>\n",
       "      <th>SVM</th>\n",
       "      <td>0.8</td>\n",
       "      <td>0.75</td>\n",
       "      <td>0.67</td>\n",
       "    </tr>\n",
       "    <tr>\n",
       "      <th>Stacking Naive_Bayes</th>\n",
       "      <td>0.94</td>\n",
       "      <td>0.92</td>\n",
       "      <td>0.92</td>\n",
       "    </tr>\n",
       "  </tbody>\n",
       "</table>\n",
       "</div>"
      ],
      "text/plain": [
       "                     Mozilla Eclipse Firefox\n",
       "Decision_Tree           0.94    0.92     0.9\n",
       "SVM                      0.8    0.75    0.67\n",
       "Stacking Naive_Bayes    0.94    0.92    0.92"
      ]
     },
     "execution_count": 96,
     "metadata": {},
     "output_type": "execute_result"
    }
   ],
   "source": [
    "f_measure_secure=create_data_score('F mesure Secure')\n",
    "f_measure_secure"
   ]
  },
  {
   "cell_type": "code",
   "execution_count": 97,
   "id": "d8001b88",
   "metadata": {},
   "outputs": [
    {
     "data": {
      "image/png": "[encoded data removed]",
      "text/plain": [
       "<Figure size 576x432 with 1 Axes>"
      ]
     },
     "metadata": {
      "needs_background": "light"
     },
     "output_type": "display_data"
    }
   ],
   "source": [
    "show_metric(recal_secure,'F measure secure')\n"
   ]
  },
  {
   "cell_type": "markdown",
   "id": "5f8161cb",
   "metadata": {},
   "source": [
    "### B- F_ measure No Secure"
   ]
  },
  {
   "cell_type": "code",
   "execution_count": 98,
   "id": "61d0e0c1",
   "metadata": {},
   "outputs": [
    {
     "data": {
      "text/html": [
       "<div>\n",
       "<style scoped>\n",
       "    .dataframe tbody tr th:only-of-type {\n",
       "        vertical-align: middle;\n",
       "    }\n",
       "\n",
       "    .dataframe tbody tr th {\n",
       "        vertical-align: top;\n",
       "    }\n",
       "\n",
       "    .dataframe thead th {\n",
       "        text-align: right;\n",
       "    }\n",
       "</style>\n",
       "<table border=\"1\" class=\"dataframe\">\n",
       "  <thead>\n",
       "    <tr style=\"text-align: right;\">\n",
       "      <th></th>\n",
       "      <th>Mozilla</th>\n",
       "      <th>Eclipse</th>\n",
       "      <th>Firefox</th>\n",
       "    </tr>\n",
       "  </thead>\n",
       "  <tbody>\n",
       "    <tr>\n",
       "      <th>Decision_Tree</th>\n",
       "      <td>0.88</td>\n",
       "      <td>0.89</td>\n",
       "      <td>0.88</td>\n",
       "    </tr>\n",
       "    <tr>\n",
       "      <th>SVM</th>\n",
       "      <td>0.17</td>\n",
       "      <td>0.28</td>\n",
       "      <td>0.03</td>\n",
       "    </tr>\n",
       "    <tr>\n",
       "      <th>Stacking Naive_Bayes</th>\n",
       "      <td>0.89</td>\n",
       "      <td>0.89</td>\n",
       "      <td>0.91</td>\n",
       "    </tr>\n",
       "  </tbody>\n",
       "</table>\n",
       "</div>"
      ],
      "text/plain": [
       "                     Mozilla Eclipse Firefox\n",
       "Decision_Tree           0.88    0.89    0.88\n",
       "SVM                     0.17    0.28    0.03\n",
       "Stacking Naive_Bayes    0.89    0.89    0.91"
      ]
     },
     "execution_count": 98,
     "metadata": {},
     "output_type": "execute_result"
    }
   ],
   "source": [
    "f_measure_no_secure=create_data_score('F mesure No Secure')\n",
    "f_measure_no_secure"
   ]
  },
  {
   "cell_type": "code",
   "execution_count": 99,
   "id": "3f00044b",
   "metadata": {},
   "outputs": [
    {
     "data": {
      "image/png": "[encoded data removed]",
      "text/plain": [
       "<Figure size 576x432 with 1 Axes>"
      ]
     },
     "metadata": {
      "needs_background": "light"
     },
     "output_type": "display_data"
    }
   ],
   "source": [
    "show_metric(f_measure_no_secure,'F Measure No secure')\n"
   ]
  },
  {
   "cell_type": "markdown",
   "id": "03cba509",
   "metadata": {},
   "source": [
    "## 4. Accuracy"
   ]
  },
  {
   "cell_type": "markdown",
   "id": "67f96d7e",
   "metadata": {},
   "source": [
    "### Acuuracy"
   ]
  },
  {
   "cell_type": "code",
   "execution_count": 100,
   "id": "044ac61d",
   "metadata": {},
   "outputs": [
    {
     "data": {
      "text/html": [
       "<div>\n",
       "<style scoped>\n",
       "    .dataframe tbody tr th:only-of-type {\n",
       "        vertical-align: middle;\n",
       "    }\n",
       "\n",
       "    .dataframe tbody tr th {\n",
       "        vertical-align: top;\n",
       "    }\n",
       "\n",
       "    .dataframe thead th {\n",
       "        text-align: right;\n",
       "    }\n",
       "</style>\n",
       "<table border=\"1\" class=\"dataframe\">\n",
       "  <thead>\n",
       "    <tr style=\"text-align: right;\">\n",
       "      <th></th>\n",
       "      <th>Mozilla</th>\n",
       "      <th>Eclipse</th>\n",
       "      <th>Firefox</th>\n",
       "    </tr>\n",
       "  </thead>\n",
       "  <tbody>\n",
       "    <tr>\n",
       "      <th>Decision_Tree</th>\n",
       "      <td>0.92</td>\n",
       "      <td>0.91</td>\n",
       "      <td>0.89</td>\n",
       "    </tr>\n",
       "    <tr>\n",
       "      <th>SVM</th>\n",
       "      <td>0.68</td>\n",
       "      <td>0.63</td>\n",
       "      <td>0.51</td>\n",
       "    </tr>\n",
       "    <tr>\n",
       "      <th>Stacking Naive_Bayes</th>\n",
       "      <td>0.93</td>\n",
       "      <td>0.91</td>\n",
       "      <td>0.91</td>\n",
       "    </tr>\n",
       "  </tbody>\n",
       "</table>\n",
       "</div>"
      ],
      "text/plain": [
       "                     Mozilla Eclipse Firefox\n",
       "Decision_Tree           0.92    0.91    0.89\n",
       "SVM                     0.68    0.63    0.51\n",
       "Stacking Naive_Bayes    0.93    0.91    0.91"
      ]
     },
     "execution_count": 100,
     "metadata": {},
     "output_type": "execute_result"
    }
   ],
   "source": [
    "accuracy=create_data_score('Accuracy')\n",
    "accuracy"
   ]
  },
  {
   "cell_type": "code",
   "execution_count": 101,
   "id": "ab29a619",
   "metadata": {},
   "outputs": [
    {
     "data": {
      "image/png": "[encoded data removed]",
      "text/plain": [
       "<Figure size 576x432 with 1 Axes>"
      ]
     },
     "metadata": {
      "needs_background": "light"
     },
     "output_type": "display_data"
    }
   ],
   "source": [
    "show_metric(accuracy,'accuracy')\n"
   ]
  },
  {
   "cell_type": "markdown",
   "id": "1a9d9446",
   "metadata": {},
   "source": [
    "# The best results in all the metrics used ( Accuracy, Precision, F measure and Recall ) are obtained from the <font color='red'> Stacking Naive Bayes.</font> \n",
    "# So for our data,<font color='blue'> Stacking Naive Bayes </font>  is the best Model"
   ]
  },
  {
   "cell_type": "markdown",
   "id": "87a62d2c",
   "metadata": {},
   "source": [
    "## <font color='red'>NB: </font> \n",
    " - the results of the different metrics: accuracy, F measure Recall and Precision change at each execution of the Notebook, and this is due to the chaotic character of the Random function, used in the split, The generation of word embeding as found in the models."
   ]
  },
  {
   "cell_type": "markdown",
   "id": "2759f1de",
   "metadata": {},
   "source": [
    "# Compeartive with The proposed method with the best Experiment of preivous study based on F Measure "
   ]
  },
  {
   "cell_type": "markdown",
   "id": "22c85f5d",
   "metadata": {},
   "source": [
    "# Thank you"
   ]
  }
 ],
 "metadata": {
  "kernelspec": {
   "display_name": "Python 3 (ipykernel)",
   "language": "python",
   "name": "python3"
  },
  "language_info": {
   "codemirror_mode": {
    "name": "ipython",
    "version": 3
   },
   "file_extension": ".py",
   "mimetype": "text/x-python",
   "name": "python",
   "nbconvert_exporter": "python",
   "pygments_lexer": "ipython3",
   "version": "3.9.7"
  }
 },
 "nbformat": 4,
 "nbformat_minor": 5
}
